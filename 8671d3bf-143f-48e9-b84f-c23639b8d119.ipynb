{
 "cells": [
  {
   "cell_type": "markdown",
   "metadata": {},
   "source": [
    "# Декомпозиция. \n",
    "\n",
    "\n",
    "**Цель**: Уменьшить отток клиентов банка. \n",
    "\n",
    "**Задача**: Сегментировать клиентов банка и выявлением особенности каждой из групп для улучшения вовлеченности, сформировать рекомендации для каждого из сегментов. \n",
    "\n",
    "**План работы:**\n",
    "  1. ***Загрузка данных и библиотек***\n",
    "  \n",
    "  2. **Предобработка.** В данном пунтке мы рассмотрим наш набор данных, проанализируем его на наличие явных и неявных дубликатов, пропусков, выбросов. \n",
    "  \n",
    "  3. ***Исследовательский анализ данных.*** Исследование распределение в признаках, какие-то зависимостей. \n",
    "  \n",
    "  4. ***Сегментация/описание портретов сегментов.*** Распеределение данных на сегменты, описание портретов получивших сегментов, выявление сильных и слабых сторон. Определение заинтересованности клиентов в каждом из сегментов. \n",
    "  \n",
    "  5. ***Статистическая проверка гипотез.*** Предположение гипотез на основе данных полученных в предыдущих пунктах. \n",
    "  \n",
    "  6. ***Выводы, рекомендации по удержанию.*** Описание продуктовых рекомендации по каждому из сегментов. \n",
    "  "
   ]
  },
  {
   "cell_type": "markdown",
   "metadata": {},
   "source": [
    "# Сегментация пользователей  банка по потреблению\n",
    "\n",
    "**Задача**:\n",
    "\n",
    "Проанализируйте клиентов регионального банка и сегментируйте пользователей по количеству потребляемых продуктов, обращая особое внимание на отток.\n",
    "\n",
    "- Проведите исследовательский анализ данных,\n",
    "- Сегментируйте пользователей на основе данных о количестве потребляемых продуктов,\n",
    "- Сформулируйте и проверьте статистические гипотезы.\n",
    "    \n",
    "*Проверьте гипотезу различия возраста между теми клиентами, которые пользуются двумя продуктами банка, и теми, которые пользуются одним.*\n",
    "    \n",
    "*Сформулируйте и проверьте статистическую гипотезу относительно представленных данных.*\n",
    "    \n",
    "\n",
    "(задачи выше сформулированы предварительно, окончательная постановка задачи произойдёт на вводной встрече)\n",
    "\n",
    "\n",
    "**Описание данных:**\n",
    "\n",
    "Датасет содержит данные о клиентах банка «Метанпром». Банк располагается в Ярославле и областных городах: Ростов Великий и Рыбинск.\n",
    "\n",
    "Колонки:\n",
    "\n",
    "- `userid` — идентификатор пользователя,\n",
    "- `score` — баллы кредитного скоринга,\n",
    "- `City` — город,\n",
    "- `Gender` — пол,\n",
    "- `Age` — возраст,\n",
    "- `Equity` — количество объектов в собственности,\n",
    "- `Balance` — баланс на счёте,\n",
    "- `Products` — количество продуктов, которыми пользуется клиент,\n",
    "- `CreditCard` — есть ли кредитная карта,\n",
    "- `Loyalty` — активный клиент,\n",
    "- `estimated_salary` — заработная плата клиента,\n",
    "- `Churn` — ушёл или нет.\n",
    "\n",
    "По итогам исследования подготовьте презентацию. Для создания презентации используйте любой удобный инструмент, но отправить презентацию нужно **обязательно** в формате **pdf**."
   ]
  },
  {
   "cell_type": "markdown",
   "metadata": {},
   "source": [
    "## Загрузка данных"
   ]
  },
  {
   "cell_type": "code",
   "execution_count": 1,
   "metadata": {},
   "outputs": [],
   "source": [
    "import pandas as pd \n",
    "import matplotlib.pyplot as plt\n",
    "import seaborn as sns\n",
    "from sklearn.preprocessing import OneHotEncoder\n",
    "import numpy as np\n",
    "from scipy import stats as st"
   ]
  },
  {
   "cell_type": "code",
   "execution_count": 2,
   "metadata": {},
   "outputs": [],
   "source": [
    "def one_plot_creator(df, x, y, text=None,\n",
    "                     title='default tittle', xaxis_title='default xaxis tittle', yaxis_title='default yaxis tittle',\n",
    "                     legend_title= None, \n",
    "                     orientation='v', height=500, showlegend=True, hue = None):\n",
    "\n",
    "    plt.figure(figsize=(15, 5))\n",
    "    sns.barplot(x=x , y=y, data=df, alpha=0.6, orient=orientation, hue = hue, palette=\"rainbow\")\n",
    "    plt.title(title)\n",
    "    plt.xlabel(xaxis_title)\n",
    "    plt.ylabel(yaxis_title)\n",
    "    plt.legend(title=legend_title, bbox_to_anchor=(1,0.8)) \n",
    "    \n",
    "    return fig\n",
    "\n",
    "def pie_plot(df, labels, title = 'default tittle',legend_title = 'default legend tittle'):\n",
    "    colors = ['lightblue', 'pink', 'purple', 'grey', 'gold']\n",
    "    \n",
    "    plt.figure(figsize=(15,5))\n",
    "    plt.title(title)\n",
    "    plt.pie(df, labels = labels, autopct='%.0f%%',colors = colors)\n",
    "    plt.legend(title=legend_title, bbox_to_anchor=(1, 0.6))\n",
    "    plt.show()\n",
    "    \n",
    "    return fig"
   ]
  },
  {
   "cell_type": "code",
   "execution_count": 3,
   "metadata": {},
   "outputs": [
    {
     "data": {
      "text/html": [
       "<div>\n",
       "<style scoped>\n",
       "    .dataframe tbody tr th:only-of-type {\n",
       "        vertical-align: middle;\n",
       "    }\n",
       "\n",
       "    .dataframe tbody tr th {\n",
       "        vertical-align: top;\n",
       "    }\n",
       "\n",
       "    .dataframe thead th {\n",
       "        text-align: right;\n",
       "    }\n",
       "</style>\n",
       "<table border=\"1\" class=\"dataframe\">\n",
       "  <thead>\n",
       "    <tr style=\"text-align: right;\">\n",
       "      <th></th>\n",
       "      <th>USERID</th>\n",
       "      <th>score</th>\n",
       "      <th>city</th>\n",
       "      <th>gender</th>\n",
       "      <th>age</th>\n",
       "      <th>equity</th>\n",
       "      <th>balance</th>\n",
       "      <th>products</th>\n",
       "      <th>credit_card</th>\n",
       "      <th>last_activity</th>\n",
       "      <th>EST_SALARY</th>\n",
       "      <th>churn</th>\n",
       "    </tr>\n",
       "  </thead>\n",
       "  <tbody>\n",
       "    <tr>\n",
       "      <th>0</th>\n",
       "      <td>183012</td>\n",
       "      <td>850.0</td>\n",
       "      <td>Рыбинск</td>\n",
       "      <td>Ж</td>\n",
       "      <td>25.0</td>\n",
       "      <td>1</td>\n",
       "      <td>59214.82</td>\n",
       "      <td>2</td>\n",
       "      <td>0</td>\n",
       "      <td>1</td>\n",
       "      <td>75719.14</td>\n",
       "      <td>1</td>\n",
       "    </tr>\n",
       "    <tr>\n",
       "      <th>1</th>\n",
       "      <td>146556</td>\n",
       "      <td>861.0</td>\n",
       "      <td>Рыбинск</td>\n",
       "      <td>Ж</td>\n",
       "      <td>37.0</td>\n",
       "      <td>5</td>\n",
       "      <td>850594.33</td>\n",
       "      <td>3</td>\n",
       "      <td>1</td>\n",
       "      <td>0</td>\n",
       "      <td>86621.77</td>\n",
       "      <td>0</td>\n",
       "    </tr>\n",
       "    <tr>\n",
       "      <th>2</th>\n",
       "      <td>120722</td>\n",
       "      <td>892.0</td>\n",
       "      <td>Рыбинск</td>\n",
       "      <td>Ж</td>\n",
       "      <td>30.0</td>\n",
       "      <td>0</td>\n",
       "      <td>NaN</td>\n",
       "      <td>1</td>\n",
       "      <td>1</td>\n",
       "      <td>1</td>\n",
       "      <td>107683.34</td>\n",
       "      <td>0</td>\n",
       "    </tr>\n",
       "    <tr>\n",
       "      <th>3</th>\n",
       "      <td>225363</td>\n",
       "      <td>866.0</td>\n",
       "      <td>Ярославль</td>\n",
       "      <td>Ж</td>\n",
       "      <td>51.0</td>\n",
       "      <td>5</td>\n",
       "      <td>1524746.26</td>\n",
       "      <td>2</td>\n",
       "      <td>0</td>\n",
       "      <td>1</td>\n",
       "      <td>174423.53</td>\n",
       "      <td>1</td>\n",
       "    </tr>\n",
       "    <tr>\n",
       "      <th>4</th>\n",
       "      <td>157978</td>\n",
       "      <td>730.0</td>\n",
       "      <td>Ярославль</td>\n",
       "      <td>М</td>\n",
       "      <td>34.0</td>\n",
       "      <td>5</td>\n",
       "      <td>174.00</td>\n",
       "      <td>1</td>\n",
       "      <td>1</td>\n",
       "      <td>0</td>\n",
       "      <td>67353.16</td>\n",
       "      <td>1</td>\n",
       "    </tr>\n",
       "  </tbody>\n",
       "</table>\n",
       "</div>"
      ],
      "text/plain": [
       "   USERID  score       city gender   age  equity     balance  products  \\\n",
       "0  183012  850.0    Рыбинск      Ж  25.0       1    59214.82         2   \n",
       "1  146556  861.0    Рыбинск      Ж  37.0       5   850594.33         3   \n",
       "2  120722  892.0    Рыбинск      Ж  30.0       0         NaN         1   \n",
       "3  225363  866.0  Ярославль      Ж  51.0       5  1524746.26         2   \n",
       "4  157978  730.0  Ярославль      М  34.0       5      174.00         1   \n",
       "\n",
       "   credit_card  last_activity  EST_SALARY  churn  \n",
       "0            0              1    75719.14      1  \n",
       "1            1              0    86621.77      0  \n",
       "2            1              1   107683.34      0  \n",
       "3            0              1   174423.53      1  \n",
       "4            1              0    67353.16      1  "
      ]
     },
     "execution_count": 3,
     "metadata": {},
     "output_type": "execute_result"
    }
   ],
   "source": [
    "# чтение файла bank_scrooge.csv с данными и сохранение его в переменную \n",
    "path = \"https://drive.google.com/uc?export=download&id=1-U61mhTz_N1ARjy2XSAZ7IlQqGjeqP0F\" \n",
    "data = pd.read_csv(path)\n",
    "\n",
    "data.head(5)"
   ]
  },
  {
   "cell_type": "markdown",
   "metadata": {},
   "source": [
    "## Предобработка\n",
    "\n",
    "### Дубликаты"
   ]
  },
  {
   "cell_type": "code",
   "execution_count": 4,
   "metadata": {
    "scrolled": true
   },
   "outputs": [
    {
     "name": "stdout",
     "output_type": "stream",
     "text": [
      "Количество дубликатов:0\n",
      "Уникальные значения из столбца city: ['рыбинск' 'ярославль' 'ростов']\n",
      "Количество дубликатов userid:0\n"
     ]
    },
    {
     "data": {
      "text/html": [
       "<div>\n",
       "<style scoped>\n",
       "    .dataframe tbody tr th:only-of-type {\n",
       "        vertical-align: middle;\n",
       "    }\n",
       "\n",
       "    .dataframe tbody tr th {\n",
       "        vertical-align: top;\n",
       "    }\n",
       "\n",
       "    .dataframe thead th {\n",
       "        text-align: right;\n",
       "    }\n",
       "</style>\n",
       "<table border=\"1\" class=\"dataframe\">\n",
       "  <thead>\n",
       "    <tr style=\"text-align: right;\">\n",
       "      <th></th>\n",
       "      <th>user_id</th>\n",
       "      <th>score</th>\n",
       "      <th>city</th>\n",
       "      <th>gender</th>\n",
       "      <th>age</th>\n",
       "      <th>equity</th>\n",
       "      <th>balance</th>\n",
       "      <th>products</th>\n",
       "      <th>credit_card</th>\n",
       "      <th>last_activity</th>\n",
       "      <th>est_salary</th>\n",
       "      <th>churn</th>\n",
       "    </tr>\n",
       "  </thead>\n",
       "  <tbody>\n",
       "    <tr>\n",
       "      <th>7694</th>\n",
       "      <td>116540</td>\n",
       "      <td>887.0</td>\n",
       "      <td>ярославль</td>\n",
       "      <td>Ж</td>\n",
       "      <td>38.0</td>\n",
       "      <td>0</td>\n",
       "      <td>NaN</td>\n",
       "      <td>1</td>\n",
       "      <td>0</td>\n",
       "      <td>1</td>\n",
       "      <td>119247.61</td>\n",
       "      <td>0</td>\n",
       "    </tr>\n",
       "    <tr>\n",
       "      <th>7542</th>\n",
       "      <td>117943</td>\n",
       "      <td>880.0</td>\n",
       "      <td>ярославль</td>\n",
       "      <td>Ж</td>\n",
       "      <td>40.0</td>\n",
       "      <td>0</td>\n",
       "      <td>NaN</td>\n",
       "      <td>1</td>\n",
       "      <td>1</td>\n",
       "      <td>0</td>\n",
       "      <td>137718.93</td>\n",
       "      <td>0</td>\n",
       "    </tr>\n",
       "    <tr>\n",
       "      <th>5896</th>\n",
       "      <td>120258</td>\n",
       "      <td>905.0</td>\n",
       "      <td>ярославль</td>\n",
       "      <td>М</td>\n",
       "      <td>30.0</td>\n",
       "      <td>0</td>\n",
       "      <td>NaN</td>\n",
       "      <td>1</td>\n",
       "      <td>1</td>\n",
       "      <td>1</td>\n",
       "      <td>146427.96</td>\n",
       "      <td>0</td>\n",
       "    </tr>\n",
       "    <tr>\n",
       "      <th>8638</th>\n",
       "      <td>123461</td>\n",
       "      <td>934.0</td>\n",
       "      <td>рыбинск</td>\n",
       "      <td>М</td>\n",
       "      <td>34.0</td>\n",
       "      <td>0</td>\n",
       "      <td>NaN</td>\n",
       "      <td>2</td>\n",
       "      <td>1</td>\n",
       "      <td>0</td>\n",
       "      <td>291619.27</td>\n",
       "      <td>0</td>\n",
       "    </tr>\n",
       "    <tr>\n",
       "      <th>9775</th>\n",
       "      <td>124450</td>\n",
       "      <td>758.0</td>\n",
       "      <td>рыбинск</td>\n",
       "      <td>Ж</td>\n",
       "      <td>36.0</td>\n",
       "      <td>0</td>\n",
       "      <td>73574.07</td>\n",
       "      <td>2</td>\n",
       "      <td>0</td>\n",
       "      <td>1</td>\n",
       "      <td>79963.59</td>\n",
       "      <td>0</td>\n",
       "    </tr>\n",
       "    <tr>\n",
       "      <th>...</th>\n",
       "      <td>...</td>\n",
       "      <td>...</td>\n",
       "      <td>...</td>\n",
       "      <td>...</td>\n",
       "      <td>...</td>\n",
       "      <td>...</td>\n",
       "      <td>...</td>\n",
       "      <td>...</td>\n",
       "      <td>...</td>\n",
       "      <td>...</td>\n",
       "      <td>...</td>\n",
       "      <td>...</td>\n",
       "    </tr>\n",
       "    <tr>\n",
       "      <th>9104</th>\n",
       "      <td>222480</td>\n",
       "      <td>776.0</td>\n",
       "      <td>рыбинск</td>\n",
       "      <td>Ж</td>\n",
       "      <td>NaN</td>\n",
       "      <td>5</td>\n",
       "      <td>796735.09</td>\n",
       "      <td>1</td>\n",
       "      <td>1</td>\n",
       "      <td>1</td>\n",
       "      <td>55073.63</td>\n",
       "      <td>0</td>\n",
       "    </tr>\n",
       "    <tr>\n",
       "      <th>8070</th>\n",
       "      <td>226550</td>\n",
       "      <td>940.0</td>\n",
       "      <td>рыбинск</td>\n",
       "      <td>М</td>\n",
       "      <td>NaN</td>\n",
       "      <td>0</td>\n",
       "      <td>NaN</td>\n",
       "      <td>1</td>\n",
       "      <td>0</td>\n",
       "      <td>1</td>\n",
       "      <td>147696.95</td>\n",
       "      <td>0</td>\n",
       "    </tr>\n",
       "    <tr>\n",
       "      <th>4216</th>\n",
       "      <td>226719</td>\n",
       "      <td>903.0</td>\n",
       "      <td>рыбинск</td>\n",
       "      <td>Ж</td>\n",
       "      <td>63.0</td>\n",
       "      <td>0</td>\n",
       "      <td>NaN</td>\n",
       "      <td>1</td>\n",
       "      <td>1</td>\n",
       "      <td>0</td>\n",
       "      <td>138582.58</td>\n",
       "      <td>0</td>\n",
       "    </tr>\n",
       "    <tr>\n",
       "      <th>8497</th>\n",
       "      <td>227795</td>\n",
       "      <td>839.0</td>\n",
       "      <td>ярославль</td>\n",
       "      <td>М</td>\n",
       "      <td>34.0</td>\n",
       "      <td>2</td>\n",
       "      <td>326593.14</td>\n",
       "      <td>2</td>\n",
       "      <td>1</td>\n",
       "      <td>0</td>\n",
       "      <td>103314.92</td>\n",
       "      <td>0</td>\n",
       "    </tr>\n",
       "    <tr>\n",
       "      <th>6457</th>\n",
       "      <td>228075</td>\n",
       "      <td>839.0</td>\n",
       "      <td>рыбинск</td>\n",
       "      <td>М</td>\n",
       "      <td>39.0</td>\n",
       "      <td>5</td>\n",
       "      <td>507199.85</td>\n",
       "      <td>3</td>\n",
       "      <td>0</td>\n",
       "      <td>1</td>\n",
       "      <td>85195.80</td>\n",
       "      <td>0</td>\n",
       "    </tr>\n",
       "  </tbody>\n",
       "</table>\n",
       "<p>73 rows × 12 columns</p>\n",
       "</div>"
      ],
      "text/plain": [
       "      user_id  score       city gender   age  equity    balance  products  \\\n",
       "7694   116540  887.0  ярославль      Ж  38.0       0        NaN         1   \n",
       "7542   117943  880.0  ярославль      Ж  40.0       0        NaN         1   \n",
       "5896   120258  905.0  ярославль      М  30.0       0        NaN         1   \n",
       "8638   123461  934.0    рыбинск      М  34.0       0        NaN         2   \n",
       "9775   124450  758.0    рыбинск      Ж  36.0       0   73574.07         2   \n",
       "...       ...    ...        ...    ...   ...     ...        ...       ...   \n",
       "9104   222480  776.0    рыбинск      Ж   NaN       5  796735.09         1   \n",
       "8070   226550  940.0    рыбинск      М   NaN       0        NaN         1   \n",
       "4216   226719  903.0    рыбинск      Ж  63.0       0        NaN         1   \n",
       "8497   227795  839.0  ярославль      М  34.0       2  326593.14         2   \n",
       "6457   228075  839.0    рыбинск      М  39.0       5  507199.85         3   \n",
       "\n",
       "      credit_card  last_activity  est_salary  churn  \n",
       "7694            0              1   119247.61      0  \n",
       "7542            1              0   137718.93      0  \n",
       "5896            1              1   146427.96      0  \n",
       "8638            1              0   291619.27      0  \n",
       "9775            0              1    79963.59      0  \n",
       "...           ...            ...         ...    ...  \n",
       "9104            1              1    55073.63      0  \n",
       "8070            0              1   147696.95      0  \n",
       "4216            1              0   138582.58      0  \n",
       "8497            1              0   103314.92      0  \n",
       "6457            0              1    85195.80      0  \n",
       "\n",
       "[73 rows x 12 columns]"
      ]
     },
     "metadata": {},
     "output_type": "display_data"
    }
   ],
   "source": [
    "#меняем название столбцов для удобства в дальнейшей работе \n",
    "data.columns = data.columns.str.lower()\n",
    "data = data.rename(columns={'userid':'user_id'})\n",
    "\n",
    "#проверяем набор на дулибликаты\n",
    "print(f'Количество дубликатов:{data.duplicated().sum()}')\n",
    "\n",
    "#теперь в столбце город преведем названия к строчному типу, чтобы проверить неявные дубликаты\n",
    "data['city'] = data['city'].str.lower()\n",
    "print('Уникальные значения из столбца city:',data['city'].unique())\n",
    "\n",
    "#проверим значения в столбце userid, так как это уникальный номер пользователя\n",
    "print(f'Количество дубликатов userid:{data.duplicated().sum()}')\n",
    "\n",
    "display(data[data['user_id'].duplicated()].sort_values(by='user_id'))\n"
   ]
  },
  {
   "cell_type": "markdown",
   "metadata": {},
   "source": [
    "Мы удалила полные дубликать, но остались одинаковые значения в столбце user_id, поэтому рассмотрим их поподробнее"
   ]
  },
  {
   "cell_type": "code",
   "execution_count": 5,
   "metadata": {
    "scrolled": true
   },
   "outputs": [
    {
     "data": {
      "text/html": [
       "<div>\n",
       "<style scoped>\n",
       "    .dataframe tbody tr th:only-of-type {\n",
       "        vertical-align: middle;\n",
       "    }\n",
       "\n",
       "    .dataframe tbody tr th {\n",
       "        vertical-align: top;\n",
       "    }\n",
       "\n",
       "    .dataframe thead th {\n",
       "        text-align: right;\n",
       "    }\n",
       "</style>\n",
       "<table border=\"1\" class=\"dataframe\">\n",
       "  <thead>\n",
       "    <tr style=\"text-align: right;\">\n",
       "      <th></th>\n",
       "      <th>user_id</th>\n",
       "      <th>score</th>\n",
       "      <th>city</th>\n",
       "      <th>gender</th>\n",
       "      <th>age</th>\n",
       "      <th>equity</th>\n",
       "      <th>balance</th>\n",
       "      <th>products</th>\n",
       "      <th>credit_card</th>\n",
       "      <th>last_activity</th>\n",
       "      <th>est_salary</th>\n",
       "      <th>churn</th>\n",
       "    </tr>\n",
       "  </thead>\n",
       "  <tbody>\n",
       "    <tr>\n",
       "      <th>1893</th>\n",
       "      <td>116540</td>\n",
       "      <td>883.0</td>\n",
       "      <td>рыбинск</td>\n",
       "      <td>Ж</td>\n",
       "      <td>55.0</td>\n",
       "      <td>1</td>\n",
       "      <td>362756.49</td>\n",
       "      <td>3</td>\n",
       "      <td>0</td>\n",
       "      <td>1</td>\n",
       "      <td>175920.48</td>\n",
       "      <td>1</td>\n",
       "    </tr>\n",
       "    <tr>\n",
       "      <th>7694</th>\n",
       "      <td>116540</td>\n",
       "      <td>887.0</td>\n",
       "      <td>ярославль</td>\n",
       "      <td>Ж</td>\n",
       "      <td>38.0</td>\n",
       "      <td>0</td>\n",
       "      <td>NaN</td>\n",
       "      <td>1</td>\n",
       "      <td>0</td>\n",
       "      <td>1</td>\n",
       "      <td>119247.61</td>\n",
       "      <td>0</td>\n",
       "    </tr>\n",
       "  </tbody>\n",
       "</table>\n",
       "</div>"
      ],
      "text/plain": [
       "      user_id  score       city gender   age  equity    balance  products  \\\n",
       "1893   116540  883.0    рыбинск      Ж  55.0       1  362756.49         3   \n",
       "7694   116540  887.0  ярославль      Ж  38.0       0        NaN         1   \n",
       "\n",
       "      credit_card  last_activity  est_salary  churn  \n",
       "1893            0              1   175920.48      1  \n",
       "7694            0              1   119247.61      0  "
      ]
     },
     "metadata": {},
     "output_type": "display_data"
    }
   ],
   "source": [
    "display(data[data['user_id'] == 116540])"
   ]
  },
  {
   "cell_type": "markdown",
   "metadata": {},
   "source": [
    "Как мы видим пользователи с одинаковыми user_id имеют совсем разное назначение. Разные строки обозначают разных людей. Один из них уже ушел из банка и не пользуется продукцией, а вот второй наоборот и можно предположить, что он недавно зарегистрировался. Скорее всего в банке для новых пользователй используются освободившиеся id пользователей. "
   ]
  },
  {
   "cell_type": "markdown",
   "metadata": {},
   "source": [
    "### Пропуски\n",
    "Теперь проверим таблицу на содержание пустых значений"
   ]
  },
  {
   "cell_type": "code",
   "execution_count": 6,
   "metadata": {},
   "outputs": [
    {
     "name": "stdout",
     "output_type": "stream",
     "text": [
      "Количество пустых значений:\n",
      "user_id             0\n",
      "score               0\n",
      "city                0\n",
      "gender              0\n",
      "age                26\n",
      "equity              0\n",
      "balance          2295\n",
      "products            0\n",
      "credit_card         0\n",
      "last_activity       0\n",
      "est_salary          0\n",
      "churn               0\n",
      "dtype: int64\n"
     ]
    }
   ],
   "source": [
    "print ('Количество пустых значений:')\n",
    "print (data.isnull().sum())"
   ]
  },
  {
   "cell_type": "markdown",
   "metadata": {},
   "source": [
    "Как мы видимо пустные значения содержаться только в 2 столбцах - возраст и баланс. Посмотрим поподробнее на строки с пустными значениями. "
   ]
  },
  {
   "cell_type": "code",
   "execution_count": 7,
   "metadata": {
    "scrolled": false
   },
   "outputs": [
    {
     "data": {
      "image/png": "[encoded data removed]",
      "text/plain": [
       "<Figure size 1080x360 with 2 Axes>"
      ]
     },
     "metadata": {
      "needs_background": "light"
     },
     "output_type": "display_data"
    }
   ],
   "source": [
    "plotdata = pd.DataFrame({\n",
    "    \"age\":[data[data['city'] == 'ярославль']['age'].isnull().sum(),data[data['city'] == 'рыбинск']['age'].isnull().sum(),data[data['city'] == 'ростов']['age'].isnull().sum()],\n",
    "    \"balance\":[data[data['city'] == 'ярославль']['balance'].isnull().sum(),data[data['city'] == 'рыбинск']['balance'].isnull().sum(),data[data['city'] == 'ростов']['balance'].isnull().sum()],\n",
    "    \"city\": [\"ярославль\",\"рыбинск\",\"ростов\"]\n",
    "})\n",
    "\n",
    "\n",
    "fig, (ax, ax1) = plt.subplots(1, 2, figsize=(15, 5))\n",
    "sns.barplot(x='age' , y='city', data=plotdata, alpha=0.6, orient='h', ax = ax)\n",
    "ax.set_title(\"Значение возраста\")\n",
    "ax.set_xlabel(\"Количество\")\n",
    "ax.set_ylabel(\"Город\")\n",
    "\n",
    "sns.barplot(x='balance' , y='city', data=plotdata, alpha=0.6, orient='h', ax = ax1)\n",
    "ax1.set_title(\"Баланс на счете\")\n",
    "ax1.set_xlabel(\"Количество\")\n",
    "ax1.set_ylabel(\"Город\")\n",
    "\n",
    "fig.suptitle(\"Количество пропусков по столбце age по городам\")\n",
    "plt.show()"
   ]
  },
  {
   "cell_type": "markdown",
   "metadata": {},
   "source": [
    "Больше всего пропусков находится в городе Ярославль: в значении возраста 12 из 26 человек, а в значении баланса на счете около 1400 из 2295 общих пропусов. Но также нужно рассмотреть и общее количество человек в распределении по городам. "
   ]
  },
  {
   "cell_type": "code",
   "execution_count": 8,
   "metadata": {},
   "outputs": [
    {
     "name": "stderr",
     "output_type": "stream",
     "text": [
      "No handles with labels found to put in legend.\n"
     ]
    },
    {
     "data": {
      "image/png": "[encoded data removed]",
      "text/plain": [
       "<Figure size 1080x360 with 1 Axes>"
      ]
     },
     "metadata": {
      "needs_background": "light"
     },
     "output_type": "display_data"
    }
   ],
   "source": [
    "fig = one_plot_creator(\n",
    "    df=data.groupby(by = 'city', as_index = False)['user_id'].count(),\n",
    "    x='user_id', y='city',\n",
    "    title='Количество пользователей в городах',\n",
    "    xaxis_title='Количество',\n",
    "    yaxis_title='Город',\n",
    "    legend_title='Города',\n",
    "    orientation='h',\n",
    "    height=450\n",
    ")\n",
    "fig.show()"
   ]
  },
  {
   "cell_type": "markdown",
   "metadata": {},
   "source": [
    "Теперь мы видим, что количество пользователей в разных города примерно одинаковые, так что распределение пропусков не связано с количеством людей.\n",
    "\n",
    "Скорее всего это связано с тем, что люди в крупных городах менее ответсвенно походят к заполнению анкет. "
   ]
  },
  {
   "cell_type": "markdown",
   "metadata": {},
   "source": [
    "Теперь посмотрим разные возрастные категории: 18-25, 26-45, 46-60,большое 60 "
   ]
  },
  {
   "cell_type": "code",
   "execution_count": 9,
   "metadata": {},
   "outputs": [
    {
     "name": "stderr",
     "output_type": "stream",
     "text": [
      "No handles with labels found to put in legend.\n"
     ]
    },
    {
     "data": {
      "image/png": "[encoded data removed]",
      "text/plain": [
       "<Figure size 1080x360 with 1 Axes>"
      ]
     },
     "metadata": {
      "needs_background": "light"
     },
     "output_type": "display_data"
    }
   ],
   "source": [
    "plotdata = pd.DataFrame({\n",
    "    \"balance\":[data[(data['age'] >= 18)&(data['age'] <= 25)]['balance'].isnull().sum(),data[(data['age'] >= 26)&(data['age'] <= 45)]['balance'].isnull().sum(),data[(data['age'] >= 46)&(data['age'] <= 60)]['balance'].isnull().sum(),data[data['age'] >= 60]['balance'].isnull().sum()],\n",
    "    \"age\": [\"18-25\",\"26-45\",\"46-60\",\"большое 60\"]\n",
    "})\n",
    "\n",
    "fig = one_plot_creator(\n",
    "    df=plotdata,\n",
    "    x='age', y='balance',\n",
    "    title='Пропуски, в столбце balance по возрастам',\n",
    "    xaxis_title='Возраст',\n",
    "    yaxis_title='Количество',\n",
    "    orientation='v',\n",
    "    height=450\n",
    ")\n",
    "fig.show()"
   ]
  },
  {
   "cell_type": "markdown",
   "metadata": {},
   "source": [
    "Больше всего пропусков у возрастной группы 26-45, а меньше всего у возрастной категории 18-25. Но также посмотрим и количество людей, которые относятся к той или иной возрастной группе. "
   ]
  },
  {
   "cell_type": "code",
   "execution_count": 10,
   "metadata": {
    "scrolled": true
   },
   "outputs": [
    {
     "name": "stderr",
     "output_type": "stream",
     "text": [
      "No handles with labels found to put in legend.\n"
     ]
    },
    {
     "data": {
      "image/png": "[encoded data removed]",
      "text/plain": [
       "<Figure size 1080x360 with 1 Axes>"
      ]
     },
     "metadata": {
      "needs_background": "light"
     },
     "output_type": "display_data"
    }
   ],
   "source": [
    "plotdata = pd.DataFrame({\n",
    "    \"count\":[data[(data['age'] >= 18)&(data['age'] <= 25)]['user_id'].count(),data[(data['age'] >= 26)&(data['age'] <= 45)]['user_id'].count(),data[(data['age'] >= 46)&(data['age'] <= 60)]['user_id'].count(),data[data['age'] >= 60]['user_id'].count()],\n",
    "    \"age\": [\"18-25\",\"26-45\",\"46-60\",\"большое 60\"]\n",
    "})\n",
    "\n",
    "colors = sns.color_palette('pastel')[0:5]\n",
    "\n",
    "fig = one_plot_creator(\n",
    "    df=plotdata,\n",
    "    x='age', y='count',\n",
    "    title='Распределение пользователей по возрастным группам',\n",
    "    xaxis_title='Возраст',\n",
    "    yaxis_title='Количество',\n",
    "    orientation='v',\n",
    "    height=450\n",
    ")\n",
    "fig.show()"
   ]
  },
  {
   "cell_type": "markdown",
   "metadata": {},
   "source": [
    "Как мы видимо количество пропусков в возрастных прямопорпоционально количеству пользователей. "
   ]
  },
  {
   "cell_type": "markdown",
   "metadata": {},
   "source": [
    "Также стоит посмотреть и пропуски в категория \"ушедших\" и \"не ушедших\" клиентов"
   ]
  },
  {
   "cell_type": "code",
   "execution_count": 11,
   "metadata": {},
   "outputs": [
    {
     "data": {
      "image/png": "[encoded data removed]",
      "text/plain": [
       "<Figure size 1080x360 with 2 Axes>"
      ]
     },
     "metadata": {
      "needs_background": "light"
     },
     "output_type": "display_data"
    }
   ],
   "source": [
    "plotdata = pd.DataFrame({\n",
    "    \"balance\":[data[data['churn'] == 0]['balance'].isnull().sum(),data[data['churn'] == 1]['balance'].isnull().sum()],\n",
    "    \"age\":[data[data['churn'] == 0]['age'].isnull().sum(),data[data['age'] == 1]['balance'].isnull().sum()],\n",
    "    \"churn\": [\"является клиентом банка\",\"не является клиентом банка\"]\n",
    "})\n",
    "\n",
    "\n",
    "ig, (ax, ax1) = plt.subplots(1, 2, figsize=(15, 5))\n",
    "sns.barplot(x='churn' , y='age', data=plotdata, alpha=0.6, orient='v', ax = ax)\n",
    "ax.set_title(\"Значение возраста\")\n",
    "ax.set_xlabel(\"Количество\")\n",
    "ax.set_ylabel(\"Категория\")\n",
    "\n",
    "sns.barplot(x='churn' , y='balance', data=plotdata, alpha=0.6, orient='v', ax = ax1)\n",
    "ax1.set_title(\"Баланс на счете\")\n",
    "ax1.set_xlabel(\"Количество\")\n",
    "ax1.set_ylabel(\"Категория\")\n",
    "\n",
    "fig.suptitle(\"Количество пропусков по категории клиентов\")\n",
    "plt.show()"
   ]
  },
  {
   "cell_type": "code",
   "execution_count": 12,
   "metadata": {},
   "outputs": [
    {
     "name": "stderr",
     "output_type": "stream",
     "text": [
      "No handles with labels found to put in legend.\n"
     ]
    },
    {
     "data": {
      "image/png": "[encoded data removed]",
      "text/plain": [
       "<Figure size 1080x360 with 1 Axes>"
      ]
     },
     "metadata": {
      "needs_background": "light"
     },
     "output_type": "display_data"
    }
   ],
   "source": [
    "plotdata = pd.DataFrame({\n",
    "    \"count\": [data[data['churn'] == 0]['user_id'].count(),data[data['churn'] == 1]['user_id'].count()],\n",
    "    \"churn\": [\"является клиентом банка\",\"не является клиентом банка\"]\n",
    "})\n",
    "\n",
    "fig = one_plot_creator(\n",
    "    df=plotdata,\n",
    "    x='churn', y='count',\n",
    "    title='Распределение пользователей по churn',\n",
    "    xaxis_title='Возраст',\n",
    "    yaxis_title='Количество',\n",
    "    orientation='v',\n",
    "    height=450\n",
    ")\n",
    "fig.show()"
   ]
  },
  {
   "cell_type": "markdown",
   "metadata": {},
   "source": [
    "Большое пользователей, которые являются клиентами банка, также и пропусков у них больше, что у тех, кто не является пользователем. Исключим пользователей, у которые не указан возраст и не указанная сумма баланса. "
   ]
  },
  {
   "cell_type": "markdown",
   "metadata": {},
   "source": [
    "### Выбросы"
   ]
  },
  {
   "cell_type": "markdown",
   "metadata": {},
   "source": [
    "По пропускам стало понятно, теперь нужно выяснить есть ли выбросы в наших данных.\n",
    "\n",
    "Так как значения в столбцах credit_card, last_activity, churn не могут быть больше 1, то просто проверим этот признак. А скоринговый балл не должен превышать 1000"
   ]
  },
  {
   "cell_type": "code",
   "execution_count": 13,
   "metadata": {},
   "outputs": [
    {
     "name": "stdout",
     "output_type": "stream",
     "text": [
      "Количество аномальных значений в столбце credit_card: 0\n",
      "Количество аномальных значений в столбце last_activity: 0\n",
      "Количество аномальных значений в столбце churn: 0\n",
      "Количество аномальных значений в столбце score: 0\n"
     ]
    }
   ],
   "source": [
    "print('Количество аномальных значений в столбце credit_card:', data[data['credit_card']>1]['credit_card'].count())\n",
    "print('Количество аномальных значений в столбце last_activity:', data[data['last_activity']>1]['last_activity'].count())\n",
    "print('Количество аномальных значений в столбце churn:', data[data['churn']>1]['churn'].count())\n",
    "print('Количество аномальных значений в столбце score:', data[data['score']>1000]['score'].count())\n"
   ]
  },
  {
   "cell_type": "markdown",
   "metadata": {},
   "source": [
    "Как мы видим аномалий в этим столбцах нет, поэтому все отлично. Теперь проверим выбросы в столбцах по equity и products"
   ]
  },
  {
   "cell_type": "code",
   "execution_count": 14,
   "metadata": {},
   "outputs": [
    {
     "data": {
      "text/plain": [
       "Text(0.5, 1.0, 'Выбросы по столбцам ')"
      ]
     },
     "execution_count": 14,
     "metadata": {},
     "output_type": "execute_result"
    },
    {
     "data": {
      "image/png": "[encoded data removed]",
      "text/plain": [
       "<Figure size 1080x360 with 1 Axes>"
      ]
     },
     "metadata": {
      "needs_background": "light"
     },
     "output_type": "display_data"
    }
   ],
   "source": [
    "plt.figure(figsize=(15,5))\n",
    "sns.boxplot(data = data[['equity','products']])\n",
    "plt.title('Выбросы по столбцам ')"
   ]
  },
  {
   "cell_type": "markdown",
   "metadata": {},
   "source": [
    "Выбросов в столбце equity нет, однако они присутствуют в столбце products. Рассмотрим поподробнее эти значения"
   ]
  },
  {
   "cell_type": "code",
   "execution_count": 15,
   "metadata": {
    "scrolled": true
   },
   "outputs": [
    {
     "data": {
      "text/html": [
       "<div>\n",
       "<style scoped>\n",
       "    .dataframe tbody tr th:only-of-type {\n",
       "        vertical-align: middle;\n",
       "    }\n",
       "\n",
       "    .dataframe tbody tr th {\n",
       "        vertical-align: top;\n",
       "    }\n",
       "\n",
       "    .dataframe thead th {\n",
       "        text-align: right;\n",
       "    }\n",
       "</style>\n",
       "<table border=\"1\" class=\"dataframe\">\n",
       "  <thead>\n",
       "    <tr style=\"text-align: right;\">\n",
       "      <th></th>\n",
       "      <th>products</th>\n",
       "    </tr>\n",
       "    <tr>\n",
       "      <th>city</th>\n",
       "      <th></th>\n",
       "    </tr>\n",
       "  </thead>\n",
       "  <tbody>\n",
       "    <tr>\n",
       "      <th>ярославль</th>\n",
       "      <td>321</td>\n",
       "    </tr>\n",
       "    <tr>\n",
       "      <th>рыбинск</th>\n",
       "      <td>100</td>\n",
       "    </tr>\n",
       "    <tr>\n",
       "      <th>ростов</th>\n",
       "      <td>72</td>\n",
       "    </tr>\n",
       "  </tbody>\n",
       "</table>\n",
       "</div>"
      ],
      "text/plain": [
       "           products\n",
       "city               \n",
       "ярославль       321\n",
       "рыбинск         100\n",
       "ростов           72"
      ]
     },
     "metadata": {},
     "output_type": "display_data"
    }
   ],
   "source": [
    "display(data[data['products']>=4].groupby(by='city').agg({'products':'count'}).sort_values(by='products',ascending=False))"
   ]
  },
  {
   "cell_type": "markdown",
   "metadata": {},
   "source": [
    "Как мы видим большое количество продуктов банка являющееся выбросами находятся в Ярославле, это может быть обосновано тем, что это крупный город, в котором банк предлагает больше льготных условий для граждан. \n",
    "\n",
    "Предлагаю также посмотреть и на выбросы в значениях зарплат и баланса на счетах"
   ]
  },
  {
   "cell_type": "code",
   "execution_count": 16,
   "metadata": {},
   "outputs": [
    {
     "data": {
      "image/png": "[encoded data removed]",
      "text/plain": [
       "<Figure size 1080x360 with 2 Axes>"
      ]
     },
     "metadata": {
      "needs_background": "light"
     },
     "output_type": "display_data"
    }
   ],
   "source": [
    "fig, (ax, ax1) = plt.subplots(1, 2, figsize=(15, 5))\n",
    "sns.boxplot(data = data[['balance']], ax=ax)\n",
    "ax.set_title(\"Зарплата\")\n",
    "ax.set_ylabel(\"Сумма\")\n",
    "\n",
    "sns.boxplot(data = data[['est_salary']], ax = ax1)\n",
    "ax1.set_title(\"Баланс на счете\")\n",
    "ax1.set_ylabel(\"Сумма\")\n",
    "\n",
    "fig.suptitle(\"Диаграмма размаха для заработной платы и баланса клиентов\")\n",
    "plt.show()"
   ]
  },
  {
   "cell_type": "code",
   "execution_count": 17,
   "metadata": {},
   "outputs": [
    {
     "data": {
      "text/html": [
       "<div>\n",
       "<style scoped>\n",
       "    .dataframe tbody tr th:only-of-type {\n",
       "        vertical-align: middle;\n",
       "    }\n",
       "\n",
       "    .dataframe tbody tr th {\n",
       "        vertical-align: top;\n",
       "    }\n",
       "\n",
       "    .dataframe thead th {\n",
       "        text-align: right;\n",
       "    }\n",
       "</style>\n",
       "<table border=\"1\" class=\"dataframe\">\n",
       "  <thead>\n",
       "    <tr style=\"text-align: right;\">\n",
       "      <th></th>\n",
       "      <th>user_id</th>\n",
       "      <th>score</th>\n",
       "      <th>city</th>\n",
       "      <th>gender</th>\n",
       "      <th>age</th>\n",
       "      <th>equity</th>\n",
       "      <th>balance</th>\n",
       "      <th>products</th>\n",
       "      <th>credit_card</th>\n",
       "      <th>last_activity</th>\n",
       "      <th>est_salary</th>\n",
       "      <th>churn</th>\n",
       "    </tr>\n",
       "  </thead>\n",
       "  <tbody>\n",
       "    <tr>\n",
       "      <th>125</th>\n",
       "      <td>227092</td>\n",
       "      <td>1000.0</td>\n",
       "      <td>ярославль</td>\n",
       "      <td>М</td>\n",
       "      <td>32.0</td>\n",
       "      <td>5</td>\n",
       "      <td>1.975718e+07</td>\n",
       "      <td>2</td>\n",
       "      <td>1</td>\n",
       "      <td>1</td>\n",
       "      <td>1024626.50</td>\n",
       "      <td>0</td>\n",
       "    </tr>\n",
       "    <tr>\n",
       "      <th>1027</th>\n",
       "      <td>119793</td>\n",
       "      <td>1000.0</td>\n",
       "      <td>ярославль</td>\n",
       "      <td>М</td>\n",
       "      <td>50.0</td>\n",
       "      <td>5</td>\n",
       "      <td>1.290969e+07</td>\n",
       "      <td>1</td>\n",
       "      <td>1</td>\n",
       "      <td>0</td>\n",
       "      <td>1253653.40</td>\n",
       "      <td>0</td>\n",
       "    </tr>\n",
       "    <tr>\n",
       "      <th>1059</th>\n",
       "      <td>114103</td>\n",
       "      <td>894.0</td>\n",
       "      <td>ярославль</td>\n",
       "      <td>М</td>\n",
       "      <td>58.0</td>\n",
       "      <td>4</td>\n",
       "      <td>6.486621e+07</td>\n",
       "      <td>2</td>\n",
       "      <td>1</td>\n",
       "      <td>1</td>\n",
       "      <td>88861.60</td>\n",
       "      <td>1</td>\n",
       "    </tr>\n",
       "    <tr>\n",
       "      <th>1846</th>\n",
       "      <td>114088</td>\n",
       "      <td>927.0</td>\n",
       "      <td>ярославль</td>\n",
       "      <td>М</td>\n",
       "      <td>57.0</td>\n",
       "      <td>5</td>\n",
       "      <td>4.327710e+07</td>\n",
       "      <td>3</td>\n",
       "      <td>0</td>\n",
       "      <td>1</td>\n",
       "      <td>82619.00</td>\n",
       "      <td>0</td>\n",
       "    </tr>\n",
       "    <tr>\n",
       "      <th>2318</th>\n",
       "      <td>168713</td>\n",
       "      <td>837.0</td>\n",
       "      <td>ярославль</td>\n",
       "      <td>М</td>\n",
       "      <td>62.0</td>\n",
       "      <td>5</td>\n",
       "      <td>1.282321e+07</td>\n",
       "      <td>1</td>\n",
       "      <td>1</td>\n",
       "      <td>1</td>\n",
       "      <td>21765.76</td>\n",
       "      <td>0</td>\n",
       "    </tr>\n",
       "    <tr>\n",
       "      <th>2597</th>\n",
       "      <td>226719</td>\n",
       "      <td>990.0</td>\n",
       "      <td>ярославль</td>\n",
       "      <td>М</td>\n",
       "      <td>37.0</td>\n",
       "      <td>4</td>\n",
       "      <td>1.464869e+07</td>\n",
       "      <td>2</td>\n",
       "      <td>0</td>\n",
       "      <td>0</td>\n",
       "      <td>934412.61</td>\n",
       "      <td>1</td>\n",
       "    </tr>\n",
       "    <tr>\n",
       "      <th>4005</th>\n",
       "      <td>163640</td>\n",
       "      <td>912.0</td>\n",
       "      <td>ярославль</td>\n",
       "      <td>М</td>\n",
       "      <td>35.0</td>\n",
       "      <td>4</td>\n",
       "      <td>1.562410e+07</td>\n",
       "      <td>2</td>\n",
       "      <td>0</td>\n",
       "      <td>1</td>\n",
       "      <td>1395064.45</td>\n",
       "      <td>0</td>\n",
       "    </tr>\n",
       "    <tr>\n",
       "      <th>4721</th>\n",
       "      <td>228786</td>\n",
       "      <td>1000.0</td>\n",
       "      <td>ярославль</td>\n",
       "      <td>М</td>\n",
       "      <td>45.0</td>\n",
       "      <td>5</td>\n",
       "      <td>2.900893e+07</td>\n",
       "      <td>2</td>\n",
       "      <td>0</td>\n",
       "      <td>1</td>\n",
       "      <td>811804.54</td>\n",
       "      <td>0</td>\n",
       "    </tr>\n",
       "    <tr>\n",
       "      <th>6318</th>\n",
       "      <td>163663</td>\n",
       "      <td>970.0</td>\n",
       "      <td>ярославль</td>\n",
       "      <td>М</td>\n",
       "      <td>35.0</td>\n",
       "      <td>3</td>\n",
       "      <td>1.500450e+07</td>\n",
       "      <td>2</td>\n",
       "      <td>0</td>\n",
       "      <td>1</td>\n",
       "      <td>991012.77</td>\n",
       "      <td>1</td>\n",
       "    </tr>\n",
       "    <tr>\n",
       "      <th>6817</th>\n",
       "      <td>179135</td>\n",
       "      <td>971.0</td>\n",
       "      <td>ярославль</td>\n",
       "      <td>Ж</td>\n",
       "      <td>38.0</td>\n",
       "      <td>4</td>\n",
       "      <td>1.484983e+07</td>\n",
       "      <td>2</td>\n",
       "      <td>0</td>\n",
       "      <td>0</td>\n",
       "      <td>788691.54</td>\n",
       "      <td>0</td>\n",
       "    </tr>\n",
       "    <tr>\n",
       "      <th>6948</th>\n",
       "      <td>137434</td>\n",
       "      <td>1000.0</td>\n",
       "      <td>ярославль</td>\n",
       "      <td>М</td>\n",
       "      <td>37.0</td>\n",
       "      <td>4</td>\n",
       "      <td>2.090616e+07</td>\n",
       "      <td>2</td>\n",
       "      <td>1</td>\n",
       "      <td>1</td>\n",
       "      <td>947606.60</td>\n",
       "      <td>1</td>\n",
       "    </tr>\n",
       "    <tr>\n",
       "      <th>7058</th>\n",
       "      <td>114087</td>\n",
       "      <td>878.0</td>\n",
       "      <td>ярославль</td>\n",
       "      <td>М</td>\n",
       "      <td>61.0</td>\n",
       "      <td>5</td>\n",
       "      <td>1.235992e+07</td>\n",
       "      <td>2</td>\n",
       "      <td>0</td>\n",
       "      <td>1</td>\n",
       "      <td>56863.07</td>\n",
       "      <td>1</td>\n",
       "    </tr>\n",
       "    <tr>\n",
       "      <th>7109</th>\n",
       "      <td>203824</td>\n",
       "      <td>986.0</td>\n",
       "      <td>ярославль</td>\n",
       "      <td>М</td>\n",
       "      <td>34.0</td>\n",
       "      <td>5</td>\n",
       "      <td>1.790476e+07</td>\n",
       "      <td>2</td>\n",
       "      <td>1</td>\n",
       "      <td>1</td>\n",
       "      <td>856500.86</td>\n",
       "      <td>1</td>\n",
       "    </tr>\n",
       "    <tr>\n",
       "      <th>7343</th>\n",
       "      <td>226500</td>\n",
       "      <td>969.0</td>\n",
       "      <td>ярославль</td>\n",
       "      <td>М</td>\n",
       "      <td>32.0</td>\n",
       "      <td>3</td>\n",
       "      <td>1.282976e+07</td>\n",
       "      <td>4</td>\n",
       "      <td>1</td>\n",
       "      <td>1</td>\n",
       "      <td>544420.41</td>\n",
       "      <td>1</td>\n",
       "    </tr>\n",
       "    <tr>\n",
       "      <th>7597</th>\n",
       "      <td>156149</td>\n",
       "      <td>900.0</td>\n",
       "      <td>ярославль</td>\n",
       "      <td>М</td>\n",
       "      <td>62.0</td>\n",
       "      <td>5</td>\n",
       "      <td>1.191136e+08</td>\n",
       "      <td>2</td>\n",
       "      <td>1</td>\n",
       "      <td>1</td>\n",
       "      <td>138041.31</td>\n",
       "      <td>0</td>\n",
       "    </tr>\n",
       "    <tr>\n",
       "      <th>8147</th>\n",
       "      <td>135243</td>\n",
       "      <td>951.0</td>\n",
       "      <td>ярославль</td>\n",
       "      <td>М</td>\n",
       "      <td>38.0</td>\n",
       "      <td>5</td>\n",
       "      <td>1.413443e+07</td>\n",
       "      <td>2</td>\n",
       "      <td>1</td>\n",
       "      <td>0</td>\n",
       "      <td>1281547.73</td>\n",
       "      <td>0</td>\n",
       "    </tr>\n",
       "    <tr>\n",
       "      <th>8484</th>\n",
       "      <td>221720</td>\n",
       "      <td>1000.0</td>\n",
       "      <td>ярославль</td>\n",
       "      <td>Ж</td>\n",
       "      <td>35.0</td>\n",
       "      <td>5</td>\n",
       "      <td>2.154994e+07</td>\n",
       "      <td>2</td>\n",
       "      <td>0</td>\n",
       "      <td>0</td>\n",
       "      <td>1051902.65</td>\n",
       "      <td>0</td>\n",
       "    </tr>\n",
       "    <tr>\n",
       "      <th>9142</th>\n",
       "      <td>223934</td>\n",
       "      <td>969.0</td>\n",
       "      <td>ярославль</td>\n",
       "      <td>М</td>\n",
       "      <td>39.0</td>\n",
       "      <td>3</td>\n",
       "      <td>1.480213e+07</td>\n",
       "      <td>1</td>\n",
       "      <td>1</td>\n",
       "      <td>0</td>\n",
       "      <td>766076.10</td>\n",
       "      <td>0</td>\n",
       "    </tr>\n",
       "    <tr>\n",
       "      <th>9753</th>\n",
       "      <td>122015</td>\n",
       "      <td>885.0</td>\n",
       "      <td>ярославль</td>\n",
       "      <td>М</td>\n",
       "      <td>64.0</td>\n",
       "      <td>4</td>\n",
       "      <td>2.572776e+07</td>\n",
       "      <td>3</td>\n",
       "      <td>1</td>\n",
       "      <td>0</td>\n",
       "      <td>168746.90</td>\n",
       "      <td>0</td>\n",
       "    </tr>\n",
       "  </tbody>\n",
       "</table>\n",
       "</div>"
      ],
      "text/plain": [
       "      user_id   score       city gender   age  equity       balance  products  \\\n",
       "125    227092  1000.0  ярославль      М  32.0       5  1.975718e+07         2   \n",
       "1027   119793  1000.0  ярославль      М  50.0       5  1.290969e+07         1   \n",
       "1059   114103   894.0  ярославль      М  58.0       4  6.486621e+07         2   \n",
       "1846   114088   927.0  ярославль      М  57.0       5  4.327710e+07         3   \n",
       "2318   168713   837.0  ярославль      М  62.0       5  1.282321e+07         1   \n",
       "2597   226719   990.0  ярославль      М  37.0       4  1.464869e+07         2   \n",
       "4005   163640   912.0  ярославль      М  35.0       4  1.562410e+07         2   \n",
       "4721   228786  1000.0  ярославль      М  45.0       5  2.900893e+07         2   \n",
       "6318   163663   970.0  ярославль      М  35.0       3  1.500450e+07         2   \n",
       "6817   179135   971.0  ярославль      Ж  38.0       4  1.484983e+07         2   \n",
       "6948   137434  1000.0  ярославль      М  37.0       4  2.090616e+07         2   \n",
       "7058   114087   878.0  ярославль      М  61.0       5  1.235992e+07         2   \n",
       "7109   203824   986.0  ярославль      М  34.0       5  1.790476e+07         2   \n",
       "7343   226500   969.0  ярославль      М  32.0       3  1.282976e+07         4   \n",
       "7597   156149   900.0  ярославль      М  62.0       5  1.191136e+08         2   \n",
       "8147   135243   951.0  ярославль      М  38.0       5  1.413443e+07         2   \n",
       "8484   221720  1000.0  ярославль      Ж  35.0       5  2.154994e+07         2   \n",
       "9142   223934   969.0  ярославль      М  39.0       3  1.480213e+07         1   \n",
       "9753   122015   885.0  ярославль      М  64.0       4  2.572776e+07         3   \n",
       "\n",
       "      credit_card  last_activity  est_salary  churn  \n",
       "125             1              1  1024626.50      0  \n",
       "1027            1              0  1253653.40      0  \n",
       "1059            1              1    88861.60      1  \n",
       "1846            0              1    82619.00      0  \n",
       "2318            1              1    21765.76      0  \n",
       "2597            0              0   934412.61      1  \n",
       "4005            0              1  1395064.45      0  \n",
       "4721            0              1   811804.54      0  \n",
       "6318            0              1   991012.77      1  \n",
       "6817            0              0   788691.54      0  \n",
       "6948            1              1   947606.60      1  \n",
       "7058            0              1    56863.07      1  \n",
       "7109            1              1   856500.86      1  \n",
       "7343            1              1   544420.41      1  \n",
       "7597            1              1   138041.31      0  \n",
       "8147            1              0  1281547.73      0  \n",
       "8484            0              0  1051902.65      0  \n",
       "9142            1              0   766076.10      0  \n",
       "9753            1              0   168746.90      0  "
      ]
     },
     "metadata": {},
     "output_type": "display_data"
    }
   ],
   "source": [
    "display(data[data['balance']>12000000])"
   ]
  },
  {
   "cell_type": "markdown",
   "metadata": {},
   "source": [
    "Мы получили значения формата \"1.975718e+07\", для тогоБ чтобы его привести к общему виду округлим наши значения в стобце до сотых"
   ]
  },
  {
   "cell_type": "code",
   "execution_count": 18,
   "metadata": {
    "scrolled": true
   },
   "outputs": [
    {
     "data": {
      "text/html": [
       "<div>\n",
       "<style scoped>\n",
       "    .dataframe tbody tr th:only-of-type {\n",
       "        vertical-align: middle;\n",
       "    }\n",
       "\n",
       "    .dataframe tbody tr th {\n",
       "        vertical-align: top;\n",
       "    }\n",
       "\n",
       "    .dataframe thead th {\n",
       "        text-align: right;\n",
       "    }\n",
       "</style>\n",
       "<table border=\"1\" class=\"dataframe\">\n",
       "  <thead>\n",
       "    <tr style=\"text-align: right;\">\n",
       "      <th></th>\n",
       "      <th>user_id</th>\n",
       "      <th>score</th>\n",
       "      <th>city</th>\n",
       "      <th>gender</th>\n",
       "      <th>age</th>\n",
       "      <th>equity</th>\n",
       "      <th>balance</th>\n",
       "      <th>products</th>\n",
       "      <th>credit_card</th>\n",
       "      <th>last_activity</th>\n",
       "      <th>est_salary</th>\n",
       "      <th>churn</th>\n",
       "    </tr>\n",
       "  </thead>\n",
       "  <tbody>\n",
       "    <tr>\n",
       "      <th>7597</th>\n",
       "      <td>156149</td>\n",
       "      <td>900.0</td>\n",
       "      <td>ярославль</td>\n",
       "      <td>М</td>\n",
       "      <td>62.0</td>\n",
       "      <td>5</td>\n",
       "      <td>119113552.0</td>\n",
       "      <td>2</td>\n",
       "      <td>1</td>\n",
       "      <td>1</td>\n",
       "      <td>138041.31</td>\n",
       "      <td>0</td>\n",
       "    </tr>\n",
       "  </tbody>\n",
       "</table>\n",
       "</div>"
      ],
      "text/plain": [
       "      user_id  score       city gender   age  equity      balance  products  \\\n",
       "7597   156149  900.0  ярославль      М  62.0       5  119113552.0         2   \n",
       "\n",
       "      credit_card  last_activity  est_salary  churn  \n",
       "7597            1              1   138041.31      0  "
      ]
     },
     "metadata": {},
     "output_type": "display_data"
    }
   ],
   "source": [
    "data['balance'] = round(data['balance'],1)\n",
    "\n",
    "#выведим анамальное значение, которое сильно отличается от остальных\n",
    "display(data[data['balance']>110000000])"
   ]
  },
  {
   "cell_type": "markdown",
   "metadata": {},
   "source": [
    "Мы получили выборосное значение, которое стоит удалить, так как оно будет сильно влиять на анализ. Для примера посмотрим среднее значение по возрастной группе больше 60 лет"
   ]
  },
  {
   "cell_type": "code",
   "execution_count": 19,
   "metadata": {},
   "outputs": [
    {
     "name": "stdout",
     "output_type": "stream",
     "text": [
      "Среднее значение баланса в возрастной группе 60-80 лет: 851895 2\n",
      "Медианное значение баланса в возрастной группе 60-80 лет: 612576.9\n"
     ]
    }
   ],
   "source": [
    "print('Среднее значение баланса в возрастной группе 60-80 лет:', round(data[(data['age']>=60)&(data['user_id']!=156149)]['balance'].mean()),2)\n",
    "\n",
    "print('Медианное значение баланса в возрастной группе 60-80 лет:', data[(data['age']>=60)&(data['user_id']!=156149)]['balance'].median())\n"
   ]
  },
  {
   "cell_type": "markdown",
   "metadata": {},
   "source": [
    "### **Вывод**\n",
    "\n",
    "При предобработки данных у нас получилось: \n",
    "- Найти и удалить польные дубликаты. \n",
    "- Выяснить, что новым пользователям могут присваиваться номер id \"ушедших\" из банка клиент, чем вызваны дубликаты в столбце user_id\n",
    "- Найти пропуски в значениях возраста и баланса на счете \n",
    " * Пропуски при распределении по городам не связаны с количеством пользователей в городах. И по нашим преподложением это может быть связано с отношению клиентов из большого горда, которые не полностью заполняли свои анкеты\n",
    " * У разных возрастных групп и признака \"клиент/не клиент\" это связано с количеством в группах.\n",
    "- Мы также нашли выбросы в значении баланса на счете и исключили его. \n",
    "- Остальные выбросы было решено не исключать, так как исключение может исказить дальнейший анализ."
   ]
  },
  {
   "cell_type": "markdown",
   "metadata": {},
   "source": [
    "## Исследовательский анализ данных \n",
    "\n",
    "В начале нашего исследования рассмотрим распределение клиентов по возрасту. \n",
    "\n",
    "### Исследование возрастной характеристики"
   ]
  },
  {
   "cell_type": "code",
   "execution_count": 20,
   "metadata": {
    "scrolled": false
   },
   "outputs": [
    {
     "name": "stderr",
     "output_type": "stream",
     "text": [
      "No handles with labels found to put in legend.\n"
     ]
    },
    {
     "data": {
      "image/png": "[encoded data removed]",
      "text/plain": [
       "<Figure size 1080x360 with 1 Axes>"
      ]
     },
     "metadata": {
      "needs_background": "light"
     },
     "output_type": "display_data"
    }
   ],
   "source": [
    "fig = one_plot_creator(\n",
    "    df=data.groupby(by='age', as_index = False)['user_id'].count(),\n",
    "    x='age', y='user_id',\n",
    "    title='Количество пользователей по возрастам',\n",
    "    xaxis_title='Возраст',\n",
    "    yaxis_title='Количество',\n",
    "    orientation='v',\n",
    "    height=450\n",
    ")\n",
    "fig.show()"
   ]
  },
  {
   "cell_type": "markdown",
   "metadata": {},
   "source": [
    "Клиенты находятся в промежутке между 18 и 86 годами. \n",
    "Самое большое количество клиентов находятся в возрастном промежутке 30-42 года. Меньше всего люди пользуются банком в возрасте 78-86 лет. \n",
    "\n",
    "### Расперделение по количеству продуктов\n",
    "\n",
    "В дальнейшем посмотрим распределение пользователей по количеству продуктов. "
   ]
  },
  {
   "cell_type": "code",
   "execution_count": 21,
   "metadata": {
    "scrolled": false
   },
   "outputs": [
    {
     "name": "stderr",
     "output_type": "stream",
     "text": [
      "No handles with labels found to put in legend.\n"
     ]
    },
    {
     "data": {
      "image/png": "[encoded data removed]",
      "text/plain": [
       "<Figure size 1080x360 with 1 Axes>"
      ]
     },
     "metadata": {
      "needs_background": "light"
     },
     "output_type": "display_data"
    }
   ],
   "source": [
    "fig = one_plot_creator(\n",
    "    df=data.groupby(by='products', as_index = False)['user_id'].count(),\n",
    "    x='products', y='user_id',\n",
    "    title='Количество пользователей по количеству продуктов',\n",
    "    xaxis_title='Количество',\n",
    "    yaxis_title='Город',\n",
    "    orientation='v',\n",
    "    height=450\n",
    ")\n",
    "fig.show()"
   ]
  },
  {
   "cell_type": "markdown",
   "metadata": {},
   "source": [
    "Проверим точно ли нет клиентов, которые не владеют ни одни продуктом"
   ]
  },
  {
   "cell_type": "code",
   "execution_count": 22,
   "metadata": {},
   "outputs": [
    {
     "data": {
      "text/html": [
       "<div>\n",
       "<style scoped>\n",
       "    .dataframe tbody tr th:only-of-type {\n",
       "        vertical-align: middle;\n",
       "    }\n",
       "\n",
       "    .dataframe tbody tr th {\n",
       "        vertical-align: top;\n",
       "    }\n",
       "\n",
       "    .dataframe thead th {\n",
       "        text-align: right;\n",
       "    }\n",
       "</style>\n",
       "<table border=\"1\" class=\"dataframe\">\n",
       "  <thead>\n",
       "    <tr style=\"text-align: right;\">\n",
       "      <th></th>\n",
       "      <th>user_id</th>\n",
       "      <th>score</th>\n",
       "      <th>city</th>\n",
       "      <th>gender</th>\n",
       "      <th>age</th>\n",
       "      <th>equity</th>\n",
       "      <th>balance</th>\n",
       "      <th>products</th>\n",
       "      <th>credit_card</th>\n",
       "      <th>last_activity</th>\n",
       "      <th>est_salary</th>\n",
       "      <th>churn</th>\n",
       "    </tr>\n",
       "  </thead>\n",
       "  <tbody>\n",
       "    <tr>\n",
       "      <th>8957</th>\n",
       "      <td>147837</td>\n",
       "      <td>962.0</td>\n",
       "      <td>рыбинск</td>\n",
       "      <td>Ж</td>\n",
       "      <td>79.0</td>\n",
       "      <td>3</td>\n",
       "      <td>NaN</td>\n",
       "      <td>0</td>\n",
       "      <td>0</td>\n",
       "      <td>0</td>\n",
       "      <td>25063.96</td>\n",
       "      <td>1</td>\n",
       "    </tr>\n",
       "  </tbody>\n",
       "</table>\n",
       "</div>"
      ],
      "text/plain": [
       "      user_id  score     city gender   age  equity  balance  products  \\\n",
       "8957   147837  962.0  рыбинск      Ж  79.0       3      NaN         0   \n",
       "\n",
       "      credit_card  last_activity  est_salary  churn  \n",
       "8957            0              0    25063.96      1  "
      ]
     },
     "execution_count": 22,
     "metadata": {},
     "output_type": "execute_result"
    }
   ],
   "source": [
    "data[data['products'] == 0]"
   ]
  },
  {
   "cell_type": "markdown",
   "metadata": {},
   "source": [
    "Скорее всего это клиент, который считается ушедшим, возможно он не смог найти для себя интересующего продукта "
   ]
  },
  {
   "cell_type": "code",
   "execution_count": 25,
   "metadata": {},
   "outputs": [
    {
     "data": {
      "text/html": [
       "<div>\n",
       "<style scoped>\n",
       "    .dataframe tbody tr th:only-of-type {\n",
       "        vertical-align: middle;\n",
       "    }\n",
       "\n",
       "    .dataframe tbody tr th {\n",
       "        vertical-align: top;\n",
       "    }\n",
       "\n",
       "    .dataframe thead th {\n",
       "        text-align: right;\n",
       "    }\n",
       "</style>\n",
       "<table border=\"1\" class=\"dataframe\">\n",
       "  <thead>\n",
       "    <tr style=\"text-align: right;\">\n",
       "      <th></th>\n",
       "      <th>user_id</th>\n",
       "      <th>score</th>\n",
       "      <th>city</th>\n",
       "      <th>gender</th>\n",
       "      <th>age</th>\n",
       "      <th>equity</th>\n",
       "      <th>balance</th>\n",
       "      <th>products</th>\n",
       "      <th>credit_card</th>\n",
       "      <th>last_activity</th>\n",
       "      <th>est_salary</th>\n",
       "      <th>churn</th>\n",
       "    </tr>\n",
       "  </thead>\n",
       "  <tbody>\n",
       "    <tr>\n",
       "      <th>401</th>\n",
       "      <td>187761</td>\n",
       "      <td>868.0</td>\n",
       "      <td>ярославль</td>\n",
       "      <td>Ж</td>\n",
       "      <td>19.0</td>\n",
       "      <td>4</td>\n",
       "      <td>8126.9</td>\n",
       "      <td>5</td>\n",
       "      <td>1</td>\n",
       "      <td>1</td>\n",
       "      <td>85323.98</td>\n",
       "      <td>0</td>\n",
       "    </tr>\n",
       "    <tr>\n",
       "      <th>523</th>\n",
       "      <td>195914</td>\n",
       "      <td>852.0</td>\n",
       "      <td>ярославль</td>\n",
       "      <td>Ж</td>\n",
       "      <td>39.0</td>\n",
       "      <td>5</td>\n",
       "      <td>1388255.7</td>\n",
       "      <td>5</td>\n",
       "      <td>1</td>\n",
       "      <td>1</td>\n",
       "      <td>135432.48</td>\n",
       "      <td>1</td>\n",
       "    </tr>\n",
       "    <tr>\n",
       "      <th>893</th>\n",
       "      <td>132781</td>\n",
       "      <td>820.0</td>\n",
       "      <td>ярославль</td>\n",
       "      <td>М</td>\n",
       "      <td>37.0</td>\n",
       "      <td>5</td>\n",
       "      <td>259677.2</td>\n",
       "      <td>5</td>\n",
       "      <td>1</td>\n",
       "      <td>1</td>\n",
       "      <td>124261.01</td>\n",
       "      <td>0</td>\n",
       "    </tr>\n",
       "    <tr>\n",
       "      <th>1019</th>\n",
       "      <td>122402</td>\n",
       "      <td>833.0</td>\n",
       "      <td>ростов</td>\n",
       "      <td>М</td>\n",
       "      <td>32.0</td>\n",
       "      <td>3</td>\n",
       "      <td>234560.9</td>\n",
       "      <td>5</td>\n",
       "      <td>1</td>\n",
       "      <td>1</td>\n",
       "      <td>106033.79</td>\n",
       "      <td>0</td>\n",
       "    </tr>\n",
       "    <tr>\n",
       "      <th>1346</th>\n",
       "      <td>159649</td>\n",
       "      <td>847.0</td>\n",
       "      <td>ярославль</td>\n",
       "      <td>Ж</td>\n",
       "      <td>39.0</td>\n",
       "      <td>1</td>\n",
       "      <td>137974.0</td>\n",
       "      <td>5</td>\n",
       "      <td>1</td>\n",
       "      <td>1</td>\n",
       "      <td>219672.26</td>\n",
       "      <td>0</td>\n",
       "    </tr>\n",
       "    <tr>\n",
       "      <th>1479</th>\n",
       "      <td>209431</td>\n",
       "      <td>882.0</td>\n",
       "      <td>рыбинск</td>\n",
       "      <td>М</td>\n",
       "      <td>42.0</td>\n",
       "      <td>4</td>\n",
       "      <td>1142013.1</td>\n",
       "      <td>5</td>\n",
       "      <td>1</td>\n",
       "      <td>0</td>\n",
       "      <td>101051.78</td>\n",
       "      <td>1</td>\n",
       "    </tr>\n",
       "    <tr>\n",
       "      <th>1880</th>\n",
       "      <td>134758</td>\n",
       "      <td>850.0</td>\n",
       "      <td>ярославль</td>\n",
       "      <td>Ж</td>\n",
       "      <td>35.0</td>\n",
       "      <td>4</td>\n",
       "      <td>282262.3</td>\n",
       "      <td>5</td>\n",
       "      <td>1</td>\n",
       "      <td>1</td>\n",
       "      <td>105312.07</td>\n",
       "      <td>0</td>\n",
       "    </tr>\n",
       "    <tr>\n",
       "      <th>3274</th>\n",
       "      <td>155765</td>\n",
       "      <td>863.0</td>\n",
       "      <td>ярославль</td>\n",
       "      <td>М</td>\n",
       "      <td>30.0</td>\n",
       "      <td>5</td>\n",
       "      <td>1036114.5</td>\n",
       "      <td>5</td>\n",
       "      <td>1</td>\n",
       "      <td>1</td>\n",
       "      <td>150744.50</td>\n",
       "      <td>1</td>\n",
       "    </tr>\n",
       "    <tr>\n",
       "      <th>3809</th>\n",
       "      <td>191408</td>\n",
       "      <td>838.0</td>\n",
       "      <td>ростов</td>\n",
       "      <td>М</td>\n",
       "      <td>28.0</td>\n",
       "      <td>2</td>\n",
       "      <td>99461.5</td>\n",
       "      <td>5</td>\n",
       "      <td>1</td>\n",
       "      <td>1</td>\n",
       "      <td>88641.84</td>\n",
       "      <td>0</td>\n",
       "    </tr>\n",
       "    <tr>\n",
       "      <th>3884</th>\n",
       "      <td>138642</td>\n",
       "      <td>823.0</td>\n",
       "      <td>ярославль</td>\n",
       "      <td>Ж</td>\n",
       "      <td>37.0</td>\n",
       "      <td>1</td>\n",
       "      <td>118329.9</td>\n",
       "      <td>5</td>\n",
       "      <td>1</td>\n",
       "      <td>1</td>\n",
       "      <td>105095.05</td>\n",
       "      <td>0</td>\n",
       "    </tr>\n",
       "    <tr>\n",
       "      <th>4141</th>\n",
       "      <td>122532</td>\n",
       "      <td>856.0</td>\n",
       "      <td>ярославль</td>\n",
       "      <td>Ж</td>\n",
       "      <td>25.0</td>\n",
       "      <td>4</td>\n",
       "      <td>63271.4</td>\n",
       "      <td>5</td>\n",
       "      <td>1</td>\n",
       "      <td>1</td>\n",
       "      <td>127973.06</td>\n",
       "      <td>0</td>\n",
       "    </tr>\n",
       "    <tr>\n",
       "      <th>4183</th>\n",
       "      <td>162834</td>\n",
       "      <td>913.0</td>\n",
       "      <td>ярославль</td>\n",
       "      <td>М</td>\n",
       "      <td>40.0</td>\n",
       "      <td>5</td>\n",
       "      <td>1392227.0</td>\n",
       "      <td>5</td>\n",
       "      <td>1</td>\n",
       "      <td>1</td>\n",
       "      <td>142818.22</td>\n",
       "      <td>1</td>\n",
       "    </tr>\n",
       "    <tr>\n",
       "      <th>4414</th>\n",
       "      <td>101899</td>\n",
       "      <td>928.0</td>\n",
       "      <td>ярославль</td>\n",
       "      <td>Ж</td>\n",
       "      <td>38.0</td>\n",
       "      <td>4</td>\n",
       "      <td>1293525.9</td>\n",
       "      <td>5</td>\n",
       "      <td>1</td>\n",
       "      <td>1</td>\n",
       "      <td>162347.82</td>\n",
       "      <td>1</td>\n",
       "    </tr>\n",
       "    <tr>\n",
       "      <th>4983</th>\n",
       "      <td>150478</td>\n",
       "      <td>933.0</td>\n",
       "      <td>ярославль</td>\n",
       "      <td>М</td>\n",
       "      <td>46.0</td>\n",
       "      <td>5</td>\n",
       "      <td>1501715.2</td>\n",
       "      <td>5</td>\n",
       "      <td>1</td>\n",
       "      <td>1</td>\n",
       "      <td>199664.86</td>\n",
       "      <td>1</td>\n",
       "    </tr>\n",
       "    <tr>\n",
       "      <th>5481</th>\n",
       "      <td>227803</td>\n",
       "      <td>836.0</td>\n",
       "      <td>ростов</td>\n",
       "      <td>М</td>\n",
       "      <td>57.0</td>\n",
       "      <td>5</td>\n",
       "      <td>326808.6</td>\n",
       "      <td>5</td>\n",
       "      <td>1</td>\n",
       "      <td>1</td>\n",
       "      <td>58680.09</td>\n",
       "      <td>0</td>\n",
       "    </tr>\n",
       "    <tr>\n",
       "      <th>6932</th>\n",
       "      <td>127985</td>\n",
       "      <td>851.0</td>\n",
       "      <td>ярославль</td>\n",
       "      <td>Ж</td>\n",
       "      <td>33.0</td>\n",
       "      <td>3</td>\n",
       "      <td>1070245.5</td>\n",
       "      <td>5</td>\n",
       "      <td>1</td>\n",
       "      <td>0</td>\n",
       "      <td>81659.07</td>\n",
       "      <td>1</td>\n",
       "    </tr>\n",
       "    <tr>\n",
       "      <th>7545</th>\n",
       "      <td>226524</td>\n",
       "      <td>893.0</td>\n",
       "      <td>ярославль</td>\n",
       "      <td>М</td>\n",
       "      <td>29.0</td>\n",
       "      <td>5</td>\n",
       "      <td>867727.8</td>\n",
       "      <td>5</td>\n",
       "      <td>1</td>\n",
       "      <td>1</td>\n",
       "      <td>144983.66</td>\n",
       "      <td>1</td>\n",
       "    </tr>\n",
       "    <tr>\n",
       "      <th>8417</th>\n",
       "      <td>191301</td>\n",
       "      <td>823.0</td>\n",
       "      <td>ростов</td>\n",
       "      <td>Ж</td>\n",
       "      <td>54.0</td>\n",
       "      <td>2</td>\n",
       "      <td>185304.8</td>\n",
       "      <td>5</td>\n",
       "      <td>1</td>\n",
       "      <td>1</td>\n",
       "      <td>29397.71</td>\n",
       "      <td>0</td>\n",
       "    </tr>\n",
       "    <tr>\n",
       "      <th>8430</th>\n",
       "      <td>157429</td>\n",
       "      <td>817.0</td>\n",
       "      <td>ярославль</td>\n",
       "      <td>М</td>\n",
       "      <td>33.0</td>\n",
       "      <td>3</td>\n",
       "      <td>201144.0</td>\n",
       "      <td>5</td>\n",
       "      <td>1</td>\n",
       "      <td>1</td>\n",
       "      <td>47295.72</td>\n",
       "      <td>0</td>\n",
       "    </tr>\n",
       "  </tbody>\n",
       "</table>\n",
       "</div>"
      ],
      "text/plain": [
       "      user_id  score       city gender   age  equity    balance  products  \\\n",
       "401    187761  868.0  ярославль      Ж  19.0       4     8126.9         5   \n",
       "523    195914  852.0  ярославль      Ж  39.0       5  1388255.7         5   \n",
       "893    132781  820.0  ярославль      М  37.0       5   259677.2         5   \n",
       "1019   122402  833.0     ростов      М  32.0       3   234560.9         5   \n",
       "1346   159649  847.0  ярославль      Ж  39.0       1   137974.0         5   \n",
       "1479   209431  882.0    рыбинск      М  42.0       4  1142013.1         5   \n",
       "1880   134758  850.0  ярославль      Ж  35.0       4   282262.3         5   \n",
       "3274   155765  863.0  ярославль      М  30.0       5  1036114.5         5   \n",
       "3809   191408  838.0     ростов      М  28.0       2    99461.5         5   \n",
       "3884   138642  823.0  ярославль      Ж  37.0       1   118329.9         5   \n",
       "4141   122532  856.0  ярославль      Ж  25.0       4    63271.4         5   \n",
       "4183   162834  913.0  ярославль      М  40.0       5  1392227.0         5   \n",
       "4414   101899  928.0  ярославль      Ж  38.0       4  1293525.9         5   \n",
       "4983   150478  933.0  ярославль      М  46.0       5  1501715.2         5   \n",
       "5481   227803  836.0     ростов      М  57.0       5   326808.6         5   \n",
       "6932   127985  851.0  ярославль      Ж  33.0       3  1070245.5         5   \n",
       "7545   226524  893.0  ярославль      М  29.0       5   867727.8         5   \n",
       "8417   191301  823.0     ростов      Ж  54.0       2   185304.8         5   \n",
       "8430   157429  817.0  ярославль      М  33.0       3   201144.0         5   \n",
       "\n",
       "      credit_card  last_activity  est_salary  churn  \n",
       "401             1              1    85323.98      0  \n",
       "523             1              1   135432.48      1  \n",
       "893             1              1   124261.01      0  \n",
       "1019            1              1   106033.79      0  \n",
       "1346            1              1   219672.26      0  \n",
       "1479            1              0   101051.78      1  \n",
       "1880            1              1   105312.07      0  \n",
       "3274            1              1   150744.50      1  \n",
       "3809            1              1    88641.84      0  \n",
       "3884            1              1   105095.05      0  \n",
       "4141            1              1   127973.06      0  \n",
       "4183            1              1   142818.22      1  \n",
       "4414            1              1   162347.82      1  \n",
       "4983            1              1   199664.86      1  \n",
       "5481            1              1    58680.09      0  \n",
       "6932            1              0    81659.07      1  \n",
       "7545            1              1   144983.66      1  \n",
       "8417            1              1    29397.71      0  \n",
       "8430            1              1    47295.72      0  "
      ]
     },
     "execution_count": 25,
     "metadata": {},
     "output_type": "execute_result"
    }
   ],
   "source": [
    "data[data['products'] == 5]"
   ]
  },
  {
   "cell_type": "markdown",
   "metadata": {},
   "source": [
    "Всего 19 клиентов, которые владеют 5 продуктами"
   ]
  },
  {
   "cell_type": "markdown",
   "metadata": {},
   "source": [
    "Наибольшее количество продуктов - 5. Наименьшее количество - 0\n",
    "\n",
    "Чаще всего клиенты выбирают 2 продукта, после 1 продукт. Меньше всего клиенты выбирают 5 продуктов.\n",
    "\n",
    "### Распределение по владению кредитными картами\n",
    "Теперь посмотрим, как идет распределение пользователей по наличию кредитной карты"
   ]
  },
  {
   "cell_type": "code",
   "execution_count": 26,
   "metadata": {
    "scrolled": true
   },
   "outputs": [
    {
     "data": {
      "image/png": "[encoded data removed]",
      "text/plain": [
       "<Figure size 1080x360 with 1 Axes>"
      ]
     },
     "metadata": {},
     "output_type": "display_data"
    }
   ],
   "source": [
    "credit_card_gr = data.groupby(by='credit_card', as_index = False).agg({'user_id':'count'})\n",
    "\n",
    "#Отрисуем распределение сетевых и не сетевых заведение по количеству \n",
    "fig = pie_plot(\n",
    "    df = credit_card_gr['user_id'], \n",
    "    labels =  [\"не владеет\",\"владеет\"], \n",
    "    title = \"График клиентов, которые имеют или не имеют кредитные карты\",\n",
    "    legend_title = \"Владеет ли кредитной картой?\")\n",
    "fig.show()"
   ]
  },
  {
   "cell_type": "markdown",
   "metadata": {},
   "source": [
    "Как видно больше людей предпочитают использовать кредитные карты. \n",
    "\n",
    "### Гендерный тип\n",
    "Посмотрим также и распредление по гендерному типу"
   ]
  },
  {
   "cell_type": "code",
   "execution_count": 27,
   "metadata": {
    "scrolled": true
   },
   "outputs": [
    {
     "name": "stderr",
     "output_type": "stream",
     "text": [
      "No handles with labels found to put in legend.\n"
     ]
    },
    {
     "data": {
      "image/png": "[encoded data removed]",
      "text/plain": [
       "<Figure size 1080x360 with 1 Axes>"
      ]
     },
     "metadata": {
      "needs_background": "light"
     },
     "output_type": "display_data"
    }
   ],
   "source": [
    "fig = one_plot_creator(\n",
    "    df=data.groupby(by='gender', as_index = False)['user_id'].count(),\n",
    "    x='gender', y='user_id',\n",
    "    title='Количество пользователей по гендерному типу',\n",
    "    xaxis_title='Пол',\n",
    "    yaxis_title='Количество',\n",
    "    orientation='v',\n",
    "    height=450\n",
    ")\n",
    "fig.show()"
   ]
  },
  {
   "cell_type": "markdown",
   "metadata": {},
   "source": [
    "Клиенты в равной мере распределяются между мужчинами и женщинами. \n",
    "\n",
    "### Исследование активных пользователей."
   ]
  },
  {
   "cell_type": "code",
   "execution_count": 28,
   "metadata": {},
   "outputs": [
    {
     "data": {
      "image/png": "[encoded data removed]",
      "text/plain": [
       "<Figure size 1080x360 with 1 Axes>"
      ]
     },
     "metadata": {},
     "output_type": "display_data"
    }
   ],
   "source": [
    "last_activity_gr = data.groupby(by='last_activity', as_index = False).agg({'user_id':'count'})\n",
    "\n",
    "#Отрисуем распределение сетевых и не сетевых заведение по количеству \n",
    "\n",
    "fig = pie_plot(\n",
    "    df = last_activity_gr['user_id'], \n",
    "    labels = ['неактивные','активные'], \n",
    "    title = 'График клиентов, которые имеют или не имеют кредитные карты',\n",
    "    legend_title = \"Владеет ли кредитной картой?\")\n",
    "fig.show()"
   ]
  },
  {
   "cell_type": "markdown",
   "metadata": {},
   "source": [
    "В нашем наборе данных 52% активных пользователей и 48% неактивных пользователей. \n",
    "\n",
    "### Исследование баланса на счете \n",
    "\n",
    "Для данного исследования зависимостей переменных между друг другом с помощью тепловой карты"
   ]
  },
  {
   "cell_type": "code",
   "execution_count": 29,
   "metadata": {
    "scrolled": true
   },
   "outputs": [
    {
     "data": {
      "image/png": "[encoded data removed]",
      "text/plain": [
       "<Figure size 1080x360 with 2 Axes>"
      ]
     },
     "metadata": {
      "needs_background": "light"
     },
     "output_type": "display_data"
    }
   ],
   "source": [
    "heatmap_columns = ['balance','score','age','equity','products','est_salary','churn']\n",
    "\n",
    "corr_matrix = data[heatmap_columns].corr()\n",
    "\n",
    "\n",
    "plt.figure(figsize=(15,5))\n",
    "sns.heatmap(corr_matrix, annot = True, cmap = 'coolwarm')\n",
    "plt.title('Тепловая карта')\n",
    "plt.xlabel('Переменные')\n",
    "plt.ylabel('Переменные')\n",
    "plt.show()"
   ]
  },
  {
   "cell_type": "markdown",
   "metadata": {},
   "source": [
    "По тепловой карте видимо, что между числовыми значенимями набора данных не наблюдается сильной зависимости. "
   ]
  },
  {
   "cell_type": "markdown",
   "metadata": {},
   "source": [
    "### Вывод \n",
    "\n",
    "По данным нам удалось выяснить: \n",
    "- клиенты почти в равной мере респределены между мужским и женским полом\n",
    "- больше половины клиентов используются кредитную карту, а именно 64%\n",
    "- пользователи предпочитают использовать по 2 продукта банка \n",
    "- возрастной диапозон клиентов находится в промежутке между 18 и 86 годами"
   ]
  },
  {
   "cell_type": "markdown",
   "metadata": {},
   "source": [
    "## Сегментация\n",
    "\n",
    "Для деления данных на сегменты мы попробуем рассмотреть распределение по продуктам. Мы посмотрим для каждого количества посмотрим распределение данных.\n",
    "\n",
    "Но для начала определим, как происходит распределение в категориях по уходу пользователей из банка. "
   ]
  },
  {
   "cell_type": "code",
   "execution_count": 30,
   "metadata": {},
   "outputs": [
    {
     "data": {
      "image/png": "[encoded data removed]",
      "text/plain": [
       "<Figure size 1080x360 with 1 Axes>"
      ]
     },
     "metadata": {
      "needs_background": "light"
     },
     "output_type": "display_data"
    }
   ],
   "source": [
    "fig = one_plot_creator(\n",
    "    df = data.groupby(by = ['products','churn'], as_index= False)['user_id'].count(),\n",
    "    x = 'products',\n",
    "    y = 'user_id',\n",
    "    hue = 'churn',\n",
    "    title = 'Распределение по признаку \"ушел/не ушел\"', \n",
    "    xaxis_title = 'Категория', \n",
    "    yaxis_title = \"Количество пользователй\",\n",
    "    orientation='v',\n",
    ")\n",
    "\n",
    "fig.show()"
   ]
  },
  {
   "cell_type": "markdown",
   "metadata": {},
   "source": [
    "Очень инетересный факт о том, что люди, которые владеют 4 продуктами банка считаются \"ушедшими\". В остальном распредление по другим категориям клиенты в большей степени до сих пор являются владельцами банка.\n",
    "\n",
    "Посмотрим распредление по различным признакам для тех, клиентов, которые находятся в банке по сей день.\n",
    "\n",
    "Но для начала добавим разделение на группы по заработной плате и возрасту."
   ]
  },
  {
   "cell_type": "code",
   "execution_count": 31,
   "metadata": {},
   "outputs": [
    {
     "name": "stderr",
     "output_type": "stream",
     "text": [
      "/opt/conda/lib/python3.9/site-packages/pandas/core/indexing.py:1637: SettingWithCopyWarning: \n",
      "A value is trying to be set on a copy of a slice from a DataFrame\n",
      "\n",
      "See the caveats in the documentation: https://pandas.pydata.org/pandas-docs/stable/user_guide/indexing.html#returning-a-view-versus-a-copy\n",
      "  self._setitem_single_block(indexer, value, name)\n"
     ]
    }
   ],
   "source": [
    "data['category_balance'] = \"\"\n",
    "\n",
    "for i in range(len(data)):\n",
    "    if data['est_salary'].iloc[i] <= 80000:\n",
    "        data['category_balance'].iloc[i] = \"до 80к \"\n",
    "    if (data['est_salary'].iloc[i] >= 80001)&(data['est_salary'].iloc[i] <= 140000):\n",
    "        data['category_balance'].iloc[i] = \"от 80к до 140к\"\n",
    "    if (data['est_salary'].iloc[i] >= 140001):\n",
    "        data['category_balance'].iloc[i] = \"от 140к\"\n",
    "\n",
    "data['category_age'] = \"\"\n",
    "\n",
    "for i in range(len(data)):\n",
    "    if (data['age'].iloc[i] >= 18)&(data['age'].iloc[i] <= 31):\n",
    "        data['category_age'].iloc[i] = \"18-31\"\n",
    "    if (data['age'].iloc[i] >= 32)&(data['age'].iloc[i] <= 36):\n",
    "        data['category_age'].iloc[i] = \"32-36\"\n",
    "    if (data['age'].iloc[i] >= 37)&(data['age'].iloc[i] <= 42):\n",
    "        data['category_age'].iloc[i] = \"37-42\"\n",
    "    if (data['age'].iloc[i] >= 43)&(data['age'].iloc[i] <= 52):\n",
    "        data['category_age'].iloc[i] = \"43-52\"\n",
    "    if (data['age'].iloc[i] >= 53):\n",
    "        data['category_age'].iloc[i] = \">53\""
   ]
  },
  {
   "cell_type": "markdown",
   "metadata": {},
   "source": [
    "Мы разделили людей на возрастные группы с примерно одинаковым количеством пользователей внутри.\n",
    " * первая группа - с 18 по 31\n",
    " * вторая группа - с 32 по 36\n",
    " * третья группа - с 37 по 42\n",
    " * четвертная группа - с 43 по 52\n",
    " * пятая группа - с 53\n",
    " \n",
    "И аналогично разделилили пользователй на группы по зп до 80к,от 80к до 140к и от 140к"
   ]
  },
  {
   "cell_type": "markdown",
   "metadata": {},
   "source": [
    "### Исследование пользователй, которые пользуются банком"
   ]
  },
  {
   "cell_type": "code",
   "execution_count": 32,
   "metadata": {},
   "outputs": [
    {
     "name": "stdout",
     "output_type": "stream",
     "text": [
      "Общее количество пользователей: 8180\n"
     ]
    },
    {
     "data": {
      "image/png": "[encoded data removed]",
      "text/plain": [
       "<Figure size 1080x360 with 1 Axes>"
      ]
     },
     "metadata": {
      "needs_background": "light"
     },
     "output_type": "display_data"
    }
   ],
   "source": [
    "data_new = data[data['churn'] == 0]\n",
    "\n",
    "print(f'Общее количество пользователей:', data_new['user_id'].count())\n",
    "\n",
    "fig = one_plot_creator(\n",
    "    df = data_new.groupby(by = ['products','gender'], as_index= False)['user_id'].count(),\n",
    "    x = 'products',\n",
    "    y = 'user_id',\n",
    "    hue = 'gender',\n",
    "    title = 'Распределение по половому признаку в разных группах', \n",
    "    xaxis_title = 'Категория', \n",
    "    yaxis_title = \"Количество пользователй\",\n",
    "    orientation='v',\n",
    ")\n",
    "\n",
    "fig.show()"
   ]
  },
  {
   "cell_type": "markdown",
   "metadata": {},
   "source": [
    "Один и четыре продукта больше регистрируют мужчины, а 2 и 3 продукта выбирают девушки. \n",
    "\n",
    "Давайте теперь посмотрим, в каких категориях чаще выбирают кредитные карты. "
   ]
  },
  {
   "cell_type": "code",
   "execution_count": 33,
   "metadata": {},
   "outputs": [
    {
     "data": {
      "image/png": "[encoded data removed]",
      "text/plain": [
       "<Figure size 1080x360 with 1 Axes>"
      ]
     },
     "metadata": {
      "needs_background": "light"
     },
     "output_type": "display_data"
    }
   ],
   "source": [
    "fig = one_plot_creator(\n",
    "    df = data_new.groupby(by = ['products','credit_card'], as_index= False)['user_id'].count(),\n",
    "    x = 'user_id',\n",
    "    y = 'products',\n",
    "    hue = 'credit_card',\n",
    "    title = 'Распределение по наличию кредитной карты у клиента', \n",
    "    xaxis_title = \"Количество пользователей\", \n",
    "    yaxis_title = 'Категория',\n",
    "    orientation='h',\n",
    "    legend_title = \"Владеет ли кредитной картой?\"\n",
    ")\n",
    "\n",
    "fig.show()"
   ]
  },
  {
   "cell_type": "markdown",
   "metadata": {},
   "source": [
    "Как мы видимо кредитные карты больше имеются у владельцев 1 и 2 продуктов. Те люди, которые имеют один продукт владеют только кредитной картой. Владельце 3 продуктов чаще не имеют кредитных карт.\n",
    "\n",
    "Давайте посмотрим, какие возраста чаще присутвуют в первой группе и выбирают кредитную карту. \n",
    "\n",
    "Пропробуем разделить пользователей на примерно равные возрастные группы, чтобы посмотреть распредление по продуктам для них"
   ]
  },
  {
   "cell_type": "code",
   "execution_count": 34,
   "metadata": {
    "scrolled": true
   },
   "outputs": [
    {
     "data": {
      "image/png": "[encoded data removed]",
      "text/plain": [
       "<Figure size 1080x360 with 1 Axes>"
      ]
     },
     "metadata": {
      "needs_background": "light"
     },
     "output_type": "display_data"
    }
   ],
   "source": [
    "fig = one_plot_creator(\n",
    "    df = data_new.groupby(by = ['products','category_age'], as_index= False)['user_id'].count(),\n",
    "    x = 'category_age',\n",
    "    y = 'user_id',\n",
    "    hue = 'products',\n",
    "    title = 'Распределение по возрасту', \n",
    "    xaxis_title = \"Возраст\", \n",
    "    yaxis_title = 'Количество',\n",
    "    orientation='v',\n",
    "    legend_title = \"Кол-во продуктов\"\n",
    ")\n",
    "\n",
    "fig.show()"
   ]
  },
  {
   "cell_type": "markdown",
   "metadata": {},
   "source": [
    "Как мы видно из графика больше все клиенты разных возрастных групп предпочитают 2 продукта банка, можно предположить, что это банковская карта, которой клиент пользуется в повседневной жизни (также она может являться и зарплатной картой,то есть на нее перечисляется зарабтная плата). \n",
    "\n",
    "Теперь посмотрим лидеров по владению кредитными картам в данных группах. "
   ]
  },
  {
   "cell_type": "code",
   "execution_count": 35,
   "metadata": {
    "scrolled": true
   },
   "outputs": [
    {
     "data": {
      "image/png": "[encoded data removed]",
      "text/plain": [
       "<Figure size 1080x360 with 1 Axes>"
      ]
     },
     "metadata": {
      "needs_background": "light"
     },
     "output_type": "display_data"
    }
   ],
   "source": [
    "fig = one_plot_creator(\n",
    "    df = data_new.groupby(by = ['products','category_age'], as_index= False)['credit_card'].sum(),\n",
    "    x = 'credit_card',\n",
    "    y = 'category_age',\n",
    "    hue = 'products',\n",
    "    title = 'Распределение по наличию кредитной карты у клиента', \n",
    "    xaxis_title = \"Количество пользователей\", \n",
    "    yaxis_title = \"Возраст\",\n",
    "    orientation='h',\n",
    "    legend_title = \"Кол-во продуктов\"\n",
    ")\n",
    "\n",
    "fig.show()"
   ]
  },
  {
   "cell_type": "markdown",
   "metadata": {},
   "source": [
    "Больше всего владеют кредитными картами люди в возрасте 37-42 года, которые имеют 2 продукта банка.\n",
    "Стоит отметить, что во всех возрастных группах больше всего кредитными картами владеют люди, которые имеют 2 продукта. \n",
    "\n",
    "Также много людей из разных возрастных групп владеют и только одной кредитной картой. Лидером является возрастная группа 37-42 года, скорее всего для предложены выгодные условия.\n",
    "\n"
   ]
  },
  {
   "cell_type": "code",
   "execution_count": 36,
   "metadata": {},
   "outputs": [
    {
     "data": {
      "image/png": "[encoded data removed]",
      "text/plain": [
       "<Figure size 1080x360 with 1 Axes>"
      ]
     },
     "metadata": {
      "needs_background": "light"
     },
     "output_type": "display_data"
    }
   ],
   "source": [
    "fig = one_plot_creator(\n",
    "    df = data_new.groupby(by = ['products','category_balance'], as_index= False)['user_id'].count(),\n",
    "    x = 'category_balance',\n",
    "    y = 'user_id',\n",
    "    hue = 'products',\n",
    "    title = 'Распределение клиентов по заработной плате', \n",
    "    xaxis_title = \"Зарплата\", \n",
    "    yaxis_title = \"Количество\",\n",
    "    orientation='v',\n",
    "    legend_title = \"Кол-во продуктов\"\n",
    ")\n",
    "\n",
    "fig.show()"
   ]
  },
  {
   "cell_type": "markdown",
   "metadata": {},
   "source": [
    "Как и ранее во всех категориях у нас получилось, что чаще всего пользователи выбирают 2 продукта банка. Больше всего таких клиентов с зарплатами до 140к.\n",
    "\n",
    "Меньше всего клиенты выбирают от 4 до 5 продуктов, во всех категориях данных. Стоит посмотреть распределение кредитных карта в данных категориях, так мы выясним, для кого стоит предлагать льготные предложения по ним."
   ]
  },
  {
   "cell_type": "code",
   "execution_count": 48,
   "metadata": {},
   "outputs": [
    {
     "data": {
      "image/png": "[encoded data removed]",
      "text/plain": [
       "<Figure size 1080x360 with 1 Axes>"
      ]
     },
     "metadata": {
      "needs_background": "light"
     },
     "output_type": "display_data"
    }
   ],
   "source": [
    "fig = one_plot_creator(\n",
    "    df = data_new.groupby(by = ['products','category_balance'], as_index= False)['credit_card'].sum(),\n",
    "    x = 'category_balance',\n",
    "    y = 'credit_card',\n",
    "    hue = 'products',\n",
    "    title = 'Распределение по наличию кредитной карты у клиента', \n",
    "    xaxis_title = \"Количество пользователей\", \n",
    "    yaxis_title = \"Заработная плата\",\n",
    "    orientation='v',\n",
    "    legend_title = \"Кол-во продуктов\"\n",
    ")\n",
    "\n",
    "fig.show()"
   ]
  },
  {
   "cell_type": "markdown",
   "metadata": {},
   "source": [
    "Итак, чаще всего кредитными картами пользуются люди с заработной платой от 80 до 140 тысяч рублей, однако нужно отметить, что отличние между всеми категориями небольшое."
   ]
  },
  {
   "cell_type": "markdown",
   "metadata": {},
   "source": [
    "Теперь посмотри распределение по владению объектами недвижемости."
   ]
  },
  {
   "cell_type": "code",
   "execution_count": 38,
   "metadata": {
    "scrolled": true
   },
   "outputs": [
    {
     "data": {
      "image/png": "[encoded data removed]",
      "text/plain": [
       "<Figure size 1080x360 with 1 Axes>"
      ]
     },
     "metadata": {
      "needs_background": "light"
     },
     "output_type": "display_data"
    }
   ],
   "source": [
    "fig = one_plot_creator(\n",
    "    df = data_new.groupby(by = ['products','equity'], as_index= False)['user_id'].count(),\n",
    "    x = 'user_id',\n",
    "    y = 'equity',\n",
    "    hue = 'products',\n",
    "    title = 'Распределение по владению недвижемостью', \n",
    "    xaxis_title = \"Количество пользователей\", \n",
    "    yaxis_title = \"Кол-во объектов недвижимости\",\n",
    "    orientation='h',\n",
    "    legend_title = \"Кол-во продуктов\"\n",
    ")\n",
    "\n",
    "fig.show()"
   ]
  },
  {
   "cell_type": "markdown",
   "metadata": {},
   "source": [
    "Больше всего пользователей, не владеют недвижимостью. Люди, которые владеют 4-5 объектами, чаще всего выбирают 2 продукта. \n",
    "Много людей также выбирают и 1 продукт, меньше всего выбирают 3 и больше продуктов. \n",
    "\n",
    "Люди, которые имеют во владении 7-9 объектов в собственности выбирают также 2 продукта. Посмотрим, как часто люди в таких категориях выбирают кредитные карты"
   ]
  },
  {
   "cell_type": "code",
   "execution_count": 40,
   "metadata": {
    "scrolled": false
   },
   "outputs": [
    {
     "data": {
      "image/png": "[encoded data removed]",
      "text/plain": [
       "<Figure size 1080x360 with 1 Axes>"
      ]
     },
     "metadata": {
      "needs_background": "light"
     },
     "output_type": "display_data"
    }
   ],
   "source": [
    "fig = one_plot_creator(\n",
    "    df = data_new.groupby(by = ['products','equity'], as_index= False)['credit_card'].sum(),\n",
    "    x = 'equity',\n",
    "    y = 'credit_card',\n",
    "    hue = 'products',\n",
    "    title = 'Распределение по владению недвижемостью, у владельцев кредитных карт', \n",
    "    xaxis_title = \"Кол-во объектов недвижемости\", \n",
    "    yaxis_title = \"Количество пользователей\",\n",
    "    orientation='v',\n",
    "    legend_title = \"Кол-во продуктов\"\n",
    ")\n",
    "\n",
    "fig.show()"
   ]
  },
  {
   "cell_type": "markdown",
   "metadata": {},
   "source": [
    "Ситуция аналогичная с предыдущей: люди, которые владеют кредитными картами чаще имеют 2 продукта банка. Также большое количество и владеют только кредитной картой во всех категория. От 3 и более продуктов банка используют наименше количество клиентов. \n",
    "Хотя стоит отметить, что в группе из людей, которые владеют 6 и 7 объектами в собственности довольно часто имеют 4 продукта банка, возможно они покупают страховки для своих объектов недвижимости."
   ]
  },
  {
   "cell_type": "code",
   "execution_count": 54,
   "metadata": {},
   "outputs": [
    {
     "name": "stderr",
     "output_type": "stream",
     "text": [
      "No handles with labels found to put in legend.\n"
     ]
    },
    {
     "data": {
      "image/png": "[encoded data removed]",
      "text/plain": [
       "<Figure size 1080x360 with 1 Axes>"
      ]
     },
     "metadata": {
      "needs_background": "light"
     },
     "output_type": "display_data"
    }
   ],
   "source": [
    "fig = one_plot_creator(\n",
    "    df = data_new.groupby(by = ['products'], as_index= False)['score'].mean(),\n",
    "    x = 'products',\n",
    "    y = 'score',\n",
    "    #hue = 'products',\n",
    "    title = 'Распределение клиентов по оценке кредитного бюро', \n",
    "    xaxis_title = \"Количество продуктов\", \n",
    "    yaxis_title = \"Средний балл скорингова бюро\",\n",
    "    orientation='v',\n",
    "    #legend_title = \"Кол-во продуктов\"\n",
    ")\n",
    "\n",
    "fig.show()"
   ]
  },
  {
   "cell_type": "code",
   "execution_count": 57,
   "metadata": {},
   "outputs": [
    {
     "name": "stderr",
     "output_type": "stream",
     "text": [
      "No handles with labels found to put in legend.\n"
     ]
    },
    {
     "data": {
      "image/png": "[encoded data removed]",
      "text/plain": [
       "<Figure size 1080x360 with 1 Axes>"
      ]
     },
     "metadata": {
      "needs_background": "light"
     },
     "output_type": "display_data"
    }
   ],
   "source": [
    "fig = one_plot_creator(\n",
    "    df = data_new.groupby(by = ['products'], as_index= False)['balance'].mean(),\n",
    "    x = 'products',\n",
    "    y = 'balance',\n",
    "    #hue = 'products',\n",
    "    title = 'Распределение клиентов по среднему балансу на счете ', \n",
    "    xaxis_title = \"Количество продуктов\", \n",
    "    yaxis_title = \"Средний баланс\",\n",
    "    orientation='v',\n",
    "    #legend_title = \"Кол-во продуктов\"\n",
    ")\n",
    "\n",
    "fig.show()"
   ]
  },
  {
   "cell_type": "markdown",
   "metadata": {},
   "source": [
    "### Исследование клиентов, которые \"ушли\" из банка"
   ]
  },
  {
   "cell_type": "code",
   "execution_count": 41,
   "metadata": {},
   "outputs": [
    {
     "name": "stdout",
     "output_type": "stream",
     "text": [
      "Общее количество ушедших клиентов: 1820\n"
     ]
    }
   ],
   "source": [
    "data_old = data[data['churn'] == 1]\n",
    "\n",
    "print(f'Общее количество ушедших клиентов:', data_old['user_id'].count())"
   ]
  },
  {
   "cell_type": "markdown",
   "metadata": {},
   "source": [
    "Рассмотрим распределение таких клиентов по возрастным группам и количеству продуктов банка, которые у них были"
   ]
  },
  {
   "cell_type": "code",
   "execution_count": 47,
   "metadata": {
    "scrolled": false
   },
   "outputs": [
    {
     "data": {
      "image/png": "[encoded data removed]",
      "text/plain": [
       "<Figure size 1080x360 with 1 Axes>"
      ]
     },
     "metadata": {
      "needs_background": "light"
     },
     "output_type": "display_data"
    }
   ],
   "source": [
    "fig = one_plot_creator(\n",
    "    df = data_old.groupby(by = ['products','age'], as_index= False)['user_id'].count(),\n",
    "    x = 'age',\n",
    "    y = 'user_id',\n",
    "    hue = 'products',\n",
    "    title = 'Распределение по наличию кредитной карты у клиента', \n",
    "    xaxis_title = \"Возраст\", \n",
    "    yaxis_title = 'Количество',\n",
    "    orientation='v',\n",
    "    legend_title = \"Кол-во продуктов\"\n",
    ")\n",
    "\n",
    "fig.show()"
   ]
  },
  {
   "cell_type": "markdown",
   "metadata": {},
   "source": [
    "Ну у нас получается, что клиенты чаще уходят в возрасте от 32-37, но стоит учесть, что их просто больше в наборе данных в целом. А вот пользователей, в возраст от 51 до 60 достаточно мало, однако \"уходят\" они на почти равно количестве, как и более молодые люди."
   ]
  },
  {
   "cell_type": "markdown",
   "metadata": {},
   "source": [
    "Теперь посмотрим распределение по зарплате, возможно там по-другому распределены данные. "
   ]
  },
  {
   "cell_type": "code",
   "execution_count": 45,
   "metadata": {},
   "outputs": [
    {
     "data": {
      "image/png": "[encoded data removed]",
      "text/plain": [
       "<Figure size 1080x360 with 1 Axes>"
      ]
     },
     "metadata": {
      "needs_background": "light"
     },
     "output_type": "display_data"
    }
   ],
   "source": [
    "fig = one_plot_creator(\n",
    "    df = data_old.groupby(by = ['products','category_balance'], as_index= False)['user_id'].count(),\n",
    "    x = 'category_balance',\n",
    "    y = 'user_id',\n",
    "    hue = 'products',\n",
    "    title = 'Распределение клиентов по заработной плате', \n",
    "    xaxis_title = \"Зарплата\", \n",
    "    yaxis_title = \"Количество\",\n",
    "    orientation='v',\n",
    "    legend_title = \"Кол-во продуктов\"\n",
    ")\n",
    "\n",
    "fig.show()"
   ]
  },
  {
   "cell_type": "markdown",
   "metadata": {},
   "source": [
    "Чаще \"уходят\" клиенту, которые зарабатывают более 140к. Возможно стоит задумать о лготных программах для таких клиентов. \n",
    "\n",
    "Давайте посмотрим еще и распределение по таким клиентам по наличию кредитных карт."
   ]
  },
  {
   "cell_type": "code",
   "execution_count": 46,
   "metadata": {},
   "outputs": [
    {
     "data": {
      "image/png": "[encoded data removed]",
      "text/plain": [
       "<Figure size 1080x360 with 1 Axes>"
      ]
     },
     "metadata": {
      "needs_background": "light"
     },
     "output_type": "display_data"
    }
   ],
   "source": [
    "fig = one_plot_creator(\n",
    "    df = data_old.groupby(by = ['products','credit_card'], as_index= False)['user_id'].sum(),\n",
    "    x = 'credit_card',\n",
    "    y = 'user_id',\n",
    "    hue = 'products',\n",
    "    title = 'Распределение клиентов по кредитным картам', \n",
    "    xaxis_title = \"Наличие кредитной карте\", \n",
    "    yaxis_title = \"Количество\",\n",
    "    orientation='v',\n",
    "    legend_title = \"Кол-во продуктов\"\n",
    ")\n",
    "\n",
    "fig.show()"
   ]
  },
  {
   "cell_type": "code",
   "execution_count": 51,
   "metadata": {},
   "outputs": [
    {
     "name": "stderr",
     "output_type": "stream",
     "text": [
      "No handles with labels found to put in legend.\n"
     ]
    },
    {
     "data": {
      "image/png": "[encoded data removed]",
      "text/plain": [
       "<Figure size 1080x360 with 1 Axes>"
      ]
     },
     "metadata": {
      "needs_background": "light"
     },
     "output_type": "display_data"
    }
   ],
   "source": [
    "fig = one_plot_creator(\n",
    "    df = data_old.groupby(by = ['products'], as_index= False)['score'].mean(),\n",
    "    x = 'products',\n",
    "    y = 'score',\n",
    "    #hue = 'products',\n",
    "    title = 'Распределение клиентов по оценке кредитного бюро', \n",
    "    xaxis_title = \"Количество продуктов\", \n",
    "    yaxis_title = \"Средний балл скорингова бюро\",\n",
    "    orientation='v',\n",
    "    #legend_title = \"Кол-во продуктов\"\n",
    ")\n",
    "\n",
    "fig.show()"
   ]
  },
  {
   "cell_type": "markdown",
   "metadata": {},
   "source": [
    "Больше клиентов, которые ушли из банка владели кредитными картами, возможно им не понравились данные программы. "
   ]
  },
  {
   "cell_type": "markdown",
   "metadata": {},
   "source": [
    "### Вывод\n",
    "\n",
    "Для начала мы разделили клиентов по признаку \"ушедший\" или нет, чтобы расмотреть их с разных сторон.\n",
    "Благодаря этому нам удалось выделить сегменты. \n",
    "\n",
    "Сегменты: \n",
    "\n",
    "   1. Владельцы 1 продуктом -  люди в возрасте от 18 до 86 лет, 1 продуктом банка. Больше всего таких людей в возрастной категории от 32 до 52 лет. Также у этой возрастной группы чаще встречают владельцы кредитной карты с одним продуктом, то есть клиент имеет только вредитную карту. \n",
    "   2. Владельцы 2 продуктами - самый большой сегмент пользователей в возрасте от 18 до 86 лет. Большенство людей из этого сеегмента владеют кредитной карты, можно предположить, что у них есть обычная дебетовая карта и кредитная карта. Также клиенты данного сегмента чаще уходят из банка, но стоит отметить, что это и самая многочисленная группа. При рассмотрении по зарплатам, в данном сегменте чаще уходят люди, которые получают от 140к. \n",
    "   3. Владельцы 3 продуктами банка - небольшая группа людей, в возрасте от 18 до 86 лет. Из таких клиентов чаще уходят люди, которые не владеют кредитной картой и с зарплатой от 140к. А еще пожилые люди с 64 до 67 лет часто переходят в другой банкт. Среди остальных пользователей у данного сегмента самый высокий средний балас на счете. \n",
    "   4. Владельцы 4 продуктов - клиенты в возрасте от 18 до 86 лет, чаще всего с зарплатой до 80к. Среди клиентов, которые владели 4 продуктами чаще всего уходили клиенты от 140к, значительно больше остальных. А вот баланс на счете в среднем занимает второе место. \n",
    "   5. Владельцы 5 продуктами - самая немногочисленная группа лиц, которая состоит всего из 19 человек. Все ушедшие из банка клиент, которые владели 5 продуктами имели кредитные карты \n",
    "\n",
    "Клиент, который имеет 0 продуктов банка добавлять выделять в сегмент будет нелогично, так возможно это был ошибочный ввод данных."
   ]
  },
  {
   "cell_type": "markdown",
   "metadata": {},
   "source": [
    "## Проверка статистических гипотез"
   ]
  },
  {
   "cell_type": "markdown",
   "metadata": {},
   "source": [
    "### Различие средних значении возраста по кол-ву продуктов.\n",
    "\n",
    "Проверим гипотезу различия возраста между теми клиентами, которые пользуются двумя продуктами банка, и теми, которые пользуются одним.\n",
    "\n",
    "***Нулевая гипотеза:*** средний возраст клиентов, которые пользуются двумя продктами банк и клиентами, которые пользуются одним продуктов, не различается\n",
    "\n",
    "***Альтернативная гипотеза:*** средний возраст клиентов, которые пользуются двумя продуктами банк и клиентами, которые пользуются одним продуктов, различается"
   ]
  },
  {
   "cell_type": "code",
   "execution_count": null,
   "metadata": {
    "scrolled": true
   },
   "outputs": [],
   "source": [
    "one_product = data[data['products'] == 1]['age']\n",
    "two_product = data[data['products'] == 2]['age']\n",
    "\n",
    "t_statistic, p_value = st.ttest_ind(two_product,one_product)\n",
    "\n",
    "\n",
    "print('Т-статистика:', t_statistic)\n",
    "print('P-значение:', p_value)\n",
    "\n",
    "if (p_value < 0.05 ):\n",
    "    print(\"Средний возраст различается между клиентами с двумя и одни продуктом\")\n",
    "else:\n",
    "    print(\"Средний возраст не различается между клиентами с двумя и одни продуктом\")"
   ]
  },
  {
   "cell_type": "markdown",
   "metadata": {},
   "source": [
    "*Как мы видим при проверке гипотезу средний возраст между клиентами с двуми и одни продуктом не различается, однак стоит отметить, что среднее значение первой выборки(с двумя продуктами) чуть больше среднего значения второй выборки(с одни продуктом)*"
   ]
  },
  {
   "cell_type": "markdown",
   "metadata": {},
   "source": [
    "### Различие средних балансов на счетах клиентов. \n",
    "\n",
    "**Нулевая гипотеза:** средний баланс на счете не различается между клиентами, владеющими кредитными картой, и клиентами, не владеющими кредитной картой \n",
    "\n",
    "**Альтернативная гипотеза:** средний баланс на счете различается между клиентами, владеющими кредитной картой, и клиентами, не владеющими кредитной картой. "
   ]
  },
  {
   "cell_type": "code",
   "execution_count": null,
   "metadata": {},
   "outputs": [],
   "source": [
    "client_with_cc = data[data['credit_card'] == 1]['balance']\n",
    "client_without_cc = data[data['credit_card'] == 0]['balance']\n",
    "\n",
    "t_statistic, p_value = st.ttest_ind(client_with_cc,client_without_cc)\n",
    "\n",
    "\n",
    "print('Т-статистика:', t_statistic)\n",
    "print('P-значение:', p_value)\n",
    "\n",
    "if (p_value < 0.05 ):\n",
    "    print(\"Баланс на счете различается между клиентами с кредитной кратой и без\")\n",
    "else:\n",
    "    print(\"Баланс на счете не различается между клиентами с кредитной кратой и без\")"
   ]
  },
  {
   "cell_type": "markdown",
   "metadata": {},
   "source": [
    "*Как мы видим при проверке гипотезу среднее значение на балансе между клиентами с кредитной картой  и без различается. Значение баланса на счете у клиентов без кредитной карты значительно больше, чем у клиентов с кредитной картой.*"
   ]
  },
  {
   "cell_type": "markdown",
   "metadata": {},
   "source": [
    "## Общий вывод"
   ]
  },
  {
   "cell_type": "markdown",
   "metadata": {},
   "source": [
    "В ходе исследования мы: \n",
    " 1. Загрузили данные и сделали их предобработку.\n",
    "    - Проверили данные на наличие дубликатов.\n",
    "    Удалили полные дубликаты и выявили неявные дубликаты, которые решили не убирать,так как это ценная информация для нашего исследования. \n",
    "    - Проверили данные на пропуски и выбросы \n",
    " 2. Провели исследовательский анализ данных, из которого нам удалось узнать: \n",
    "    - клиенты почти в равной мере респределены между мужским и женским полом\n",
    "    - больше половины клиентов используются кредитную карту, а именно 64%\n",
    "    - пользователи предпочитают использовать по 2 продукта банка\n",
    "    - возрастной диапозон клиентов находится в промежутке между 18 и 86 годами\n",
    "    Также на тепловой карте мы не увидели зависимостей между числовыми данными клиентов.\n",
    " 3. Сделали сегментацию клиентов по продуктовому признаку. \n",
    "    - Большая часть людей во вмех категориях выбирает 2 продукта, этот показатель сильно выбивается при рассмотрении данных с разных сторон.\n",
    "    - Есть клиенты, которые владеют только кредитными картами банка и не имеют другой продукции.\n",
    "    - Часть людей с запрлатой от 80к до 140к предпочитает использоватльзовать кредитные карты\n",
    "    При рассмотрении клиентов, которые перестали пользоваться услугами банка нам удалось выяснить: \n",
    "    - Большой отток пользователей банка произошел в возрастной категории от 51 до 60 лет. \n",
    "    - Также большей отток пользователей произошел среди людей, которые зарабатывают 140к \n",
    "    - и также больше людей ушло среди владельцев кредитными картами. \n",
    " 4. Также мы проверили статическую гипотезу, которая подтвердила, что возраста клиентов, которые пользуются одни и двумя продуктами банка примерно одинаковые \n",
    " \n",
    "**После исследования нам удалось выделить сегменты**\n",
    " \n",
    "   1. Владельцы 1 продуктом -  люди в возрасте от 18 до 86 лет, 1 продуктом банка. Больше всего таких людей в возрастной категории от 32 до 52 лет. Также у этой возрастной группы чаще встречают владельцы кредитной карты с одним продуктом, то есть клиент имеет только вредитную карту. \n",
    "   \n",
    "   ***Рекомендации.*** Если клиенты, владеют только кредитными картами, что не очень выгодно для банка. Стоит предложить владельцами кредитных карт скидку на обслуживание дебетовых карт или же, например, повышенных кэшбек на покупки. Или льготную ставку по выплатам задолжностей по кредитной карте. \n",
    "   \n",
    "   \n",
    "   2. Владельцы 2 продуктами - самый большой сегмент пользователей в возрасте от 18 до 86 лет. Большенство людей из этого сеегмента владеют кредитной карты, можно предположить, что у них есть обычная дебетовая карта и кредитная карта. Также клиенты данного сегмента чаще уходят из банка, но стоит отметить, что это и самая многочисленная группа. При рассмотрении по зарплатам, в данном сегменте чаще уходят люди, которые получают от 140к. \n",
    "   \n",
    "   ***Рекомендации.*** Не могу выделить каких-либо рекомендации, так клиенты итак отлично пользуются услугами банка. Разве что можно делать краткосрочные предложения, как месяц бесплатного обслуживания для клиентов, которые хотят уйти из банка. \n",
    "   \n",
    "   \n",
    "   3. Владельцы 3 продуктами банка - небольшая группа людей, в возрасте от 18 до 86 лет. Из таких клиентов чаще уходят люди, которые не владеют кредитной картой и с зарплатой от 140к. А еще пожилые люди с 64 до 67 лет часто переходят в другой банкт. Среди остальных пользователей у данного сегмента самый высокий средний балас на счете. Так как в данном сегменте достаточно мало людей, которые зарабатывюат от 140к, к тому же они чаще уходят. Стоит сделать акцент на предложения для них. Также стоит обратить внимание, что в сегменте много пожилых людей в возрасте от 53 лет. \n",
    "    \n",
    "   ***Рекомендации.*** Можно предложить клиентам, которые зарабатывают от 140к пониженную ставку по кредиту или бесплатное обслуживание карты. Для пожилых людей стоит сделать предложение по вкладам, так как их может это заинтересовать. Или предложить скидку по оплате картой банка в каком-то популярном продуктовом магазине.\n",
    "    \n",
    "   \n",
    "   4. Владельцы 4 продуктов - клиенты в возрасте от 18 до 86 лет, чаще всего с зарплатой до 80к. Среди клиентов, которые владели 4 продуктами чаще всего уходили клиенты от 140к, значительно больше остальных. А вот баланс на счете в среднем занимает второе место. \n",
    "    \n",
    "   ***Рекомендации.*** Стоит предложить для клиентов, которые зарабытвают от 140к, присвоить статус vip-клиентов, на месяц или год, чтобы они почувствовали на сколько они важны банку, или предложить льготную ставку по вкладам. \n",
    "    \n",
    "   \n",
    "   5. Владельцы 5 продуктами - самая немногочисленная группа лиц, которая состоит всего из 19 человек. Все ушедшие из банка клиент, которые владели 5 продуктами имели кредитные карты\n",
    "   \n",
    "    \n",
    "   ***Рекомендации.***  Нельзя выделить особенных рекомендации, так как клиенты итак достаточно хорошо пользуются продуктами банка, поэтому стоит обратить внимание на ушедших или уходящих клиентов из данного сегменты. Можно предложить им статус vip-клиентов на какой-то период или сделать льготный период по оплате кредитной карты/кредита, как бы заморозку, в которую они могу не платить. \n",
    "\n",
    "\n",
    "Ссылка на презентацию: https://disk.yandex.ru/d/LzaheifXjIxa2g\n",
    "Ссылка на дашборд: https://public.tableau.com/app/profile/nadya.loseva/viz/Book1_16859716554970/Dashboard1?publish=yes"
   ]
  }
 ],
 "metadata": {
  "ExecuteTimeLog": [
   {
    "duration": 422,
    "start_time": "2023-05-31T16:02:15.160Z"
   },
   {
    "duration": 1327,
    "start_time": "2023-05-31T16:02:55.471Z"
   },
   {
    "duration": 93,
    "start_time": "2023-05-31T16:04:54.598Z"
   },
   {
    "duration": 3359,
    "start_time": "2023-05-31T16:05:03.103Z"
   },
   {
    "duration": 2240,
    "start_time": "2023-05-31T16:05:17.858Z"
   },
   {
    "duration": 1255,
    "start_time": "2023-05-31T16:08:09.522Z"
   },
   {
    "duration": 11,
    "start_time": "2023-05-31T16:19:37.969Z"
   },
   {
    "duration": 7,
    "start_time": "2023-05-31T16:20:13.782Z"
   },
   {
    "duration": 4,
    "start_time": "2023-05-31T16:20:27.397Z"
   },
   {
    "duration": 18,
    "start_time": "2023-05-31T16:20:33.372Z"
   },
   {
    "duration": 15,
    "start_time": "2023-05-31T16:23:23.438Z"
   },
   {
    "duration": 18,
    "start_time": "2023-05-31T16:23:59.241Z"
   },
   {
    "duration": 49,
    "start_time": "2023-05-31T16:26:01.537Z"
   },
   {
    "duration": 29,
    "start_time": "2023-05-31T16:26:46.470Z"
   },
   {
    "duration": 26,
    "start_time": "2023-05-31T16:27:05.375Z"
   },
   {
    "duration": 19,
    "start_time": "2023-05-31T16:27:30.969Z"
   },
   {
    "duration": 18,
    "start_time": "2023-05-31T16:28:03.121Z"
   },
   {
    "duration": 139,
    "start_time": "2023-05-31T16:28:43.393Z"
   },
   {
    "duration": 20,
    "start_time": "2023-05-31T16:28:58.017Z"
   },
   {
    "duration": 22,
    "start_time": "2023-05-31T16:29:06.697Z"
   },
   {
    "duration": 22,
    "start_time": "2023-05-31T16:29:13.112Z"
   },
   {
    "duration": 25,
    "start_time": "2023-05-31T16:29:24.481Z"
   },
   {
    "duration": 24,
    "start_time": "2023-05-31T16:30:55.117Z"
   },
   {
    "duration": 31,
    "start_time": "2023-05-31T16:31:02.681Z"
   },
   {
    "duration": 11,
    "start_time": "2023-05-31T16:32:22.379Z"
   },
   {
    "duration": 127,
    "start_time": "2023-05-31T16:32:47.512Z"
   },
   {
    "duration": 7,
    "start_time": "2023-05-31T16:33:09.305Z"
   },
   {
    "duration": 8,
    "start_time": "2023-05-31T16:33:35.975Z"
   },
   {
    "duration": 8,
    "start_time": "2023-05-31T16:33:44.937Z"
   },
   {
    "duration": 24,
    "start_time": "2023-05-31T16:35:03.170Z"
   },
   {
    "duration": 4,
    "start_time": "2023-05-31T16:36:27.393Z"
   },
   {
    "duration": 41,
    "start_time": "2023-05-31T16:37:50.675Z"
   },
   {
    "duration": 21,
    "start_time": "2023-05-31T16:41:01.592Z"
   },
   {
    "duration": 10,
    "start_time": "2023-05-31T16:41:26.571Z"
   },
   {
    "duration": 1223,
    "start_time": "2023-05-31T16:42:01.228Z"
   },
   {
    "duration": 38,
    "start_time": "2023-05-31T16:42:02.453Z"
   },
   {
    "duration": 11,
    "start_time": "2023-05-31T16:42:34.196Z"
   },
   {
    "duration": 10,
    "start_time": "2023-05-31T16:42:54.688Z"
   },
   {
    "duration": 937,
    "start_time": "2023-05-31T16:42:58.605Z"
   },
   {
    "duration": 35,
    "start_time": "2023-05-31T16:43:01.965Z"
   },
   {
    "duration": 2912,
    "start_time": "2023-05-31T16:44:49.144Z"
   },
   {
    "duration": 2066,
    "start_time": "2023-05-31T16:44:56.478Z"
   },
   {
    "duration": 39,
    "start_time": "2023-05-31T16:45:00.244Z"
   },
   {
    "duration": 39,
    "start_time": "2023-05-31T16:45:18.144Z"
   },
   {
    "duration": 62,
    "start_time": "2023-05-31T16:45:57.625Z"
   },
   {
    "duration": 43,
    "start_time": "2023-05-31T16:46:31.289Z"
   },
   {
    "duration": 5,
    "start_time": "2023-05-31T16:47:14.328Z"
   },
   {
    "duration": 17,
    "start_time": "2023-05-31T16:47:31.816Z"
   },
   {
    "duration": 28,
    "start_time": "2023-05-31T16:59:15.979Z"
   },
   {
    "duration": 19,
    "start_time": "2023-05-31T16:59:28.419Z"
   },
   {
    "duration": 27,
    "start_time": "2023-05-31T17:05:32.407Z"
   },
   {
    "duration": 23,
    "start_time": "2023-05-31T17:05:50.471Z"
   },
   {
    "duration": 2153,
    "start_time": "2023-05-31T17:06:38.844Z"
   },
   {
    "duration": 20,
    "start_time": "2023-05-31T17:06:54.235Z"
   },
   {
    "duration": 23,
    "start_time": "2023-05-31T17:07:55.363Z"
   },
   {
    "duration": 121,
    "start_time": "2023-05-31T17:11:20.287Z"
   },
   {
    "duration": 10,
    "start_time": "2023-05-31T17:11:51.031Z"
   },
   {
    "duration": 5,
    "start_time": "2023-05-31T17:11:56.281Z"
   },
   {
    "duration": 804,
    "start_time": "2023-05-31T17:14:24.990Z"
   },
   {
    "duration": 5,
    "start_time": "2023-05-31T17:18:25.812Z"
   },
   {
    "duration": 282,
    "start_time": "2023-05-31T17:18:29.723Z"
   },
   {
    "duration": 54,
    "start_time": "2023-05-31T17:18:47.673Z"
   },
   {
    "duration": 45,
    "start_time": "2023-05-31T17:18:53.772Z"
   },
   {
    "duration": 50,
    "start_time": "2023-05-31T17:19:45.725Z"
   },
   {
    "duration": 241,
    "start_time": "2023-05-31T17:21:05.575Z"
   },
   {
    "duration": 46,
    "start_time": "2023-05-31T17:22:26.338Z"
   },
   {
    "duration": 563,
    "start_time": "2023-05-31T17:22:44.794Z"
   },
   {
    "duration": 78,
    "start_time": "2023-05-31T17:22:48.423Z"
   },
   {
    "duration": 48,
    "start_time": "2023-05-31T17:23:13.511Z"
   },
   {
    "duration": 69,
    "start_time": "2023-05-31T17:23:22.286Z"
   },
   {
    "duration": 216,
    "start_time": "2023-05-31T17:23:47.865Z"
   },
   {
    "duration": 344,
    "start_time": "2023-05-31T17:27:01.571Z"
   },
   {
    "duration": 219,
    "start_time": "2023-05-31T17:27:21.918Z"
   },
   {
    "duration": 362,
    "start_time": "2023-05-31T17:27:51.143Z"
   },
   {
    "duration": 355,
    "start_time": "2023-05-31T17:28:05.507Z"
   },
   {
    "duration": 483,
    "start_time": "2023-05-31T17:28:16.519Z"
   },
   {
    "duration": 299,
    "start_time": "2023-05-31T17:35:55.856Z"
   },
   {
    "duration": 343,
    "start_time": "2023-05-31T17:37:36.155Z"
   },
   {
    "duration": 339,
    "start_time": "2023-05-31T17:37:50.730Z"
   },
   {
    "duration": 318,
    "start_time": "2023-05-31T17:38:11.169Z"
   },
   {
    "duration": 478,
    "start_time": "2023-05-31T17:40:45.786Z"
   },
   {
    "duration": 30,
    "start_time": "2023-05-31T17:41:53.444Z"
   },
   {
    "duration": 59,
    "start_time": "2023-05-31T17:42:35.679Z"
   },
   {
    "duration": 27,
    "start_time": "2023-05-31T17:48:18.809Z"
   },
   {
    "duration": 34,
    "start_time": "2023-05-31T17:48:28.688Z"
   },
   {
    "duration": 203,
    "start_time": "2023-05-31T17:48:39.317Z"
   },
   {
    "duration": 177,
    "start_time": "2023-05-31T17:49:08.609Z"
   },
   {
    "duration": 170,
    "start_time": "2023-05-31T17:49:18.426Z"
   },
   {
    "duration": 27,
    "start_time": "2023-05-31T17:50:11.509Z"
   },
   {
    "duration": 181,
    "start_time": "2023-05-31T17:50:22.885Z"
   },
   {
    "duration": 196,
    "start_time": "2023-05-31T17:50:59.518Z"
   },
   {
    "duration": 188,
    "start_time": "2023-05-31T17:51:32.192Z"
   },
   {
    "duration": 24,
    "start_time": "2023-05-31T17:59:37.506Z"
   },
   {
    "duration": 253,
    "start_time": "2023-05-31T18:00:09.109Z"
   },
   {
    "duration": 241,
    "start_time": "2023-05-31T18:00:41.302Z"
   },
   {
    "duration": 280,
    "start_time": "2023-05-31T18:00:56.614Z"
   },
   {
    "duration": 382,
    "start_time": "2023-05-31T18:01:04.626Z"
   },
   {
    "duration": 408,
    "start_time": "2023-05-31T18:03:07.338Z"
   },
   {
    "duration": 3,
    "start_time": "2023-05-31T18:14:53.294Z"
   },
   {
    "duration": 1454,
    "start_time": "2023-05-31T18:14:55.342Z"
   },
   {
    "duration": 61,
    "start_time": "2023-05-31T18:14:56.799Z"
   },
   {
    "duration": 14,
    "start_time": "2023-05-31T18:14:59.290Z"
   },
   {
    "duration": 4,
    "start_time": "2023-05-31T18:15:05.138Z"
   },
   {
    "duration": 8,
    "start_time": "2023-05-31T18:15:05.685Z"
   },
   {
    "duration": 300,
    "start_time": "2023-05-31T18:15:08.631Z"
   },
   {
    "duration": 180,
    "start_time": "2023-05-31T18:15:11.126Z"
   },
   {
    "duration": 242,
    "start_time": "2023-05-31T18:15:13.924Z"
   },
   {
    "duration": 302,
    "start_time": "2023-05-31T18:15:16.630Z"
   },
   {
    "duration": 30,
    "start_time": "2023-05-31T18:17:02.169Z"
   },
   {
    "duration": 24,
    "start_time": "2023-05-31T18:17:56.782Z"
   },
   {
    "duration": 261,
    "start_time": "2023-05-31T18:18:07.151Z"
   },
   {
    "duration": 303,
    "start_time": "2023-05-31T18:18:16.775Z"
   },
   {
    "duration": 366,
    "start_time": "2023-05-31T18:18:27.271Z"
   },
   {
    "duration": 10,
    "start_time": "2023-05-31T18:22:33.184Z"
   },
   {
    "duration": 8,
    "start_time": "2023-05-31T18:23:24.522Z"
   },
   {
    "duration": 264,
    "start_time": "2023-05-31T18:25:02.845Z"
   },
   {
    "duration": 143,
    "start_time": "2023-05-31T18:25:29.387Z"
   },
   {
    "duration": 1350,
    "start_time": "2023-05-31T18:27:33.918Z"
   },
   {
    "duration": 38,
    "start_time": "2023-05-31T18:27:43.966Z"
   },
   {
    "duration": 11,
    "start_time": "2023-05-31T18:30:01.561Z"
   },
   {
    "duration": 168,
    "start_time": "2023-05-31T18:30:57.212Z"
   },
   {
    "duration": 264,
    "start_time": "2023-05-31T18:32:00.285Z"
   },
   {
    "duration": 287,
    "start_time": "2023-05-31T18:32:15.417Z"
   },
   {
    "duration": 249,
    "start_time": "2023-05-31T18:32:33.567Z"
   },
   {
    "duration": 246,
    "start_time": "2023-05-31T18:33:44.595Z"
   },
   {
    "duration": 138,
    "start_time": "2023-05-31T18:35:28.064Z"
   },
   {
    "duration": 15,
    "start_time": "2023-05-31T18:36:52.580Z"
   },
   {
    "duration": 19,
    "start_time": "2023-05-31T18:38:04.607Z"
   },
   {
    "duration": 16,
    "start_time": "2023-05-31T18:38:23.511Z"
   },
   {
    "duration": 14,
    "start_time": "2023-05-31T18:38:37.402Z"
   },
   {
    "duration": 21,
    "start_time": "2023-05-31T18:38:44.842Z"
   },
   {
    "duration": 15,
    "start_time": "2023-05-31T18:39:40.281Z"
   },
   {
    "duration": 272,
    "start_time": "2023-05-31T18:41:51.370Z"
   },
   {
    "duration": 25,
    "start_time": "2023-05-31T18:42:36.609Z"
   },
   {
    "duration": 21,
    "start_time": "2023-05-31T18:42:58.981Z"
   },
   {
    "duration": 4,
    "start_time": "2023-05-31T18:47:02.784Z"
   },
   {
    "duration": 21,
    "start_time": "2023-05-31T18:47:10.910Z"
   },
   {
    "duration": 8,
    "start_time": "2023-05-31T18:47:44.186Z"
   },
   {
    "duration": 21,
    "start_time": "2023-05-31T18:47:45.004Z"
   },
   {
    "duration": 304,
    "start_time": "2023-05-31T18:48:06.512Z"
   },
   {
    "duration": 12,
    "start_time": "2023-05-31T18:48:34.695Z"
   },
   {
    "duration": 20,
    "start_time": "2023-05-31T18:48:42.818Z"
   },
   {
    "duration": 13,
    "start_time": "2023-05-31T18:48:55.724Z"
   },
   {
    "duration": 7,
    "start_time": "2023-05-31T18:53:15.583Z"
   },
   {
    "duration": 7,
    "start_time": "2023-05-31T18:54:11.798Z"
   },
   {
    "duration": 13,
    "start_time": "2023-05-31T18:54:43.243Z"
   },
   {
    "duration": 110,
    "start_time": "2023-05-31T18:55:01.571Z"
   },
   {
    "duration": 12,
    "start_time": "2023-05-31T18:55:13.195Z"
   },
   {
    "duration": 26,
    "start_time": "2023-05-31T18:56:12.834Z"
   },
   {
    "duration": 1374,
    "start_time": "2023-06-03T19:12:36.499Z"
   },
   {
    "duration": 1170,
    "start_time": "2023-06-03T19:12:38.940Z"
   },
   {
    "duration": 62,
    "start_time": "2023-06-03T19:13:02.459Z"
   },
   {
    "duration": 17,
    "start_time": "2023-06-03T19:13:05.619Z"
   },
   {
    "duration": 12,
    "start_time": "2023-06-03T19:13:09.056Z"
   },
   {
    "duration": 309,
    "start_time": "2023-06-03T19:13:11.472Z"
   },
   {
    "duration": 334,
    "start_time": "2023-06-03T19:13:49.541Z"
   },
   {
    "duration": 22,
    "start_time": "2023-06-03T19:13:53.956Z"
   },
   {
    "duration": 3,
    "start_time": "2023-06-03T19:16:33.443Z"
   },
   {
    "duration": 1575,
    "start_time": "2023-06-03T19:16:33.448Z"
   },
   {
    "duration": 71,
    "start_time": "2023-06-03T19:18:24.694Z"
   },
   {
    "duration": 19,
    "start_time": "2023-06-03T19:18:28.125Z"
   },
   {
    "duration": 10,
    "start_time": "2023-06-03T19:18:29.698Z"
   },
   {
    "duration": 278,
    "start_time": "2023-06-03T19:18:30.713Z"
   },
   {
    "duration": 154118,
    "start_time": "2023-06-03T19:18:32.946Z"
   },
   {
    "duration": 11,
    "start_time": "2023-06-03T19:23:58.337Z"
   },
   {
    "duration": 10,
    "start_time": "2023-06-03T19:24:12.926Z"
   },
   {
    "duration": 18,
    "start_time": "2023-06-03T19:24:32.173Z"
   },
   {
    "duration": 313,
    "start_time": "2023-06-03T19:26:05.865Z"
   },
   {
    "duration": 43,
    "start_time": "2023-06-03T19:33:42.704Z"
   },
   {
    "duration": 34,
    "start_time": "2023-06-03T19:34:08.778Z"
   },
   {
    "duration": 712,
    "start_time": "2023-06-03T19:34:47.092Z"
   },
   {
    "duration": 24,
    "start_time": "2023-06-03T19:35:34.283Z"
   },
   {
    "duration": 579,
    "start_time": "2023-06-03T19:36:02.796Z"
   },
   {
    "duration": 39,
    "start_time": "2023-06-03T19:37:59.047Z"
   },
   {
    "duration": 251,
    "start_time": "2023-06-03T19:38:09.727Z"
   },
   {
    "duration": 144,
    "start_time": "2023-06-03T19:38:53.273Z"
   },
   {
    "duration": 21,
    "start_time": "2023-06-03T19:41:53.892Z"
   },
   {
    "duration": 184,
    "start_time": "2023-06-03T19:42:03.658Z"
   },
   {
    "duration": 18,
    "start_time": "2023-06-04T14:30:29.701Z"
   },
   {
    "duration": 1363,
    "start_time": "2023-06-04T14:30:45.451Z"
   },
   {
    "duration": 9,
    "start_time": "2023-06-04T14:30:47.792Z"
   },
   {
    "duration": 1139,
    "start_time": "2023-06-04T14:30:48.607Z"
   },
   {
    "duration": 66,
    "start_time": "2023-06-04T14:30:53.332Z"
   },
   {
    "duration": 17,
    "start_time": "2023-06-04T14:30:55.763Z"
   },
   {
    "duration": 7,
    "start_time": "2023-06-04T14:30:57.448Z"
   },
   {
    "duration": 295,
    "start_time": "2023-06-04T14:31:01.504Z"
   },
   {
    "duration": 172,
    "start_time": "2023-06-04T14:33:39.419Z"
   },
   {
    "duration": 20,
    "start_time": "2023-06-04T14:35:24.411Z"
   },
   {
    "duration": 115,
    "start_time": "2023-06-04T14:35:46.330Z"
   },
   {
    "duration": 449,
    "start_time": "2023-06-04T14:35:50.996Z"
   },
   {
    "duration": 88,
    "start_time": "2023-06-04T14:36:29.455Z"
   },
   {
    "duration": 92,
    "start_time": "2023-06-04T14:36:39.515Z"
   },
   {
    "duration": 140,
    "start_time": "2023-06-04T14:36:43.823Z"
   },
   {
    "duration": 8,
    "start_time": "2023-06-04T14:37:33.296Z"
   },
   {
    "duration": 76,
    "start_time": "2023-06-04T14:37:36.475Z"
   },
   {
    "duration": 4,
    "start_time": "2023-06-04T14:39:05.731Z"
   },
   {
    "duration": 78,
    "start_time": "2023-06-04T14:39:09.971Z"
   },
   {
    "duration": 6,
    "start_time": "2023-06-04T14:39:39.302Z"
   },
   {
    "duration": 84,
    "start_time": "2023-06-04T14:39:43.635Z"
   },
   {
    "duration": 60,
    "start_time": "2023-06-04T14:41:05.305Z"
   },
   {
    "duration": 5,
    "start_time": "2023-06-04T14:43:54.759Z"
   },
   {
    "duration": 18,
    "start_time": "2023-06-04T14:43:59.100Z"
   },
   {
    "duration": 384,
    "start_time": "2023-06-04T14:44:09.999Z"
   },
   {
    "duration": 8,
    "start_time": "2023-06-04T14:44:58.693Z"
   },
   {
    "duration": 325,
    "start_time": "2023-06-04T14:45:03.403Z"
   },
   {
    "duration": 4,
    "start_time": "2023-06-04T14:45:16.617Z"
   },
   {
    "duration": 290,
    "start_time": "2023-06-04T14:45:22.574Z"
   },
   {
    "duration": 303,
    "start_time": "2023-06-04T14:45:39.428Z"
   },
   {
    "duration": 302,
    "start_time": "2023-06-04T14:45:45.910Z"
   },
   {
    "duration": 39,
    "start_time": "2023-06-04T14:47:06.675Z"
   },
   {
    "duration": 33,
    "start_time": "2023-06-04T14:47:23.496Z"
   },
   {
    "duration": 304,
    "start_time": "2023-06-04T14:47:30.866Z"
   },
   {
    "duration": 4,
    "start_time": "2023-06-04T14:48:31.814Z"
   },
   {
    "duration": 175,
    "start_time": "2023-06-04T14:48:34.953Z"
   },
   {
    "duration": 29,
    "start_time": "2023-06-04T14:48:40.399Z"
   },
   {
    "duration": 180,
    "start_time": "2023-06-04T14:48:46.818Z"
   },
   {
    "duration": 185,
    "start_time": "2023-06-04T14:49:28.138Z"
   },
   {
    "duration": 182,
    "start_time": "2023-06-04T14:50:47.322Z"
   },
   {
    "duration": 37,
    "start_time": "2023-06-04T14:50:53.473Z"
   },
   {
    "duration": 189,
    "start_time": "2023-06-04T14:51:01.338Z"
   },
   {
    "duration": 1328,
    "start_time": "2023-06-04T14:51:43.659Z"
   },
   {
    "duration": 4,
    "start_time": "2023-06-04T14:51:45.970Z"
   },
   {
    "duration": 1042,
    "start_time": "2023-06-04T14:51:46.663Z"
   },
   {
    "duration": 49,
    "start_time": "2023-06-04T14:51:49.266Z"
   },
   {
    "duration": 14,
    "start_time": "2023-06-04T14:51:50.398Z"
   },
   {
    "duration": 7,
    "start_time": "2023-06-04T14:51:51.906Z"
   },
   {
    "duration": 275,
    "start_time": "2023-06-04T14:51:54.529Z"
   },
   {
    "duration": 155,
    "start_time": "2023-06-04T14:51:57.751Z"
   },
   {
    "duration": 294,
    "start_time": "2023-06-04T14:52:01.751Z"
   },
   {
    "duration": 180,
    "start_time": "2023-06-04T14:52:13.939Z"
   },
   {
    "duration": 189,
    "start_time": "2023-06-04T14:52:28.351Z"
   },
   {
    "duration": 323,
    "start_time": "2023-06-04T14:52:34.259Z"
   },
   {
    "duration": 136,
    "start_time": "2023-06-04T14:53:12.415Z"
   },
   {
    "duration": 10,
    "start_time": "2023-06-04T14:53:18.693Z"
   },
   {
    "duration": 202,
    "start_time": "2023-06-04T14:53:24.402Z"
   },
   {
    "duration": 239,
    "start_time": "2023-06-04T14:55:10.262Z"
   },
   {
    "duration": 18,
    "start_time": "2023-06-04T14:55:11.439Z"
   },
   {
    "duration": 16,
    "start_time": "2023-06-04T14:55:16.359Z"
   },
   {
    "duration": 8,
    "start_time": "2023-06-04T14:55:17.555Z"
   },
   {
    "duration": 14,
    "start_time": "2023-06-04T14:55:40.397Z"
   },
   {
    "duration": 0,
    "start_time": "2023-06-04T14:58:25.909Z"
   },
   {
    "duration": 19,
    "start_time": "2023-06-04T14:58:28.006Z"
   },
   {
    "duration": 2979,
    "start_time": "2023-06-04T14:58:50.666Z"
   },
   {
    "duration": 21,
    "start_time": "2023-06-04T14:59:24.410Z"
   },
   {
    "duration": 14,
    "start_time": "2023-06-04T14:59:38.570Z"
   },
   {
    "duration": 21,
    "start_time": "2023-06-04T14:59:55.354Z"
   },
   {
    "duration": 1205,
    "start_time": "2023-06-04T15:00:03.614Z"
   },
   {
    "duration": 1132,
    "start_time": "2023-06-04T15:05:21.553Z"
   },
   {
    "duration": 4,
    "start_time": "2023-06-04T15:05:35.602Z"
   },
   {
    "duration": 1190,
    "start_time": "2023-06-04T15:05:41.629Z"
   },
   {
    "duration": 5,
    "start_time": "2023-06-04T15:05:58.994Z"
   },
   {
    "duration": 1302,
    "start_time": "2023-06-04T15:06:05.245Z"
   },
   {
    "duration": 9,
    "start_time": "2023-06-04T15:06:29.791Z"
   },
   {
    "duration": 1119,
    "start_time": "2023-06-04T15:06:34.515Z"
   },
   {
    "duration": 176,
    "start_time": "2023-06-04T15:06:50.530Z"
   },
   {
    "duration": 13,
    "start_time": "2023-06-04T15:12:52.137Z"
   },
   {
    "duration": 20,
    "start_time": "2023-06-04T15:13:14.773Z"
   },
   {
    "duration": 5,
    "start_time": "2023-06-04T15:13:47.462Z"
   },
   {
    "duration": 20,
    "start_time": "2023-06-04T15:14:41.598Z"
   },
   {
    "duration": 27,
    "start_time": "2023-06-04T15:14:56.213Z"
   },
   {
    "duration": 14,
    "start_time": "2023-06-04T15:16:04.831Z"
   },
   {
    "duration": 16,
    "start_time": "2023-06-04T15:16:40.853Z"
   },
   {
    "duration": 225,
    "start_time": "2023-06-04T15:16:56.306Z"
   },
   {
    "duration": 1242,
    "start_time": "2023-06-04T15:17:15.036Z"
   },
   {
    "duration": 1235,
    "start_time": "2023-06-04T15:17:27.854Z"
   },
   {
    "duration": 177,
    "start_time": "2023-06-04T15:22:15.744Z"
   },
   {
    "duration": 130250,
    "start_time": "2023-06-04T15:22:39.205Z"
   },
   {
    "duration": 120,
    "start_time": "2023-06-04T15:27:19.406Z"
   },
   {
    "duration": 94,
    "start_time": "2023-06-04T15:27:37.064Z"
   },
   {
    "duration": 125,
    "start_time": "2023-06-04T15:27:43.835Z"
   },
   {
    "duration": 106,
    "start_time": "2023-06-04T15:27:49.040Z"
   },
   {
    "duration": 184,
    "start_time": "2023-06-04T15:41:14.444Z"
   },
   {
    "duration": 112,
    "start_time": "2023-06-04T15:42:36.917Z"
   },
   {
    "duration": 206,
    "start_time": "2023-06-04T15:42:45.343Z"
   },
   {
    "duration": 1327,
    "start_time": "2023-06-04T15:43:39.627Z"
   },
   {
    "duration": 5,
    "start_time": "2023-06-04T15:43:40.955Z"
   },
   {
    "duration": 1108,
    "start_time": "2023-06-04T15:43:40.961Z"
   },
   {
    "duration": 72,
    "start_time": "2023-06-04T15:43:44.126Z"
   },
   {
    "duration": 18,
    "start_time": "2023-06-04T15:43:46.855Z"
   },
   {
    "duration": 17,
    "start_time": "2023-06-04T15:43:49.713Z"
   },
   {
    "duration": 406,
    "start_time": "2023-06-04T15:43:50.978Z"
   },
   {
    "duration": 227,
    "start_time": "2023-06-04T15:43:53.164Z"
   },
   {
    "duration": 250,
    "start_time": "2023-06-04T15:43:57.413Z"
   },
   {
    "duration": 218,
    "start_time": "2023-06-04T15:44:00.519Z"
   },
   {
    "duration": 268,
    "start_time": "2023-06-04T15:44:03.599Z"
   },
   {
    "duration": 207,
    "start_time": "2023-06-04T15:44:06.459Z"
   },
   {
    "duration": 10,
    "start_time": "2023-06-04T15:44:09.255Z"
   },
   {
    "duration": 187,
    "start_time": "2023-06-04T15:44:20.115Z"
   },
   {
    "duration": 14,
    "start_time": "2023-06-04T15:44:20.939Z"
   },
   {
    "duration": 366,
    "start_time": "2023-06-04T15:44:27.900Z"
   },
   {
    "duration": 26,
    "start_time": "2023-06-04T15:44:28.355Z"
   },
   {
    "duration": 14,
    "start_time": "2023-06-04T15:44:30.336Z"
   },
   {
    "duration": 18,
    "start_time": "2023-06-04T15:44:31.293Z"
   },
   {
    "duration": 1333,
    "start_time": "2023-06-04T15:44:33.937Z"
   },
   {
    "duration": 186,
    "start_time": "2023-06-04T15:44:35.272Z"
   },
   {
    "duration": 12,
    "start_time": "2023-06-04T15:44:36.023Z"
   },
   {
    "duration": 107,
    "start_time": "2023-06-04T15:44:38.367Z"
   },
   {
    "duration": 171,
    "start_time": "2023-06-04T15:44:39.727Z"
   },
   {
    "duration": 117,
    "start_time": "2023-06-04T15:44:46.467Z"
   },
   {
    "duration": 153,
    "start_time": "2023-06-04T15:51:17.625Z"
   },
   {
    "duration": 126,
    "start_time": "2023-06-04T15:54:15.696Z"
   },
   {
    "duration": 128,
    "start_time": "2023-06-04T15:54:32.598Z"
   },
   {
    "duration": 205,
    "start_time": "2023-06-04T15:54:47.712Z"
   },
   {
    "duration": 316,
    "start_time": "2023-06-04T16:04:41.401Z"
   },
   {
    "duration": 27,
    "start_time": "2023-06-04T16:07:51.710Z"
   },
   {
    "duration": 38,
    "start_time": "2023-06-04T16:08:08.267Z"
   },
   {
    "duration": 40,
    "start_time": "2023-06-04T16:11:01.531Z"
   },
   {
    "duration": 701,
    "start_time": "2023-06-04T16:33:28.003Z"
   },
   {
    "duration": 637,
    "start_time": "2023-06-04T16:35:32.722Z"
   },
   {
    "duration": 1373,
    "start_time": "2023-06-04T18:30:54.308Z"
   },
   {
    "duration": 4,
    "start_time": "2023-06-04T18:30:57.026Z"
   },
   {
    "duration": 1294,
    "start_time": "2023-06-04T18:30:57.552Z"
   },
   {
    "duration": 46,
    "start_time": "2023-06-04T18:31:01.329Z"
   },
   {
    "duration": 15,
    "start_time": "2023-06-04T18:31:03.691Z"
   },
   {
    "duration": 8,
    "start_time": "2023-06-04T18:31:05.943Z"
   },
   {
    "duration": 261,
    "start_time": "2023-06-04T18:31:09.225Z"
   },
   {
    "duration": 147,
    "start_time": "2023-06-04T18:31:12.004Z"
   },
   {
    "duration": 139,
    "start_time": "2023-06-04T18:31:15.700Z"
   },
   {
    "duration": 140,
    "start_time": "2023-06-04T18:31:17.110Z"
   },
   {
    "duration": 191,
    "start_time": "2023-06-04T18:31:19.004Z"
   },
   {
    "duration": 215,
    "start_time": "2023-06-04T18:31:19.710Z"
   },
   {
    "duration": 9,
    "start_time": "2023-06-04T18:31:22.588Z"
   },
   {
    "duration": 126,
    "start_time": "2023-06-04T18:31:23.679Z"
   },
   {
    "duration": 12,
    "start_time": "2023-06-04T18:31:24.968Z"
   },
   {
    "duration": 227,
    "start_time": "2023-06-04T18:31:26.368Z"
   },
   {
    "duration": 21,
    "start_time": "2023-06-04T18:31:27.680Z"
   },
   {
    "duration": 18,
    "start_time": "2023-06-04T18:31:29.056Z"
   },
   {
    "duration": 10,
    "start_time": "2023-06-04T18:31:30.304Z"
   },
   {
    "duration": 1125,
    "start_time": "2023-06-04T18:31:35.943Z"
   },
   {
    "duration": 160,
    "start_time": "2023-06-04T18:31:40.356Z"
   },
   {
    "duration": 13,
    "start_time": "2023-06-04T18:31:44.455Z"
   },
   {
    "duration": 87,
    "start_time": "2023-06-04T18:31:45.387Z"
   },
   {
    "duration": 136,
    "start_time": "2023-06-04T18:31:46.924Z"
   },
   {
    "duration": 92,
    "start_time": "2023-06-04T18:31:48.315Z"
   },
   {
    "duration": 749,
    "start_time": "2023-06-04T18:31:49.439Z"
   },
   {
    "duration": 14,
    "start_time": "2023-06-04T18:33:01.592Z"
   },
   {
    "duration": 27,
    "start_time": "2023-06-04T18:34:26.381Z"
   },
   {
    "duration": 1014,
    "start_time": "2023-06-04T18:35:34.185Z"
   },
   {
    "duration": 56,
    "start_time": "2023-06-04T18:36:42.499Z"
   },
   {
    "duration": 7,
    "start_time": "2023-06-04T18:37:00.545Z"
   },
   {
    "duration": 137,
    "start_time": "2023-06-04T18:37:32.967Z"
   },
   {
    "duration": 131,
    "start_time": "2023-06-04T18:37:45.343Z"
   },
   {
    "duration": 124,
    "start_time": "2023-06-04T18:38:42.619Z"
   },
   {
    "duration": 154,
    "start_time": "2023-06-04T18:40:11.484Z"
   },
   {
    "duration": 5,
    "start_time": "2023-06-04T18:41:08.451Z"
   },
   {
    "duration": 6,
    "start_time": "2023-06-04T18:41:31.002Z"
   },
   {
    "duration": 158,
    "start_time": "2023-06-04T18:43:27.651Z"
   },
   {
    "duration": 171,
    "start_time": "2023-06-04T18:44:14.171Z"
   },
   {
    "duration": 102167,
    "start_time": "2023-06-04T18:45:27.039Z"
   },
   {
    "duration": 55,
    "start_time": "2023-06-05T07:25:37.751Z"
   },
   {
    "duration": 1560,
    "start_time": "2023-06-05T07:25:51.134Z"
   },
   {
    "duration": 6,
    "start_time": "2023-06-05T07:25:52.697Z"
   },
   {
    "duration": 1200,
    "start_time": "2023-06-05T07:25:52.705Z"
   },
   {
    "duration": 41,
    "start_time": "2023-06-05T07:25:53.907Z"
   },
   {
    "duration": 19,
    "start_time": "2023-06-05T07:25:53.952Z"
   },
   {
    "duration": 7,
    "start_time": "2023-06-05T07:25:54.743Z"
   },
   {
    "duration": 259,
    "start_time": "2023-06-05T07:25:55.235Z"
   },
   {
    "duration": 137,
    "start_time": "2023-06-05T07:25:55.571Z"
   },
   {
    "duration": 147,
    "start_time": "2023-06-05T07:25:56.187Z"
   },
   {
    "duration": 150,
    "start_time": "2023-06-05T07:25:56.586Z"
   },
   {
    "duration": 235,
    "start_time": "2023-06-05T07:25:57.099Z"
   },
   {
    "duration": 228,
    "start_time": "2023-06-05T07:25:57.336Z"
   },
   {
    "duration": 9,
    "start_time": "2023-06-05T07:25:57.934Z"
   },
   {
    "duration": 136,
    "start_time": "2023-06-05T07:25:58.247Z"
   },
   {
    "duration": 11,
    "start_time": "2023-06-05T07:25:58.631Z"
   },
   {
    "duration": 223,
    "start_time": "2023-06-05T07:25:59.006Z"
   },
   {
    "duration": 33,
    "start_time": "2023-06-05T07:25:59.231Z"
   },
   {
    "duration": 22,
    "start_time": "2023-06-05T07:25:59.642Z"
   },
   {
    "duration": 9,
    "start_time": "2023-06-05T07:26:00.010Z"
   },
   {
    "duration": 1104,
    "start_time": "2023-06-05T07:26:00.394Z"
   },
   {
    "duration": 197,
    "start_time": "2023-06-05T07:26:01.500Z"
   },
   {
    "duration": 14,
    "start_time": "2023-06-05T07:26:01.699Z"
   },
   {
    "duration": 161,
    "start_time": "2023-06-05T07:26:01.974Z"
   },
   {
    "duration": 123,
    "start_time": "2023-06-05T07:26:02.790Z"
   },
   {
    "duration": 155,
    "start_time": "2023-06-05T07:26:03.542Z"
   },
   {
    "duration": 746,
    "start_time": "2023-06-05T07:26:04.268Z"
   },
   {
    "duration": 12,
    "start_time": "2023-06-05T07:26:05.082Z"
   },
   {
    "duration": 144,
    "start_time": "2023-06-05T07:26:05.631Z"
   },
   {
    "duration": 252,
    "start_time": "2023-06-05T07:26:05.777Z"
   },
   {
    "duration": 10,
    "start_time": "2023-06-05T07:34:28.569Z"
   },
   {
    "duration": 25,
    "start_time": "2023-06-05T07:34:35.147Z"
   },
   {
    "duration": 20,
    "start_time": "2023-06-05T07:34:54.807Z"
   },
   {
    "duration": 1173,
    "start_time": "2023-06-05T07:35:23.795Z"
   },
   {
    "duration": 31,
    "start_time": "2023-06-05T07:35:33.278Z"
   },
   {
    "duration": 4,
    "start_time": "2023-06-05T07:35:41.683Z"
   },
   {
    "duration": 15,
    "start_time": "2023-06-05T07:35:47.690Z"
   },
   {
    "duration": 916,
    "start_time": "2023-06-05T07:36:02.507Z"
   },
   {
    "duration": 13,
    "start_time": "2023-06-05T07:36:10.514Z"
   },
   {
    "duration": 19,
    "start_time": "2023-06-05T07:36:22.255Z"
   },
   {
    "duration": 35,
    "start_time": "2023-06-05T07:36:35.752Z"
   },
   {
    "duration": 42,
    "start_time": "2023-06-05T07:36:50.768Z"
   },
   {
    "duration": 11,
    "start_time": "2023-06-05T07:37:01.390Z"
   },
   {
    "duration": 17,
    "start_time": "2023-06-05T07:37:30.746Z"
   },
   {
    "duration": 247,
    "start_time": "2023-06-05T07:39:22.068Z"
   },
   {
    "duration": 205,
    "start_time": "2023-06-05T07:40:01.149Z"
   },
   {
    "duration": 27,
    "start_time": "2023-06-05T07:40:28.039Z"
   },
   {
    "duration": 25,
    "start_time": "2023-06-05T07:40:39.269Z"
   },
   {
    "duration": 236,
    "start_time": "2023-06-05T07:41:20.475Z"
   },
   {
    "duration": 4,
    "start_time": "2023-06-05T07:42:56.282Z"
   },
   {
    "duration": 225,
    "start_time": "2023-06-05T07:42:57.327Z"
   },
   {
    "duration": 226,
    "start_time": "2023-06-05T07:43:29.897Z"
   },
   {
    "duration": 225,
    "start_time": "2023-06-05T07:44:00.064Z"
   },
   {
    "duration": 7,
    "start_time": "2023-06-05T07:45:23.550Z"
   },
   {
    "duration": 18,
    "start_time": "2023-06-05T07:45:58.161Z"
   },
   {
    "duration": 138,
    "start_time": "2023-06-05T07:46:10.847Z"
   },
   {
    "duration": 5,
    "start_time": "2023-06-05T07:46:55.811Z"
   },
   {
    "duration": 20,
    "start_time": "2023-06-05T07:47:58.664Z"
   },
   {
    "duration": 308,
    "start_time": "2023-06-05T07:48:04.482Z"
   },
   {
    "duration": 299,
    "start_time": "2023-06-05T07:51:50.338Z"
   },
   {
    "duration": 207,
    "start_time": "2023-06-05T07:52:00.919Z"
   },
   {
    "duration": 243,
    "start_time": "2023-06-05T07:52:34.676Z"
   },
   {
    "duration": 1570,
    "start_time": "2023-06-05T07:56:48.334Z"
   },
   {
    "duration": 19264,
    "start_time": "2023-06-05T07:57:05.973Z"
   },
   {
    "duration": 1485,
    "start_time": "2023-06-05T07:57:26.546Z"
   },
   {
    "duration": 1451,
    "start_time": "2023-06-05T07:58:07.729Z"
   },
   {
    "duration": 27525,
    "start_time": "2023-06-05T07:58:26.113Z"
   },
   {
    "duration": 1091,
    "start_time": "2023-06-05T08:00:59.073Z"
   },
   {
    "duration": 14,
    "start_time": "2023-06-05T08:01:23.492Z"
   },
   {
    "duration": 1096,
    "start_time": "2023-06-05T08:01:39.010Z"
   },
   {
    "duration": 1072,
    "start_time": "2023-06-05T08:02:47.372Z"
   },
   {
    "duration": 21,
    "start_time": "2023-06-05T08:03:03.701Z"
   },
   {
    "duration": 13,
    "start_time": "2023-06-05T08:03:20.293Z"
   },
   {
    "duration": 893,
    "start_time": "2023-06-05T08:11:20.547Z"
   },
   {
    "duration": 868,
    "start_time": "2023-06-05T08:12:01.327Z"
   },
   {
    "duration": 8,
    "start_time": "2023-06-05T08:12:12.572Z"
   },
   {
    "duration": 33,
    "start_time": "2023-06-05T08:12:18.439Z"
   },
   {
    "duration": 29,
    "start_time": "2023-06-05T08:12:49.307Z"
   },
   {
    "duration": 15,
    "start_time": "2023-06-05T08:13:31.323Z"
   },
   {
    "duration": 12,
    "start_time": "2023-06-05T08:14:47.374Z"
   },
   {
    "duration": 9,
    "start_time": "2023-06-05T08:14:58.702Z"
   },
   {
    "duration": 13,
    "start_time": "2023-06-05T08:15:35.314Z"
   },
   {
    "duration": 12,
    "start_time": "2023-06-05T08:15:47.464Z"
   },
   {
    "duration": 14,
    "start_time": "2023-06-05T08:16:16.790Z"
   },
   {
    "duration": 19,
    "start_time": "2023-06-05T08:16:38.732Z"
   },
   {
    "duration": 22,
    "start_time": "2023-06-05T08:16:49.226Z"
   },
   {
    "duration": 25,
    "start_time": "2023-06-05T08:17:00.652Z"
   },
   {
    "duration": 17,
    "start_time": "2023-06-05T08:17:18.414Z"
   },
   {
    "duration": 16,
    "start_time": "2023-06-05T08:17:27.291Z"
   },
   {
    "duration": 16,
    "start_time": "2023-06-05T08:17:40.531Z"
   },
   {
    "duration": 20,
    "start_time": "2023-06-05T08:17:49.070Z"
   },
   {
    "duration": 16,
    "start_time": "2023-06-05T08:18:00.002Z"
   },
   {
    "duration": 22,
    "start_time": "2023-06-05T08:18:19.446Z"
   },
   {
    "duration": 19,
    "start_time": "2023-06-05T08:18:29.026Z"
   },
   {
    "duration": 18,
    "start_time": "2023-06-05T08:18:40.650Z"
   },
   {
    "duration": 15,
    "start_time": "2023-06-05T08:18:53.767Z"
   },
   {
    "duration": 16,
    "start_time": "2023-06-05T08:19:00.665Z"
   },
   {
    "duration": 1607,
    "start_time": "2023-06-05T08:22:54.394Z"
   },
   {
    "duration": 5682,
    "start_time": "2023-06-05T08:23:51.342Z"
   },
   {
    "duration": 5661,
    "start_time": "2023-06-05T08:24:07.844Z"
   },
   {
    "duration": 344,
    "start_time": "2023-06-05T08:27:56.222Z"
   },
   {
    "duration": 303,
    "start_time": "2023-06-05T08:28:12.618Z"
   },
   {
    "duration": 5705,
    "start_time": "2023-06-05T08:29:29.122Z"
   },
   {
    "duration": 305,
    "start_time": "2023-06-05T08:29:34.829Z"
   },
   {
    "duration": 333,
    "start_time": "2023-06-05T08:30:19.749Z"
   },
   {
    "duration": 5,
    "start_time": "2023-06-05T08:33:04.930Z"
   },
   {
    "duration": 453,
    "start_time": "2023-06-05T08:33:17.692Z"
   },
   {
    "duration": 10,
    "start_time": "2023-06-05T08:36:10.223Z"
   },
   {
    "duration": 9,
    "start_time": "2023-06-05T08:36:23.093Z"
   },
   {
    "duration": 11,
    "start_time": "2023-06-05T08:36:55.820Z"
   },
   {
    "duration": 14,
    "start_time": "2023-06-05T08:37:08.628Z"
   },
   {
    "duration": 8,
    "start_time": "2023-06-05T08:37:51.590Z"
   },
   {
    "duration": 31,
    "start_time": "2023-06-05T08:38:35.277Z"
   },
   {
    "duration": 96,
    "start_time": "2023-06-05T08:41:49.481Z"
   },
   {
    "duration": 8,
    "start_time": "2023-06-05T08:42:04.621Z"
   },
   {
    "duration": 67,
    "start_time": "2023-06-05T08:42:05.549Z"
   },
   {
    "duration": 21,
    "start_time": "2023-06-05T08:42:12.045Z"
   },
   {
    "duration": 19,
    "start_time": "2023-06-05T08:42:17.942Z"
   },
   {
    "duration": 148,
    "start_time": "2023-06-05T08:42:18.333Z"
   },
   {
    "duration": 11,
    "start_time": "2023-06-05T08:42:18.713Z"
   },
   {
    "duration": 259,
    "start_time": "2023-06-05T08:42:19.424Z"
   },
   {
    "duration": 13,
    "start_time": "2023-06-05T08:42:19.685Z"
   },
   {
    "duration": 14,
    "start_time": "2023-06-05T08:42:20.367Z"
   },
   {
    "duration": 3,
    "start_time": "2023-06-05T08:43:07.845Z"
   },
   {
    "duration": 8,
    "start_time": "2023-06-05T08:43:08.216Z"
   },
   {
    "duration": 1021,
    "start_time": "2023-06-05T08:43:09.001Z"
   },
   {
    "duration": 58,
    "start_time": "2023-06-05T08:43:10.025Z"
   },
   {
    "duration": 14,
    "start_time": "2023-06-05T08:43:10.085Z"
   },
   {
    "duration": 7,
    "start_time": "2023-06-05T08:43:10.965Z"
   },
   {
    "duration": 257,
    "start_time": "2023-06-05T08:43:11.521Z"
   },
   {
    "duration": 198,
    "start_time": "2023-06-05T08:43:12.113Z"
   },
   {
    "duration": 184,
    "start_time": "2023-06-05T08:43:13.217Z"
   },
   {
    "duration": 199,
    "start_time": "2023-06-05T08:43:13.945Z"
   },
   {
    "duration": 224,
    "start_time": "2023-06-05T08:43:14.905Z"
   },
   {
    "duration": 177,
    "start_time": "2023-06-05T08:43:15.189Z"
   },
   {
    "duration": 10,
    "start_time": "2023-06-05T08:43:16.568Z"
   },
   {
    "duration": 151,
    "start_time": "2023-06-05T08:43:17.149Z"
   },
   {
    "duration": 13,
    "start_time": "2023-06-05T08:43:17.780Z"
   },
   {
    "duration": 235,
    "start_time": "2023-06-05T08:43:19.392Z"
   },
   {
    "duration": 19,
    "start_time": "2023-06-05T08:43:23.870Z"
   },
   {
    "duration": 15,
    "start_time": "2023-06-05T08:43:27.624Z"
   },
   {
    "duration": 20,
    "start_time": "2023-06-05T08:43:32.523Z"
   },
   {
    "duration": 1319,
    "start_time": "2023-06-05T08:43:41.385Z"
   },
   {
    "duration": 199,
    "start_time": "2023-06-05T08:43:46.596Z"
   },
   {
    "duration": 13,
    "start_time": "2023-06-05T08:43:50.293Z"
   },
   {
    "duration": 200,
    "start_time": "2023-06-05T08:43:53.784Z"
   },
   {
    "duration": 222,
    "start_time": "2023-06-05T08:43:54.245Z"
   },
   {
    "duration": 155,
    "start_time": "2023-06-05T08:43:55.467Z"
   },
   {
    "duration": 631,
    "start_time": "2023-06-05T08:43:57.485Z"
   },
   {
    "duration": 13,
    "start_time": "2023-06-05T08:44:51.092Z"
   },
   {
    "duration": 31,
    "start_time": "2023-06-05T08:44:57.072Z"
   },
   {
    "duration": 40,
    "start_time": "2023-06-05T08:45:11.096Z"
   },
   {
    "duration": 5,
    "start_time": "2023-06-05T08:45:21.212Z"
   },
   {
    "duration": 39,
    "start_time": "2023-06-05T08:45:25.944Z"
   },
   {
    "duration": 7,
    "start_time": "2023-06-05T08:45:34.906Z"
   },
   {
    "duration": 1090,
    "start_time": "2023-06-05T08:45:37.748Z"
   },
   {
    "duration": 148,
    "start_time": "2023-06-05T08:45:45.096Z"
   },
   {
    "duration": 16,
    "start_time": "2023-06-05T08:45:57.916Z"
   },
   {
    "duration": 2739,
    "start_time": "2023-06-05T08:45:59.921Z"
   },
   {
    "duration": 27,
    "start_time": "2023-06-05T08:46:05.628Z"
   },
   {
    "duration": 11,
    "start_time": "2023-06-05T08:46:10.937Z"
   },
   {
    "duration": 1200,
    "start_time": "2023-06-05T08:46:15.568Z"
   },
   {
    "duration": 239,
    "start_time": "2023-06-05T08:46:19.892Z"
   },
   {
    "duration": 13,
    "start_time": "2023-06-05T08:46:24.300Z"
   },
   {
    "duration": 151,
    "start_time": "2023-06-05T08:46:25.361Z"
   },
   {
    "duration": 194,
    "start_time": "2023-06-05T08:46:30.329Z"
   },
   {
    "duration": 179,
    "start_time": "2023-06-05T08:46:34.464Z"
   },
   {
    "duration": 647,
    "start_time": "2023-06-05T08:46:38.997Z"
   },
   {
    "duration": 26,
    "start_time": "2023-06-05T08:48:02.660Z"
   },
   {
    "duration": 342,
    "start_time": "2023-06-05T08:48:14.428Z"
   },
   {
    "duration": 244,
    "start_time": "2023-06-05T08:48:23.328Z"
   },
   {
    "duration": 1347,
    "start_time": "2023-06-05T08:48:27.936Z"
   },
   {
    "duration": 5565,
    "start_time": "2023-06-05T08:48:36.909Z"
   },
   {
    "duration": 432,
    "start_time": "2023-06-05T08:48:42.477Z"
   },
   {
    "duration": 32,
    "start_time": "2023-06-05T08:48:53.485Z"
   },
   {
    "duration": 240,
    "start_time": "2023-06-05T08:49:32.862Z"
   },
   {
    "duration": 268,
    "start_time": "2023-06-05T08:49:34.440Z"
   },
   {
    "duration": 33,
    "start_time": "2023-06-05T08:49:47.281Z"
   },
   {
    "duration": 4454,
    "start_time": "2023-06-05T08:50:05.748Z"
   },
   {
    "duration": 585,
    "start_time": "2023-06-05T08:50:10.204Z"
   },
   {
    "duration": 4488,
    "start_time": "2023-06-05T08:51:07.313Z"
   },
   {
    "duration": 391,
    "start_time": "2023-06-05T08:51:11.806Z"
   },
   {
    "duration": 8,
    "start_time": "2023-06-05T08:52:33.916Z"
   },
   {
    "duration": 393,
    "start_time": "2023-06-05T08:52:54.724Z"
   },
   {
    "duration": 46,
    "start_time": "2023-06-05T08:53:03.624Z"
   },
   {
    "duration": 59,
    "start_time": "2023-06-05T08:53:24.312Z"
   },
   {
    "duration": 155,
    "start_time": "2023-06-05T08:54:38.978Z"
   },
   {
    "duration": 1500,
    "start_time": "2023-06-05T08:55:46.174Z"
   },
   {
    "duration": 7,
    "start_time": "2023-06-05T08:55:47.676Z"
   },
   {
    "duration": 4148,
    "start_time": "2023-06-05T08:55:48.459Z"
   },
   {
    "duration": 51,
    "start_time": "2023-06-05T08:55:52.609Z"
   },
   {
    "duration": 23,
    "start_time": "2023-06-05T08:55:52.662Z"
   },
   {
    "duration": 11,
    "start_time": "2023-06-05T08:55:52.687Z"
   },
   {
    "duration": 284,
    "start_time": "2023-06-05T08:55:52.700Z"
   },
   {
    "duration": 196,
    "start_time": "2023-06-05T08:55:53.024Z"
   },
   {
    "duration": 241,
    "start_time": "2023-06-05T08:55:54.468Z"
   },
   {
    "duration": 192,
    "start_time": "2023-06-05T08:55:55.781Z"
   },
   {
    "duration": 254,
    "start_time": "2023-06-05T08:55:57.848Z"
   },
   {
    "duration": 286,
    "start_time": "2023-06-05T08:55:58.648Z"
   },
   {
    "duration": 7,
    "start_time": "2023-06-05T08:55:59.907Z"
   },
   {
    "duration": 18,
    "start_time": "2023-06-05T08:56:01.978Z"
   },
   {
    "duration": 174,
    "start_time": "2023-06-05T08:56:03.040Z"
   },
   {
    "duration": 17,
    "start_time": "2023-06-05T08:56:09.276Z"
   },
   {
    "duration": 277,
    "start_time": "2023-06-05T08:56:18.501Z"
   },
   {
    "duration": 19,
    "start_time": "2023-06-05T08:56:21.812Z"
   },
   {
    "duration": 14,
    "start_time": "2023-06-05T08:56:22.989Z"
   },
   {
    "duration": 8,
    "start_time": "2023-06-05T08:56:25.816Z"
   },
   {
    "duration": 1364,
    "start_time": "2023-06-05T08:56:34.448Z"
   },
   {
    "duration": 169,
    "start_time": "2023-06-05T08:56:38.877Z"
   },
   {
    "duration": 205,
    "start_time": "2023-06-05T08:56:42.984Z"
   },
   {
    "duration": 189,
    "start_time": "2023-06-05T08:57:01.348Z"
   },
   {
    "duration": 184,
    "start_time": "2023-06-05T08:57:04.536Z"
   },
   {
    "duration": 242,
    "start_time": "2023-06-05T08:57:10.900Z"
   },
   {
    "duration": 149,
    "start_time": "2023-06-05T08:57:27.588Z"
   },
   {
    "duration": 6,
    "start_time": "2023-06-05T08:58:48.887Z"
   },
   {
    "duration": 224,
    "start_time": "2023-06-05T08:58:55.679Z"
   },
   {
    "duration": 8,
    "start_time": "2023-06-05T08:59:39.797Z"
   },
   {
    "duration": 122,
    "start_time": "2023-06-05T08:59:47.497Z"
   },
   {
    "duration": 132,
    "start_time": "2023-06-05T09:01:03.099Z"
   },
   {
    "duration": 5,
    "start_time": "2023-06-05T09:01:35.904Z"
   },
   {
    "duration": 181,
    "start_time": "2023-06-05T09:01:42.699Z"
   },
   {
    "duration": 186,
    "start_time": "2023-06-05T09:01:46.090Z"
   },
   {
    "duration": 629,
    "start_time": "2023-06-05T09:01:55.808Z"
   },
   {
    "duration": 231,
    "start_time": "2023-06-05T09:02:06.547Z"
   },
   {
    "duration": 251,
    "start_time": "2023-06-05T09:02:12.723Z"
   },
   {
    "duration": 4447,
    "start_time": "2023-06-05T09:02:16.592Z"
   },
   {
    "duration": 501,
    "start_time": "2023-06-05T09:02:21.042Z"
   },
   {
    "duration": 28,
    "start_time": "2023-06-05T09:02:27.088Z"
   },
   {
    "duration": 17,
    "start_time": "2023-06-05T09:02:39.187Z"
   },
   {
    "duration": 460,
    "start_time": "2023-06-05T09:02:53.039Z"
   },
   {
    "duration": 10,
    "start_time": "2023-06-05T09:03:13.746Z"
   },
   {
    "duration": 376,
    "start_time": "2023-06-05T09:03:20.567Z"
   },
   {
    "duration": 6,
    "start_time": "2023-06-05T09:03:41.108Z"
   },
   {
    "duration": 335,
    "start_time": "2023-06-05T09:03:47.211Z"
   },
   {
    "duration": 371,
    "start_time": "2023-06-05T09:03:50.812Z"
   },
   {
    "duration": 9,
    "start_time": "2023-06-05T09:04:12.393Z"
   },
   {
    "duration": 356,
    "start_time": "2023-06-05T09:04:16.047Z"
   },
   {
    "duration": 6,
    "start_time": "2023-06-05T09:04:28.431Z"
   },
   {
    "duration": 438,
    "start_time": "2023-06-05T09:04:33.499Z"
   },
   {
    "duration": 314,
    "start_time": "2023-06-05T09:04:38.695Z"
   },
   {
    "duration": 5,
    "start_time": "2023-06-05T09:08:10.231Z"
   },
   {
    "duration": 328,
    "start_time": "2023-06-05T09:08:18.799Z"
   },
   {
    "duration": 10,
    "start_time": "2023-06-05T09:09:32.175Z"
   },
   {
    "duration": 416,
    "start_time": "2023-06-05T09:09:38.334Z"
   },
   {
    "duration": 226,
    "start_time": "2023-06-05T09:18:17.769Z"
   },
   {
    "duration": 11,
    "start_time": "2023-06-05T09:18:31.066Z"
   },
   {
    "duration": 205,
    "start_time": "2023-06-05T09:18:38.831Z"
   },
   {
    "duration": 49,
    "start_time": "2023-06-05T09:21:46.727Z"
   },
   {
    "duration": 373,
    "start_time": "2023-06-05T09:25:03.584Z"
   },
   {
    "duration": 232,
    "start_time": "2023-06-05T09:25:33.879Z"
   },
   {
    "duration": 6,
    "start_time": "2023-06-05T09:28:35.126Z"
   },
   {
    "duration": 8,
    "start_time": "2023-06-05T09:28:51.680Z"
   },
   {
    "duration": 10,
    "start_time": "2023-06-05T09:29:05.087Z"
   },
   {
    "duration": 11,
    "start_time": "2023-06-05T09:29:20.082Z"
   },
   {
    "duration": 15,
    "start_time": "2023-06-05T09:29:44.190Z"
   },
   {
    "duration": 12,
    "start_time": "2023-06-05T09:29:58.694Z"
   },
   {
    "duration": 17,
    "start_time": "2023-06-05T09:30:12.569Z"
   },
   {
    "duration": 15,
    "start_time": "2023-06-05T09:30:18.973Z"
   },
   {
    "duration": 12,
    "start_time": "2023-06-05T09:30:29.421Z"
   },
   {
    "duration": 12,
    "start_time": "2023-06-05T09:30:44.318Z"
   },
   {
    "duration": 11,
    "start_time": "2023-06-05T09:31:01.681Z"
   },
   {
    "duration": 13,
    "start_time": "2023-06-05T09:31:14.630Z"
   },
   {
    "duration": 11,
    "start_time": "2023-06-05T09:31:21.723Z"
   },
   {
    "duration": 20,
    "start_time": "2023-06-05T09:31:35.942Z"
   },
   {
    "duration": 14,
    "start_time": "2023-06-05T09:31:56.566Z"
   },
   {
    "duration": 13,
    "start_time": "2023-06-05T09:32:07.118Z"
   },
   {
    "duration": 20,
    "start_time": "2023-06-05T09:32:18.649Z"
   },
   {
    "duration": 11,
    "start_time": "2023-06-05T09:32:31.394Z"
   },
   {
    "duration": 11,
    "start_time": "2023-06-05T09:32:36.386Z"
   },
   {
    "duration": 10,
    "start_time": "2023-06-05T09:32:42.099Z"
   },
   {
    "duration": 10,
    "start_time": "2023-06-05T09:33:00.679Z"
   },
   {
    "duration": 11,
    "start_time": "2023-06-05T09:33:05.276Z"
   },
   {
    "duration": 19,
    "start_time": "2023-06-05T09:33:20.163Z"
   },
   {
    "duration": 17,
    "start_time": "2023-06-05T09:33:39.578Z"
   },
   {
    "duration": 11,
    "start_time": "2023-06-05T09:33:45.885Z"
   },
   {
    "duration": 10,
    "start_time": "2023-06-05T09:33:54.826Z"
   },
   {
    "duration": 12,
    "start_time": "2023-06-05T09:34:07.793Z"
   },
   {
    "duration": 10,
    "start_time": "2023-06-05T09:35:09.330Z"
   },
   {
    "duration": 10,
    "start_time": "2023-06-05T09:35:17.817Z"
   },
   {
    "duration": 11,
    "start_time": "2023-06-05T09:35:26.230Z"
   },
   {
    "duration": 9,
    "start_time": "2023-06-05T09:35:36.282Z"
   },
   {
    "duration": 11,
    "start_time": "2023-06-05T09:35:45.774Z"
   },
   {
    "duration": 12,
    "start_time": "2023-06-05T09:35:54.975Z"
   },
   {
    "duration": 10,
    "start_time": "2023-06-05T09:36:08.087Z"
   },
   {
    "duration": 11,
    "start_time": "2023-06-05T09:38:29.111Z"
   },
   {
    "duration": 27,
    "start_time": "2023-06-05T09:38:40.083Z"
   },
   {
    "duration": 4203,
    "start_time": "2023-06-05T09:41:14.524Z"
   },
   {
    "duration": 58,
    "start_time": "2023-06-05T09:42:48.385Z"
   },
   {
    "duration": 29,
    "start_time": "2023-06-05T09:42:53.805Z"
   },
   {
    "duration": 286,
    "start_time": "2023-06-05T09:43:01.784Z"
   },
   {
    "duration": 181,
    "start_time": "2023-06-05T09:43:38.803Z"
   },
   {
    "duration": 186,
    "start_time": "2023-06-05T09:44:00.379Z"
   },
   {
    "duration": 312,
    "start_time": "2023-06-05T09:44:08.568Z"
   },
   {
    "duration": 12,
    "start_time": "2023-06-05T09:44:43.896Z"
   },
   {
    "duration": 429,
    "start_time": "2023-06-05T09:45:08.580Z"
   },
   {
    "duration": 240,
    "start_time": "2023-06-05T09:45:27.477Z"
   },
   {
    "duration": 14,
    "start_time": "2023-06-05T09:47:08.157Z"
   },
   {
    "duration": 15,
    "start_time": "2023-06-05T09:48:10.391Z"
   },
   {
    "duration": 1019,
    "start_time": "2023-06-05T09:49:25.991Z"
   },
   {
    "duration": 722,
    "start_time": "2023-06-05T09:49:39.721Z"
   },
   {
    "duration": 7,
    "start_time": "2023-06-05T09:50:00.016Z"
   },
   {
    "duration": 2927,
    "start_time": "2023-06-05T09:50:37.105Z"
   },
   {
    "duration": 4046,
    "start_time": "2023-06-05T09:50:42.180Z"
   },
   {
    "duration": 266,
    "start_time": "2023-06-05T09:50:47.965Z"
   },
   {
    "duration": 49,
    "start_time": "2023-06-05T09:54:54.779Z"
   },
   {
    "duration": 387,
    "start_time": "2023-06-05T09:55:00.513Z"
   },
   {
    "duration": 345,
    "start_time": "2023-06-05T09:55:04.268Z"
   },
   {
    "duration": 251,
    "start_time": "2023-06-05T09:55:33.441Z"
   },
   {
    "duration": 239,
    "start_time": "2023-06-05T09:55:56.767Z"
   },
   {
    "duration": 163,
    "start_time": "2023-06-05T09:56:44.725Z"
   },
   {
    "duration": 154,
    "start_time": "2023-06-05T09:56:50.885Z"
   },
   {
    "duration": 459,
    "start_time": "2023-06-05T10:00:15.103Z"
   },
   {
    "duration": 547,
    "start_time": "2023-06-05T10:01:13.970Z"
   },
   {
    "duration": 6,
    "start_time": "2023-06-05T10:01:54.839Z"
   },
   {
    "duration": 587,
    "start_time": "2023-06-05T10:02:01.638Z"
   },
   {
    "duration": 475,
    "start_time": "2023-06-05T10:06:30.815Z"
   },
   {
    "duration": 540,
    "start_time": "2023-06-05T10:06:34.031Z"
   },
   {
    "duration": 475,
    "start_time": "2023-06-05T10:06:41.826Z"
   },
   {
    "duration": 423,
    "start_time": "2023-06-05T10:07:03.318Z"
   },
   {
    "duration": 461,
    "start_time": "2023-06-05T10:07:15.209Z"
   },
   {
    "duration": 244,
    "start_time": "2023-06-05T10:12:24.323Z"
   },
   {
    "duration": 203,
    "start_time": "2023-06-05T10:12:57.867Z"
   },
   {
    "duration": 340,
    "start_time": "2023-06-05T10:13:03.786Z"
   },
   {
    "duration": 232,
    "start_time": "2023-06-05T10:15:47.023Z"
   },
   {
    "duration": 205,
    "start_time": "2023-06-05T10:20:12.605Z"
   },
   {
    "duration": 229,
    "start_time": "2023-06-05T10:20:16.567Z"
   },
   {
    "duration": 3345,
    "start_time": "2023-06-05T10:21:21.807Z"
   },
   {
    "duration": 3296,
    "start_time": "2023-06-05T10:22:12.215Z"
   },
   {
    "duration": 285,
    "start_time": "2023-06-05T10:22:15.515Z"
   },
   {
    "duration": 63,
    "start_time": "2023-06-05T10:22:21.231Z"
   },
   {
    "duration": 293,
    "start_time": "2023-06-05T10:22:25.387Z"
   },
   {
    "duration": 3116,
    "start_time": "2023-06-05T10:23:43.320Z"
   },
   {
    "duration": 23,
    "start_time": "2023-06-05T10:23:46.438Z"
   },
   {
    "duration": 14,
    "start_time": "2023-06-05T10:23:55.264Z"
   },
   {
    "duration": 9,
    "start_time": "2023-06-05T10:23:58.976Z"
   },
   {
    "duration": 248,
    "start_time": "2023-06-05T10:24:15.752Z"
   },
   {
    "duration": 216,
    "start_time": "2023-06-05T10:24:52.080Z"
   },
   {
    "duration": 512,
    "start_time": "2023-06-05T10:24:57.461Z"
   },
   {
    "duration": 417,
    "start_time": "2023-06-05T10:25:02.807Z"
   },
   {
    "duration": 34,
    "start_time": "2023-06-05T10:26:51.748Z"
   },
   {
    "duration": 6,
    "start_time": "2023-06-05T10:27:36.971Z"
   },
   {
    "duration": 7975,
    "start_time": "2023-06-05T10:29:22.379Z"
   },
   {
    "duration": 217,
    "start_time": "2023-06-05T10:29:30.356Z"
   },
   {
    "duration": 201,
    "start_time": "2023-06-05T10:31:19.179Z"
   },
   {
    "duration": 213,
    "start_time": "2023-06-05T10:31:21.976Z"
   },
   {
    "duration": 286,
    "start_time": "2023-06-05T10:31:26.112Z"
   },
   {
    "duration": 316,
    "start_time": "2023-06-05T10:31:29.048Z"
   },
   {
    "duration": 256,
    "start_time": "2023-06-05T10:31:30.811Z"
   },
   {
    "duration": 211,
    "start_time": "2023-06-05T10:31:32.758Z"
   },
   {
    "duration": 526,
    "start_time": "2023-06-05T10:31:34.432Z"
   },
   {
    "duration": 414,
    "start_time": "2023-06-05T10:31:35.987Z"
   },
   {
    "duration": 6,
    "start_time": "2023-06-05T10:31:37.407Z"
   },
   {
    "duration": 279,
    "start_time": "2023-06-05T10:33:24.965Z"
   },
   {
    "duration": 242,
    "start_time": "2023-06-05T10:34:57.165Z"
   },
   {
    "duration": 2096,
    "start_time": "2023-06-05T10:36:52.364Z"
   },
   {
    "duration": 1949,
    "start_time": "2023-06-05T10:37:06.495Z"
   },
   {
    "duration": 32081,
    "start_time": "2023-06-05T10:40:34.184Z"
   },
   {
    "duration": 222,
    "start_time": "2023-06-05T10:41:47.545Z"
   },
   {
    "duration": 160,
    "start_time": "2023-06-05T10:45:10.720Z"
   },
   {
    "duration": 169,
    "start_time": "2023-06-05T10:55:20.821Z"
   },
   {
    "duration": 739,
    "start_time": "2023-06-05T11:03:56.427Z"
   },
   {
    "duration": 25,
    "start_time": "2023-06-05T11:04:11.023Z"
   },
   {
    "duration": 14,
    "start_time": "2023-06-05T11:04:20.172Z"
   },
   {
    "duration": 14,
    "start_time": "2023-06-05T11:04:50.848Z"
   },
   {
    "duration": 29,
    "start_time": "2023-06-05T11:04:56.835Z"
   },
   {
    "duration": 11,
    "start_time": "2023-06-05T11:05:22.115Z"
   },
   {
    "duration": 25,
    "start_time": "2023-06-05T12:53:22.732Z"
   },
   {
    "duration": 2045,
    "start_time": "2023-06-05T12:57:38.495Z"
   },
   {
    "duration": 6206,
    "start_time": "2023-06-05T12:57:59.437Z"
   },
   {
    "duration": 22,
    "start_time": "2023-06-05T12:59:38.155Z"
   },
   {
    "duration": 16,
    "start_time": "2023-06-05T13:01:19.059Z"
   },
   {
    "duration": 194,
    "start_time": "2023-06-05T13:04:05.373Z"
   },
   {
    "duration": 13,
    "start_time": "2023-06-05T13:04:50.498Z"
   },
   {
    "duration": 130,
    "start_time": "2023-06-05T13:04:58.570Z"
   },
   {
    "duration": 1521,
    "start_time": "2023-06-05T13:29:03.210Z"
   },
   {
    "duration": 6,
    "start_time": "2023-06-05T13:29:04.733Z"
   },
   {
    "duration": 3604,
    "start_time": "2023-06-05T13:29:04.740Z"
   },
   {
    "duration": 57,
    "start_time": "2023-06-05T13:29:08.347Z"
   },
   {
    "duration": 14,
    "start_time": "2023-06-05T13:29:08.406Z"
   },
   {
    "duration": 6,
    "start_time": "2023-06-05T13:29:08.422Z"
   },
   {
    "duration": 285,
    "start_time": "2023-06-05T13:29:08.458Z"
   },
   {
    "duration": 187,
    "start_time": "2023-06-05T13:29:08.745Z"
   },
   {
    "duration": 190,
    "start_time": "2023-06-05T13:29:08.934Z"
   },
   {
    "duration": 196,
    "start_time": "2023-06-05T13:29:09.126Z"
   },
   {
    "duration": 237,
    "start_time": "2023-06-05T13:29:09.325Z"
   },
   {
    "duration": 289,
    "start_time": "2023-06-05T13:29:09.569Z"
   },
   {
    "duration": 11,
    "start_time": "2023-06-05T13:29:09.859Z"
   },
   {
    "duration": 16,
    "start_time": "2023-06-05T13:29:09.876Z"
   },
   {
    "duration": 163,
    "start_time": "2023-06-05T13:29:09.895Z"
   },
   {
    "duration": 16,
    "start_time": "2023-06-05T13:29:10.061Z"
   },
   {
    "duration": 272,
    "start_time": "2023-06-05T13:29:10.575Z"
   },
   {
    "duration": 36,
    "start_time": "2023-06-05T13:29:10.851Z"
   },
   {
    "duration": 14,
    "start_time": "2023-06-05T13:29:11.269Z"
   },
   {
    "duration": 10,
    "start_time": "2023-06-05T13:29:11.726Z"
   },
   {
    "duration": 1292,
    "start_time": "2023-06-05T13:29:12.126Z"
   },
   {
    "duration": 192,
    "start_time": "2023-06-05T13:29:13.420Z"
   },
   {
    "duration": 284,
    "start_time": "2023-06-05T13:29:13.613Z"
   },
   {
    "duration": 6,
    "start_time": "2023-06-05T13:30:40.018Z"
   },
   {
    "duration": 158,
    "start_time": "2023-06-05T13:30:51.798Z"
   },
   {
    "duration": 14,
    "start_time": "2023-06-05T13:32:02.246Z"
   },
   {
    "duration": 5,
    "start_time": "2023-06-05T13:32:40.514Z"
   },
   {
    "duration": 180,
    "start_time": "2023-06-05T13:32:47.946Z"
   },
   {
    "duration": 7,
    "start_time": "2023-06-05T13:33:00.060Z"
   },
   {
    "duration": 234,
    "start_time": "2023-06-05T13:33:06.789Z"
   },
   {
    "duration": 147,
    "start_time": "2023-06-05T13:33:10.783Z"
   },
   {
    "duration": 146,
    "start_time": "2023-06-05T13:33:11.984Z"
   },
   {
    "duration": 610,
    "start_time": "2023-06-05T13:33:13.186Z"
   },
   {
    "duration": 11,
    "start_time": "2023-06-05T13:33:15.400Z"
   },
   {
    "duration": 229,
    "start_time": "2023-06-05T13:33:27.499Z"
   },
   {
    "duration": 949,
    "start_time": "2023-06-05T13:33:30.414Z"
   },
   {
    "duration": 15,
    "start_time": "2023-06-05T13:33:44.279Z"
   },
   {
    "duration": 7836,
    "start_time": "2023-06-05T13:33:55.082Z"
   },
   {
    "duration": 213,
    "start_time": "2023-06-05T13:34:02.920Z"
   },
   {
    "duration": 232,
    "start_time": "2023-06-05T13:34:03.135Z"
   },
   {
    "duration": 55,
    "start_time": "2023-06-05T13:34:03.370Z"
   },
   {
    "duration": 0,
    "start_time": "2023-06-05T13:34:03.427Z"
   },
   {
    "duration": 0,
    "start_time": "2023-06-05T13:34:03.429Z"
   },
   {
    "duration": 0,
    "start_time": "2023-06-05T13:34:03.430Z"
   },
   {
    "duration": 0,
    "start_time": "2023-06-05T13:34:03.431Z"
   },
   {
    "duration": 455,
    "start_time": "2023-06-05T13:34:03.649Z"
   },
   {
    "duration": 7,
    "start_time": "2023-06-05T13:34:04.532Z"
   },
   {
    "duration": 1955,
    "start_time": "2023-06-05T13:34:05.266Z"
   },
   {
    "duration": 242,
    "start_time": "2023-06-05T13:34:07.224Z"
   },
   {
    "duration": 155,
    "start_time": "2023-06-05T13:34:07.793Z"
   },
   {
    "duration": 10,
    "start_time": "2023-06-05T13:34:10.487Z"
   },
   {
    "duration": 228,
    "start_time": "2023-06-05T13:42:25.305Z"
   },
   {
    "duration": 196,
    "start_time": "2023-06-05T13:48:26.892Z"
   },
   {
    "duration": 327,
    "start_time": "2023-06-05T13:59:05.992Z"
   },
   {
    "duration": 442,
    "start_time": "2023-06-05T13:59:16.008Z"
   },
   {
    "duration": 261,
    "start_time": "2023-06-05T13:59:17.836Z"
   },
   {
    "duration": 385,
    "start_time": "2023-06-05T13:59:27.087Z"
   },
   {
    "duration": 360,
    "start_time": "2023-06-05T13:59:28.620Z"
   },
   {
    "duration": 302,
    "start_time": "2023-06-05T14:03:32.132Z"
   },
   {
    "duration": 1454,
    "start_time": "2023-06-05T14:39:53.701Z"
   },
   {
    "duration": 8,
    "start_time": "2023-06-05T14:39:55.159Z"
   },
   {
    "duration": 1162,
    "start_time": "2023-06-05T14:39:55.169Z"
   },
   {
    "duration": 49,
    "start_time": "2023-06-05T14:39:56.333Z"
   },
   {
    "duration": 14,
    "start_time": "2023-06-05T14:39:56.383Z"
   },
   {
    "duration": 6,
    "start_time": "2023-06-05T14:39:56.399Z"
   },
   {
    "duration": 294,
    "start_time": "2023-06-05T14:39:56.406Z"
   },
   {
    "duration": 173,
    "start_time": "2023-06-05T14:39:56.702Z"
   },
   {
    "duration": 196,
    "start_time": "2023-06-05T14:39:56.877Z"
   },
   {
    "duration": 179,
    "start_time": "2023-06-05T14:39:57.077Z"
   },
   {
    "duration": 215,
    "start_time": "2023-06-05T14:39:57.261Z"
   },
   {
    "duration": 249,
    "start_time": "2023-06-05T14:39:57.478Z"
   },
   {
    "duration": 6,
    "start_time": "2023-06-05T14:39:57.729Z"
   },
   {
    "duration": 29,
    "start_time": "2023-06-05T14:39:57.737Z"
   },
   {
    "duration": 128,
    "start_time": "2023-06-05T14:39:57.768Z"
   },
   {
    "duration": 25,
    "start_time": "2023-06-05T14:39:57.898Z"
   },
   {
    "duration": 256,
    "start_time": "2023-06-05T14:39:57.925Z"
   },
   {
    "duration": 20,
    "start_time": "2023-06-05T14:39:58.183Z"
   },
   {
    "duration": 20,
    "start_time": "2023-06-05T14:39:58.205Z"
   },
   {
    "duration": 28,
    "start_time": "2023-06-05T14:39:58.227Z"
   },
   {
    "duration": 1169,
    "start_time": "2023-06-05T14:39:58.257Z"
   },
   {
    "duration": 183,
    "start_time": "2023-06-05T14:39:59.428Z"
   },
   {
    "duration": 167,
    "start_time": "2023-06-05T14:39:59.613Z"
   },
   {
    "duration": 164,
    "start_time": "2023-06-05T14:39:59.782Z"
   },
   {
    "duration": 160,
    "start_time": "2023-06-05T14:39:59.948Z"
   },
   {
    "duration": 771,
    "start_time": "2023-06-05T14:40:00.110Z"
   },
   {
    "duration": 226,
    "start_time": "2023-06-05T14:40:00.883Z"
   },
   {
    "duration": 7880,
    "start_time": "2023-06-05T14:40:01.113Z"
   },
   {
    "duration": 208,
    "start_time": "2023-06-05T14:40:08.994Z"
   },
   {
    "duration": 219,
    "start_time": "2023-06-05T14:40:09.203Z"
   },
   {
    "duration": 298,
    "start_time": "2023-06-05T14:40:09.424Z"
   },
   {
    "duration": 297,
    "start_time": "2023-06-05T14:40:09.724Z"
   },
   {
    "duration": 256,
    "start_time": "2023-06-05T14:40:10.023Z"
   },
   {
    "duration": 238,
    "start_time": "2023-06-05T14:40:10.281Z"
   },
   {
    "duration": 502,
    "start_time": "2023-06-05T14:40:10.520Z"
   },
   {
    "duration": 411,
    "start_time": "2023-06-05T14:40:11.024Z"
   },
   {
    "duration": 22,
    "start_time": "2023-06-05T14:40:11.437Z"
   },
   {
    "duration": 1858,
    "start_time": "2023-06-05T14:40:11.461Z"
   },
   {
    "duration": 218,
    "start_time": "2023-06-05T14:40:13.321Z"
   },
   {
    "duration": 163,
    "start_time": "2023-06-05T14:40:13.540Z"
   },
   {
    "duration": 8,
    "start_time": "2023-06-05T14:40:13.705Z"
   },
   {
    "duration": 2549,
    "start_time": "2023-06-06T10:16:42.324Z"
   },
   {
    "duration": 6,
    "start_time": "2023-06-06T10:16:44.875Z"
   },
   {
    "duration": 1124,
    "start_time": "2023-06-06T10:16:45.192Z"
   },
   {
    "duration": 48,
    "start_time": "2023-06-06T10:17:22.681Z"
   },
   {
    "duration": 48,
    "start_time": "2023-06-06T10:19:17.024Z"
   },
   {
    "duration": 42,
    "start_time": "2023-06-06T10:21:23.243Z"
   },
   {
    "duration": 42,
    "start_time": "2023-06-06T10:21:58.068Z"
   },
   {
    "duration": 59,
    "start_time": "2023-06-06T10:27:04.001Z"
   },
   {
    "duration": 47,
    "start_time": "2023-06-06T14:47:53.191Z"
   },
   {
    "duration": 1444,
    "start_time": "2023-06-06T14:47:58.952Z"
   },
   {
    "duration": 6,
    "start_time": "2023-06-06T14:48:00.398Z"
   },
   {
    "duration": 1121,
    "start_time": "2023-06-06T14:48:01.587Z"
   },
   {
    "duration": 41,
    "start_time": "2023-06-06T14:48:07.187Z"
   },
   {
    "duration": 75,
    "start_time": "2023-06-06T15:41:55.935Z"
   },
   {
    "duration": 18,
    "start_time": "2023-06-06T15:42:20.912Z"
   },
   {
    "duration": 8,
    "start_time": "2023-06-06T15:42:26.158Z"
   },
   {
    "duration": 9,
    "start_time": "2023-06-06T15:42:58.875Z"
   },
   {
    "duration": 3,
    "start_time": "2023-06-06T15:43:46.282Z"
   },
   {
    "duration": 5,
    "start_time": "2023-06-06T15:43:46.563Z"
   },
   {
    "duration": 891,
    "start_time": "2023-06-06T15:43:46.978Z"
   },
   {
    "duration": 44,
    "start_time": "2023-06-06T15:43:48.558Z"
   },
   {
    "duration": 14,
    "start_time": "2023-06-06T15:43:49.875Z"
   },
   {
    "duration": 6,
    "start_time": "2023-06-06T15:43:50.723Z"
   },
   {
    "duration": 238,
    "start_time": "2023-06-06T15:43:51.246Z"
   },
   {
    "duration": 156,
    "start_time": "2023-06-06T15:43:51.874Z"
   },
   {
    "duration": 159,
    "start_time": "2023-06-06T15:43:52.647Z"
   },
   {
    "duration": 155,
    "start_time": "2023-06-06T15:43:53.147Z"
   },
   {
    "duration": 184,
    "start_time": "2023-06-06T15:43:53.806Z"
   },
   {
    "duration": 214,
    "start_time": "2023-06-06T15:43:54.039Z"
   },
   {
    "duration": 6,
    "start_time": "2023-06-06T15:43:54.442Z"
   },
   {
    "duration": 10,
    "start_time": "2023-06-06T15:43:55.190Z"
   },
   {
    "duration": 133,
    "start_time": "2023-06-06T15:43:55.562Z"
   },
   {
    "duration": 11,
    "start_time": "2023-06-06T15:43:55.946Z"
   },
   {
    "duration": 222,
    "start_time": "2023-06-06T15:43:56.559Z"
   },
   {
    "duration": 20,
    "start_time": "2023-06-06T15:43:56.783Z"
   },
   {
    "duration": 17,
    "start_time": "2023-06-06T15:43:57.698Z"
   },
   {
    "duration": 10,
    "start_time": "2023-06-06T15:43:58.499Z"
   },
   {
    "duration": 1081,
    "start_time": "2023-06-06T15:43:59.315Z"
   },
   {
    "duration": 173,
    "start_time": "2023-06-06T15:44:00.398Z"
   },
   {
    "duration": 155,
    "start_time": "2023-06-06T15:44:00.572Z"
   },
   {
    "duration": 139,
    "start_time": "2023-06-06T15:44:00.799Z"
   },
   {
    "duration": 150,
    "start_time": "2023-06-06T15:44:01.375Z"
   },
   {
    "duration": 715,
    "start_time": "2023-06-06T15:44:02.063Z"
   },
   {
    "duration": 195,
    "start_time": "2023-06-06T15:44:03.266Z"
   },
   {
    "duration": 7487,
    "start_time": "2023-06-06T15:44:03.823Z"
   },
   {
    "duration": 190,
    "start_time": "2023-06-06T15:44:11.312Z"
   },
   {
    "duration": 212,
    "start_time": "2023-06-06T15:44:11.504Z"
   },
   {
    "duration": 255,
    "start_time": "2023-06-06T15:44:11.718Z"
   },
   {
    "duration": 300,
    "start_time": "2023-06-06T15:44:11.978Z"
   },
   {
    "duration": 229,
    "start_time": "2023-06-06T15:44:12.279Z"
   },
   {
    "duration": 199,
    "start_time": "2023-06-06T15:44:12.510Z"
   },
   {
    "duration": 473,
    "start_time": "2023-06-06T15:44:12.711Z"
   },
   {
    "duration": 412,
    "start_time": "2023-06-06T15:44:13.186Z"
   },
   {
    "duration": 5,
    "start_time": "2023-06-06T15:44:13.600Z"
   },
   {
    "duration": 1651,
    "start_time": "2023-06-06T15:44:13.607Z"
   },
   {
    "duration": 212,
    "start_time": "2023-06-06T15:44:15.260Z"
   },
   {
    "duration": 194,
    "start_time": "2023-06-06T15:44:15.474Z"
   },
   {
    "duration": 16,
    "start_time": "2023-06-06T15:44:15.670Z"
   },
   {
    "duration": 9,
    "start_time": "2023-06-06T15:53:51.598Z"
   },
   {
    "duration": 9,
    "start_time": "2023-06-06T15:54:05.405Z"
   },
   {
    "duration": 8,
    "start_time": "2023-06-06T15:54:45.366Z"
   },
   {
    "duration": 9,
    "start_time": "2023-06-06T15:54:51.638Z"
   },
   {
    "duration": 9,
    "start_time": "2023-06-06T15:54:58.969Z"
   },
   {
    "duration": 11,
    "start_time": "2023-06-06T15:55:04.840Z"
   },
   {
    "duration": 8,
    "start_time": "2023-06-06T15:55:26.114Z"
   },
   {
    "duration": 8,
    "start_time": "2023-06-06T15:57:51.757Z"
   },
   {
    "duration": 190,
    "start_time": "2023-06-07T18:25:23.114Z"
   },
   {
    "duration": 98,
    "start_time": "2023-06-07T18:26:41.343Z"
   },
   {
    "duration": 78,
    "start_time": "2023-06-07T18:29:50.603Z"
   },
   {
    "duration": 96,
    "start_time": "2023-06-07T18:31:07.512Z"
   },
   {
    "duration": 100,
    "start_time": "2023-06-07T18:31:26.698Z"
   },
   {
    "duration": 94,
    "start_time": "2023-06-07T18:32:52.188Z"
   },
   {
    "duration": 1869,
    "start_time": "2023-06-08T10:32:11.708Z"
   },
   {
    "duration": 8,
    "start_time": "2023-06-08T10:32:13.579Z"
   },
   {
    "duration": 1250,
    "start_time": "2023-06-08T10:32:13.689Z"
   },
   {
    "duration": 44,
    "start_time": "2023-06-08T10:32:16.011Z"
   },
   {
    "duration": 14,
    "start_time": "2023-06-08T10:32:19.177Z"
   },
   {
    "duration": 7,
    "start_time": "2023-06-08T10:32:23.065Z"
   },
   {
    "duration": 256,
    "start_time": "2023-06-08T10:32:24.104Z"
   },
   {
    "duration": 160,
    "start_time": "2023-06-08T10:32:25.099Z"
   },
   {
    "duration": 178,
    "start_time": "2023-06-08T10:32:26.663Z"
   },
   {
    "duration": 174,
    "start_time": "2023-06-08T10:32:27.788Z"
   },
   {
    "duration": 276,
    "start_time": "2023-06-08T10:32:29.207Z"
   },
   {
    "duration": 159,
    "start_time": "2023-06-08T10:32:29.739Z"
   },
   {
    "duration": 10,
    "start_time": "2023-06-08T10:32:35.865Z"
   },
   {
    "duration": 127,
    "start_time": "2023-06-08T10:32:39.003Z"
   },
   {
    "duration": 14,
    "start_time": "2023-06-08T10:32:40.403Z"
   },
   {
    "duration": 253,
    "start_time": "2023-06-08T10:32:41.436Z"
   },
   {
    "duration": 22,
    "start_time": "2023-06-08T10:32:42.078Z"
   },
   {
    "duration": 15,
    "start_time": "2023-06-08T10:32:43.489Z"
   },
   {
    "duration": 11,
    "start_time": "2023-06-08T10:32:45.077Z"
   },
   {
    "duration": 1156,
    "start_time": "2023-06-08T10:32:54.668Z"
   },
   {
    "duration": 177,
    "start_time": "2023-06-08T10:32:55.840Z"
   },
   {
    "duration": 18,
    "start_time": "2023-06-08T10:33:36.758Z"
   },
   {
    "duration": 19,
    "start_time": "2023-06-08T10:39:54.399Z"
   },
   {
    "duration": 9,
    "start_time": "2023-06-08T10:40:19.257Z"
   },
   {
    "duration": 20,
    "start_time": "2023-06-08T10:40:49.728Z"
   },
   {
    "duration": 175,
    "start_time": "2023-06-08T10:40:54.412Z"
   },
   {
    "duration": 160,
    "start_time": "2023-06-08T10:40:55.727Z"
   },
   {
    "duration": 264,
    "start_time": "2023-06-08T10:40:58.236Z"
   },
   {
    "duration": 721,
    "start_time": "2023-06-08T10:41:01.620Z"
   },
   {
    "duration": 232,
    "start_time": "2023-06-08T10:41:08.439Z"
   },
   {
    "duration": 11146,
    "start_time": "2023-06-08T10:41:32.886Z"
   },
   {
    "duration": 226,
    "start_time": "2023-06-08T10:41:44.035Z"
   },
   {
    "duration": 205,
    "start_time": "2023-06-08T10:41:59.928Z"
   },
   {
    "duration": 392,
    "start_time": "2023-06-08T10:42:58.992Z"
   },
   {
    "duration": 418,
    "start_time": "2023-06-08T10:43:02.278Z"
   },
   {
    "duration": 259,
    "start_time": "2023-06-08T10:43:05.382Z"
   },
   {
    "duration": 309,
    "start_time": "2023-06-08T10:43:08.373Z"
   },
   {
    "duration": 390,
    "start_time": "2023-06-08T10:43:11.162Z"
   },
   {
    "duration": 420,
    "start_time": "2023-06-08T10:43:19.531Z"
   },
   {
    "duration": 429,
    "start_time": "2023-06-08T10:45:06.392Z"
   },
   {
    "duration": 6,
    "start_time": "2023-06-08T10:45:09.710Z"
   },
   {
    "duration": 1824,
    "start_time": "2023-06-08T10:45:10.769Z"
   },
   {
    "duration": 230,
    "start_time": "2023-06-08T10:45:12.596Z"
   },
   {
    "duration": 286,
    "start_time": "2023-06-08T10:45:12.936Z"
   },
   {
    "duration": 274,
    "start_time": "2023-06-08T10:52:39.774Z"
   },
   {
    "duration": 237,
    "start_time": "2023-06-08T10:53:10.796Z"
   },
   {
    "duration": 2280,
    "start_time": "2023-06-08T10:54:28.738Z"
   },
   {
    "duration": 233,
    "start_time": "2023-06-08T10:59:49.078Z"
   },
   {
    "duration": 16,
    "start_time": "2023-06-08T11:02:32.932Z"
   },
   {
    "duration": 208,
    "start_time": "2023-06-08T11:04:02.519Z"
   },
   {
    "duration": 218,
    "start_time": "2023-06-08T11:04:47.586Z"
   },
   {
    "duration": 201,
    "start_time": "2023-06-08T11:05:15.715Z"
   },
   {
    "duration": 158,
    "start_time": "2023-06-08T11:06:59.628Z"
   },
   {
    "duration": 144,
    "start_time": "2023-06-08T11:07:07.803Z"
   },
   {
    "duration": 211,
    "start_time": "2023-06-08T11:07:22.500Z"
   },
   {
    "duration": 197,
    "start_time": "2023-06-08T11:09:05.298Z"
   },
   {
    "duration": 171,
    "start_time": "2023-06-08T11:09:41.386Z"
   }
  ],
  "kernelspec": {
   "display_name": "Python 3 (ipykernel)",
   "language": "python",
   "name": "python3"
  },
  "language_info": {
   "codemirror_mode": {
    "name": "ipython",
    "version": 3
   },
   "file_extension": ".py",
   "mimetype": "text/x-python",
   "name": "python",
   "nbconvert_exporter": "python",
   "pygments_lexer": "ipython3",
   "version": "3.9.5"
  },
  "toc": {
   "base_numbering": 1,
   "nav_menu": {},
   "number_sections": true,
   "sideBar": true,
   "skip_h1_title": true,
   "title_cell": "Table of Contents",
   "title_sidebar": "Contents",
   "toc_cell": false,
   "toc_position": {},
   "toc_section_display": true,
   "toc_window_display": false
  }
 },
 "nbformat": 4,
 "nbformat_minor": 2
}
